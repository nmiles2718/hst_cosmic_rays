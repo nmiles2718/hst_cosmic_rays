{
 "cells": [
  {
   "cell_type": "markdown",
   "metadata": {},
   "source": [
    "## Cosmic Ray Parameters of interest\n",
    "<ol>\n",
    "    <li><a href=\"#total_energy\">Total energy per cosmic ray</a></li>\n",
    "    <li><a href=\"#cr_shape_size\">Size and shape of cosmic ray</a></li>\n",
    "    <li><a href=\"#normal_incidence\">Angle of incidence wrt the normal of the ccd chip</a></li>\n",
    "    <li><a href=\"#polar_angle\">Angle wrt to the longest axis of the ccd chip</a></li>\n",
    "    <li><a href=\"#cr_incidence\">Cosmic ray event rate (cr/sec)</a></li>\n",
    "</ol>"
   ]
  },
  {
   "cell_type": "code",
   "execution_count": null,
   "metadata": {},
   "outputs": [],
   "source": [
    "%matplotlib notebook\n",
    "from astropy.io import fits\n",
    "from astropy.visualization import LinearStretch, ZScaleInterval, SqrtStretch\n",
    "from astropy.visualization.mpl_normalize import ImageNormalize\n",
    "from mpl_toolkits.axes_grid1 import make_axes_locatable\n",
    "import datetime as dt\n",
    "import glob\n",
    "import matplotlib.pyplot as plt\n",
    "import matplotlib.patches as patches\n",
    "plt.style.use('ggplot')\n",
    "import numpy as np\n",
    "import pandas as pd\n",
    "from photutils.utils import random_cmap\n",
    "from scipy import ndimage\n",
    "import sys\n",
    "import time\n",
    "\n",
    "# Local modules\n",
    "from CosmicRayLabel import CosmicRayLabel\n",
    "from ComputeStats import ComputeStats"
   ]
  },
  {
   "cell_type": "code",
   "execution_count": null,
   "metadata": {
    "scrolled": true
   },
   "outputs": [],
   "source": [
    "fname = '../data/jd4yacw0q_flt.fits'\n",
    "with fits.open(fname) as hdu:\n",
    "    sci2 = hdu[1].data\n",
    "    dq2 = hdu[3].data\n",
    "    sci1 = hdu[4].data\n",
    "    dq1 = hdu[6].data\n",
    "dq = np.concatenate([dq2, dq1])\n",
    "sci = np.concatenate([sci2, sci1])\n",
    "print(dq.shape, sci.shape)\n",
    "\n",
    "# Initialize a scaling for plots of CR's\n",
    "norm = ImageNormalize(sci, stretch=LinearStretch(), interval=ZScaleInterval())"
   ]
  },
  {
   "cell_type": "markdown",
   "metadata": {},
   "source": [
    "<b>After successful testing, I incorporated the `CosmicRayLabel` class for labeling instead of using the commented code </b>"
   ]
  },
  {
   "cell_type": "code",
   "execution_count": null,
   "metadata": {},
   "outputs": [],
   "source": [
    "# label, num_feat = lc.get_label(dq, bit_flag=8192, structure_element = np.ones((3,3)))\n",
    "cr = CosmicRayLabel(fname)\n",
    "cr.get_data()\n",
    "cr.get_label()\n",
    "# print('The number of cosmic ray labels: {}'.format(num_feat))"
   ]
  },
  {
   "cell_type": "code",
   "execution_count": null,
   "metadata": {},
   "outputs": [],
   "source": [
    "num_cosmics = len(np.unique(cr.label.flatten())[1:])\n",
    "print('The number of cosmic ray labels after thresholding: {}'.format(num_cosmics))"
   ]
  },
  {
   "cell_type": "markdown",
   "metadata": {},
   "source": [
    "\n",
    "<hr style=\"height:3px;border:none;color:#333;background-color:#333;\" />"
   ]
  },
  {
   "cell_type": "markdown",
   "metadata": {},
   "source": [
    "<a id=\"total_energy\"></a>\n",
    "<h2>Total Energy Depoistion per Cosmic Ray </h2>\n",
    "<p>Use the label as a mask on the SCI array, loop through each unique label and recored the sum of the corresponding pixel in the SCI array</p>"
   ]
  },
  {
   "cell_type": "code",
   "execution_count": null,
   "metadata": {},
   "outputs": [],
   "source": [
    "def compute_total_cr_deposition_v1(label, sci):\n",
    "    \"\"\"Apply image label for a single chip to its corresponding science\n",
    "    extension.\n",
    "    \n",
    "    The label should already have had the size threshold applied, with\n",
    "    all CR smaller than threshold set to 0.\n",
    "    \n",
    "    Parameters\n",
    "    ----------\n",
    "    label -- image label with cr information\n",
    "    sci -- science extension\n",
    "\n",
    "    Returns\n",
    "    -------\n",
    "    data_per_pixel -- individual value of all pixels affected by CR\n",
    "    data_per_cr -- total signal deposited by CR\n",
    "\n",
    "    \"\"\"\n",
    "\n",
    "    unique_labels = np.unique(label)\n",
    "    cr_sum = ndimage.sum(sci, labels=label, index=unique_labels[1:])\n",
    "    cr_mean_energy = ndimage.mean(sci, labels=label, index=unique_labels[1:])\n",
    "    return cr_sum, cr_mean_energy"
   ]
  },
  {
   "cell_type": "code",
   "execution_count": null,
   "metadata": {},
   "outputs": [],
   "source": [
    "def compute_total_cr_deposition_v2(label, sci):\n",
    "    \"\"\"Apply image label for a single chip to its corresponding science\n",
    "    extension.\n",
    "    \n",
    "    The label should already have had the size threshold applied, with\n",
    "    all CR smaller than threshold set to 0.\n",
    "    \n",
    "    Parameters\n",
    "    ----------\n",
    "    label -- image label with cr information\n",
    "    sci -- science extension\n",
    "\n",
    "    Returns\n",
    "    -------\n",
    "    data_per_pixel -- individual value of all pixels affected by CR\n",
    "    data_per_cr -- total signal deposited by CR\n",
    "\n",
    "    \"\"\"\n",
    "\n",
    "    unique_labels = pd.Series(list(set(label.ravel())),name='cr_number')\n",
    "    sorted_labels = unique_labels.sort_values(axis=0)\n",
    "    # The first number will always be the background (i.e. 0)\n",
    "    data = []\n",
    "    for cr_num in sorted_labels[1:]:\n",
    "        data.append(sci[label==cr_num])\n",
    "    data_per_pixel = [a for datum in data for a in datum if a > 0]\n",
    "    data_per_cr = [datum.sum() for datum in data]\n",
    "    return data_per_pixel, data_per_cr"
   ]
  },
  {
   "cell_type": "code",
   "execution_count": null,
   "metadata": {
    "scrolled": false
   },
   "outputs": [],
   "source": [
    "%timeit compute_total_cr_deposition_v1(cr.label, sci)\n",
    "cr_sum, cr_mean_energy = compute_total_cr_deposition_v1(cr.label, sci)"
   ]
  },
  {
   "cell_type": "code",
   "execution_count": null,
   "metadata": {},
   "outputs": [],
   "source": [
    "start_time = time.time()\n",
    "data_per_pixel, data_per_cr = compute_total_cr_deposition_v2(cr.label, sci)\n",
    "end_time = time.time()\n",
    "print('Total elapsed time: {:.3f} mins'.format((end_time - start_time)/60))"
   ]
  },
  {
   "cell_type": "code",
   "execution_count": null,
   "metadata": {
    "scrolled": false
   },
   "outputs": [],
   "source": [
    "fig, ax = plt.subplots(1,1)\n",
    "data = ax.hist(np.log10(cr_sum),bins=50, range=(0,5))\n"
   ]
  },
  {
   "cell_type": "code",
   "execution_count": null,
   "metadata": {
    "scrolled": false
   },
   "outputs": [],
   "source": [
    "test = plt.hist(np.log10(data_per_cr),bins=50, range=(0,5))\n",
    "plt.show()"
   ]
  },
  {
   "cell_type": "markdown",
   "metadata": {},
   "source": [
    "<h3> Comparing the outputs </h3>\n",
    "- let a = average energy deposited by a cosmic ray found `compute_total_cr_deposition_v1`\n",
    "- let b = average energy deposited by a cosmic ray found `compute_total_cr_deposition_v2`\n",
    "\n",
    "If a and b do not satisfy $|a - b| < 10^{-3}$, then next cell will raise an assertion error.\n"
   ]
  },
  {
   "cell_type": "code",
   "execution_count": null,
   "metadata": {},
   "outputs": [],
   "source": [
    "print(np.mean(cr_sum), np.mean(data_per_cr))"
   ]
  },
  {
   "cell_type": "code",
   "execution_count": null,
   "metadata": {},
   "outputs": [],
   "source": [
    "assert np.isclose(np.mean(cr_sum), np.mean(data_per_cr), rtol=0, atol=1e-3)"
   ]
  },
  {
   "cell_type": "markdown",
   "metadata": {},
   "source": [
    "\n",
    "<h2>Results</h2>\n",
    "\n",
    "From the above work we see the two methods are equivalent in their results, however the `ndimage` implementation has a significant boost in performance taking fractions of the time that my custom implementation works. So moving forward we will work with the `ndimage` implemenation.\n",
    "\n",
    "<hr style=\"height:3px;border:none;color:#333;background-color:#333;\" />\n"
   ]
  },
  {
   "cell_type": "markdown",
   "metadata": {},
   "source": [
    "<a id=\"cr_shape_size\"></a>\n",
    "<h2>Size and Shape of Cosmic Ray</h2>"
   ]
  },
  {
   "cell_type": "markdown",
   "metadata": {},
   "source": [
    "- Supply the label of the cosmic ray to the function `ndimage.find_objects()` to generate the smallest box containing a each individual cosmic ray identified in the label. \n",
    "    - returns a `tuple` of `slice` objects\n",
    "    - First element is the `slice` along the row axis (y direction)\n",
    "    - Second element is the `slice` along the column axis (x direction)\n",
    "- Using the box, compute the moments of the cr distribution:\n",
    "<ol>\n",
    "    <li>$I_0 = \\sum_{i} p_i$</li>\n",
    "    <li>$I_x = \\frac{1}{I_0} \\sum_{i}p_i * x_i $</li>\n",
    "    <li>$I_y = \\frac{1}{I_0} \\sum_{i} p_i * y_i $</li>\n",
    "    <li>$I_{xx} = \\frac{1}{I_0} \\sum_{i}p_i(x_i - I_x)^2$</li>\n",
    "    <li>$I_{yy} = \\frac{1}{I_0} \\sum_{i}p_i(y_i - I_y)^2$</li>\n",
    "    <li>$I_{xy} = \\frac{1}{I_0} \\sum_{i}p_i(x_i - I_x)*(y_i - I_y)$</li>\n",
    "</ol>\n",
    "$$Size = \\sqrt{\\frac{I_{xx} + I_{yy}}{2}} $$\n",
    "<p></p>\n",
    "$$Anisotropy = \\sqrt{\\frac{(I_{xx} - I_{yy})^2 + 4I^2_{xy}}{(I_{xx} + I_{yy})^2}}$$"
   ]
  },
  {
   "cell_type": "code",
   "execution_count": null,
   "metadata": {},
   "outputs": [],
   "source": [
    "def compute_shape(label, sci):\n",
    "    cr_locs = ndimage.find_objects(label)\n",
    "    return cr_locs"
   ]
  },
  {
   "cell_type": "code",
   "execution_count": null,
   "metadata": {},
   "outputs": [],
   "source": [
    "sizes = np.bincount(cr.label.ravel())\n",
    "index = np.argmax(sizes[1:])\n",
    "print(index)\n"
   ]
  },
  {
   "cell_type": "code",
   "execution_count": null,
   "metadata": {},
   "outputs": [],
   "source": [
    "cr_locs = compute_shape(cr.label, sci)"
   ]
  },
  {
   "cell_type": "markdown",
   "metadata": {},
   "source": [
    "### Custom Center of Intensity Calculation"
   ]
  },
  {
   "cell_type": "code",
   "execution_count": null,
   "metadata": {
    "scrolled": false
   },
   "outputs": [],
   "source": [
    "edge_cr_index = 1977\n",
    "cr_locs[index]"
   ]
  },
  {
   "cell_type": "code",
   "execution_count": null,
   "metadata": {},
   "outputs": [],
   "source": [
    "tmp = cr_locs[index]\n",
    "y_slice = tmp[0]\n",
    "x_slice = tmp[1]\n",
    "print(y_slice.start, y_slice.stop)\n",
    "print(x_slice.start, x_slice.stop)"
   ]
  },
  {
   "cell_type": "code",
   "execution_count": null,
   "metadata": {},
   "outputs": [],
   "source": [
    "y_coords = np.linspace(y_slice.start, y_slice.stop, int(y_slice.stop - y_slice.start)+1)"
   ]
  },
  {
   "cell_type": "code",
   "execution_count": null,
   "metadata": {},
   "outputs": [],
   "source": [
    "y_coords"
   ]
  },
  {
   "cell_type": "code",
   "execution_count": null,
   "metadata": {},
   "outputs": [],
   "source": [
    "x_coords = np.linspace(x_slice.start, x_slice.stop, int(x_slice.stop - x_slice.start)+1)"
   ]
  },
  {
   "cell_type": "code",
   "execution_count": null,
   "metadata": {},
   "outputs": [],
   "source": [
    "x_coords"
   ]
  },
  {
   "cell_type": "code",
   "execution_count": null,
   "metadata": {},
   "outputs": [],
   "source": [
    "xx, yy = np.meshgrid(x_coords, y_coords)"
   ]
  },
  {
   "cell_type": "code",
   "execution_count": null,
   "metadata": {},
   "outputs": [],
   "source": [
    "print(xx.shape, xx.shape[0]*xx.shape[1])"
   ]
  },
  {
   "cell_type": "code",
   "execution_count": null,
   "metadata": {},
   "outputs": [],
   "source": [
    "xx"
   ]
  },
  {
   "cell_type": "code",
   "execution_count": null,
   "metadata": {},
   "outputs": [],
   "source": [
    "yy"
   ]
  },
  {
   "cell_type": "code",
   "execution_count": null,
   "metadata": {},
   "outputs": [],
   "source": [
    "# Create a list of all of the possible coordinate locations on the grid\n",
    "positions = np.vstack([yy.ravel(), xx.ravel()])"
   ]
  },
  {
   "cell_type": "code",
   "execution_count": null,
   "metadata": {
    "scrolled": true
   },
   "outputs": [],
   "source": [
    "grid_coords = list(zip(map(int, positions[0]), map(int, positions[1])))\n",
    "# for pos in grid_coords:\n",
    "#     print(pos[0], pos[1])"
   ]
  },
  {
   "cell_type": "code",
   "execution_count": null,
   "metadata": {},
   "outputs": [],
   "source": [
    "I_0 = ndimage.sum(sci, labels=cr.label, index=[index+1])[0]\n",
    "print(I_0)"
   ]
  },
  {
   "cell_type": "code",
   "execution_count": null,
   "metadata": {},
   "outputs": [],
   "source": [
    "I_x = 0\n",
    "I_y = 0\n",
    "cr_coords = []\n",
    "for r in grid_coords:\n",
    "    if cr.label[r[0]][r[1]] == index+1:\n",
    "#         print(sci[r[0]][r[1]])\n",
    "        I_x += sci[r[0]][r[1]] * r[1]\n",
    "        I_y += sci[r[0]][r[1]] * r[0]\n",
    "        cr_coords.append(r)"
   ]
  },
  {
   "cell_type": "code",
   "execution_count": null,
   "metadata": {},
   "outputs": [],
   "source": [
    "custom_cm = (I_y/I_0, I_x/I_0)"
   ]
  },
  {
   "cell_type": "code",
   "execution_count": null,
   "metadata": {},
   "outputs": [],
   "source": [
    "shifted_origin = (I_y/I_0 - y_slice.start, I_x/I_0 - x_slice.start)"
   ]
  },
  {
   "cell_type": "code",
   "execution_count": null,
   "metadata": {},
   "outputs": [],
   "source": [
    "print(custom_cm)\n",
    "print(shifted_origin)"
   ]
  },
  {
   "cell_type": "markdown",
   "metadata": {},
   "source": [
    "***"
   ]
  },
  {
   "cell_type": "code",
   "execution_count": null,
   "metadata": {},
   "outputs": [],
   "source": [
    "extrema = ndimage.extrema(sci, labels=cr.label, index=[index+1])"
   ]
  },
  {
   "cell_type": "code",
   "execution_count": null,
   "metadata": {
    "scrolled": true
   },
   "outputs": [],
   "source": [
    "extrema"
   ]
  },
  {
   "cell_type": "code",
   "execution_count": null,
   "metadata": {},
   "outputs": [],
   "source": [
    "min_pos = extrema[-2][0]\n",
    "max_pos = extrema[-1][0]"
   ]
  },
  {
   "cell_type": "code",
   "execution_count": null,
   "metadata": {},
   "outputs": [],
   "source": [
    "min_pos"
   ]
  },
  {
   "cell_type": "code",
   "execution_count": null,
   "metadata": {},
   "outputs": [],
   "source": [
    "min_pos1 = (min_pos[0] - y_slice.start,min_pos[1] - x_slice.start)\n",
    "max_pos1 = (max_pos[0] - y_slice.start, max_pos[1] - x_slice.start)"
   ]
  },
  {
   "cell_type": "code",
   "execution_count": null,
   "metadata": {},
   "outputs": [],
   "source": [
    "min_pos1"
   ]
  },
  {
   "cell_type": "code",
   "execution_count": null,
   "metadata": {},
   "outputs": [],
   "source": [
    "box_sci_slice = sci[cr_locs[index][0], cr_locs[index][1]]\n",
    "box_label_slice = cr.label[cr_locs[index][0], cr_locs[index][1]]"
   ]
  },
  {
   "cell_type": "code",
   "execution_count": null,
   "metadata": {},
   "outputs": [],
   "source": [
    "print(box_sci_slice[0][0], box_sci_slice[-1][0],box_sci_slice[0][-1],box_sci_slice[-1][-1])"
   ]
  },
  {
   "cell_type": "code",
   "execution_count": null,
   "metadata": {},
   "outputs": [],
   "source": [
    "def mk_patch(r_cm, c='red'):\n",
    "    CR_center = patches.Rectangle((r_cm[1]-0.5,r_cm[0]-0.5), \n",
    "                              width=1, height=1, \n",
    "                              alpha=1.0, fill=False,\n",
    "                              linewidth=1.75, color=c)\n",
    "    return CR_center"
   ]
  },
  {
   "cell_type": "code",
   "execution_count": null,
   "metadata": {},
   "outputs": [],
   "source": [
    "fig, (ax, ax1) = plt.subplots(1,2, sharex=True, sharey=True)\n",
    "ax.imshow(box_sci_slice, norm=norm, cmap='gray', origin='lower')\n",
    "ax1.imshow(box_label_slice, cmap=random_cmap(len(cr_locs)),origin='lower')\n",
    "patch1 = mk_patch(r_cm= shifted_origin ,c='red')\n",
    "patch2 = mk_patch(r_cm = max_pos1, c='green')\n",
    "ax.add_patch(patch1)\n",
    "ax.add_patch(patch2)"
   ]
  },
  {
   "cell_type": "code",
   "execution_count": null,
   "metadata": {},
   "outputs": [],
   "source": [
    "r_cm = ndimage.measurements.center_of_mass(sci, labels=cr.label, index=np.unique(cr.label)[1:])\n",
    "# r_cm = ndimage.measurements.center_of_mass(sci, labels=label, index=[index+1])\n",
    "print(len(r_cm))"
   ]
  },
  {
   "cell_type": "code",
   "execution_count": null,
   "metadata": {},
   "outputs": [],
   "source": [
    "# (row variable, column variable) <--> (y, x)\n",
    "# r_cm.append(custom_cm)\n",
    "# r_cm = list(r_cm[0])\n",
    "print(r_cm)"
   ]
  },
  {
   "cell_type": "code",
   "execution_count": null,
   "metadata": {},
   "outputs": [],
   "source": [
    "print(cr_locs[index+1])"
   ]
  },
  {
   "cell_type": "code",
   "execution_count": null,
   "metadata": {
    "scrolled": false
   },
   "outputs": [],
   "source": [
    "fig = plt.figure(figsize=(8,8))\n",
    "ax = fig.add_subplot(1,1,1)\n",
    "ax.imshow(sci, norm=norm, cmap='gray',origin='lower')\n",
    "\n",
    "for cm in r_cm[:1000]:\n",
    "    patch = mk_patch(cm)\n",
    "    ax.add_patch(patch)"
   ]
  },
  {
   "cell_type": "markdown",
   "metadata": {},
   "source": [
    "# Use CM to compute $I_{xx}$ and $I_{yy}$, then compute the size"
   ]
  },
  {
   "cell_type": "code",
   "execution_count": null,
   "metadata": {},
   "outputs": [],
   "source": [
    "def mk_grid(slice_tuple):\n",
    "    \"\"\"Build a meshgrid from a tuple of python slice objects\n",
    "\n",
    "    Parameters\n",
    "    ----------\n",
    "    slice_tuple\n",
    "\n",
    "    Returns\n",
    "    -------\n",
    "\n",
    "    \"\"\"\n",
    "    y_slice = slice_tuple[0]\n",
    "    x_slice = slice_tuple[1]\n",
    "\n",
    "\n",
    "    if int(x_slice.stop) == 4096:\n",
    "        print('Cosmic ray struck the edge!!!!!!!!!!!!')\n",
    "        y_coords = np.linspace(y_slice.start, y_slice.stop,\n",
    "                               int(y_slice.stop - y_slice.start)+1)\n",
    "\n",
    "        x_coords = np.linspace(x_slice.start, x_slice.stop,\n",
    "                               int(x_slice.stop - x_slice.start)+1,\n",
    "                               endpoint=False)\n",
    "\n",
    "    elif int(y_slice.stop)  == 4096:\n",
    "        print('Cosmic ray struck the edge!!!!!!!!!!!!')\n",
    "        y_coords = np.linspace(y_slice.start, y_slice.stop,\n",
    "                               int(y_slice.stop - y_slice.start)+1,\n",
    "                               endpoint=False)\n",
    "        x_coords = np.linspace(x_slice.start, x_slice.stop,\n",
    "                               int(x_slice.stop - x_slice.start)+1)\n",
    "\n",
    "    else:\n",
    "        y_coords = np.linspace(y_slice.start, y_slice.stop,\n",
    "                               int(y_slice.stop - y_slice.start) + 1)\n",
    "\n",
    "        x_coords = np.linspace(x_slice.start, x_slice.stop,\n",
    "                               int(x_slice.stop - x_slice.start) + 1)\n",
    "\n",
    "    xx, yy = np.meshgrid(x_coords, y_coords)\n",
    "    positions = np.vstack([yy.ravel(), xx.ravel()])\n",
    "    grid_coords = list(zip(map(int, positions[0]), map(int, positions[1])))\n",
    "\n",
    "    return grid_coords"
   ]
  },
  {
   "cell_type": "code",
   "execution_count": null,
   "metadata": {},
   "outputs": [],
   "source": [
    "def compute_first_moment(label, sci):\n",
    "    \"\"\"\n",
    "\n",
    "    Parameters\n",
    "    ----------\n",
    "    sci\n",
    "    label\n",
    "\n",
    "    Returns\n",
    "    -------\n",
    "\n",
    "    \"\"\"\n",
    "    r_cm = ndimage.measurements.center_of_mass(sci,\n",
    "                                               labels=label,\n",
    "                                               index=np.unique(label)[1:])\n",
    "    print(len(r_cm))\n",
    "    return r_cm\n",
    "\n",
    "\n",
    "def compute_second_moment(I_0, sci, label, I_ci, grid_coords, index):\n",
    "    \"\"\"\n",
    "\n",
    "    Parameters\n",
    "    ----------\n",
    "    I_0\n",
    "    p_i\n",
    "    r_i\n",
    "    I_ci\n",
    "\n",
    "    Returns\n",
    "    -------\n",
    "\n",
    "    \"\"\"\n",
    "    second_moment = [0,0]\n",
    "    for r_i in grid_coords:\n",
    "        if label[r_i[0]][r_i[1]] == index:\n",
    "            second_moment += (1/I_0) * sci[r_i[0]][r_i[1]] * (np.asarray(r_i) - np.asarray(I_ci))**2\n",
    "\n",
    "    return np.asarray(second_moment)\n"
   ]
  },
  {
   "cell_type": "code",
   "execution_count": null,
   "metadata": {},
   "outputs": [],
   "source": [
    "grid_coords = mk_grid(cr_locs[index])"
   ]
  },
  {
   "cell_type": "code",
   "execution_count": null,
   "metadata": {},
   "outputs": [],
   "source": [
    "grid_coords"
   ]
  },
  {
   "cell_type": "code",
   "execution_count": null,
   "metadata": {},
   "outputs": [],
   "source": [
    "I_0 = ndimage.sum(sci, labels=cr.label, index=[index+1])[0]\n",
    "print(I_0)\n",
    "second_moment = compute_second_moment(I_0, sci, cr.label, r_cm[index+1],\n",
    "                                      grid_coords, index+1)"
   ]
  },
  {
   "cell_type": "code",
   "execution_count": null,
   "metadata": {},
   "outputs": [],
   "source": [
    "np.sqrt(second_moment.sum()/2)"
   ]
  },
  {
   "cell_type": "code",
   "execution_count": null,
   "metadata": {
    "scrolled": true
   },
   "outputs": [],
   "source": [
    "I_0 = ndimage.sum(sci, labels=cr.label, index=[index+1])[0]\n",
    "I_yy = 0\n",
    "I_xx = 0\n",
    "for r in grid_coords:\n",
    "    if label[r[0]][r[1]] == index+1:\n",
    "#         print(sci[r[0]][r[1]])\n",
    "        I_xx += compute_I_xx(I_0, sci[r[0]][[r[1]]], r[1], r_cm[0][1])\n",
    "        I_yy += compute_I_yy(I_0, sci[r[0]][[r[1]]], r[0], r_cm[0][0])\n",
    "        "
   ]
  },
  {
   "cell_type": "markdown",
   "metadata": {},
   "source": [
    "### Computing the $I_{xy}$\n",
    "$I_{xy} = \\frac{1}{I_0} \\sum_{i}p_i(x_i - I_x)*(y_i - I_y)$"
   ]
  },
  {
   "cell_type": "code",
   "execution_count": null,
   "metadata": {},
   "outputs": [],
   "source": [
    "def compute_cross_moment(I_0, sci, label, I_ci, grid_coords, index):\n",
    "    I_xy = 0\n",
    "    for r_i in grid_coords:\n",
    "        if label[r_i[0]][r_i[1]] == index:\n",
    "            I_xy += (1/I_0) * sci[r_i[0]][r_i[1]] * (r_i[0] - I_ci[0]) * (r_i[1] - I_ci[1])\n",
    "    return I_xy"
   ]
  },
  {
   "cell_type": "markdown",
   "metadata": {},
   "source": [
    "### Testing computation of sizes"
   ]
  },
  {
   "cell_type": "code",
   "execution_count": null,
   "metadata": {},
   "outputs": [],
   "source": [
    "I_0 = ndimage.sum(sci, labels=label, index=[index])[0]"
   ]
  },
  {
   "cell_type": "code",
   "execution_count": null,
   "metadata": {},
   "outputs": [],
   "source": [
    "grid_coords = cs.mk_grid(cr_locs[index-1])"
   ]
  },
  {
   "cell_type": "code",
   "execution_count": null,
   "metadata": {},
   "outputs": [],
   "source": [
    "grid_coords"
   ]
  },
  {
   "cell_type": "code",
   "execution_count": null,
   "metadata": {},
   "outputs": [],
   "source": [
    "cross_momements = compute_cross_moment(I_0, sci, label, r_cm[0],grid_coords, index+1)"
   ]
  },
  {
   "cell_type": "code",
   "execution_count": null,
   "metadata": {},
   "outputs": [],
   "source": [
    "R_cm = cs.compute_first_moment(label, sci)"
   ]
  },
  {
   "cell_type": "code",
   "execution_count": null,
   "metadata": {},
   "outputs": [],
   "source": [
    "len(R_cm)"
   ]
  },
  {
   "cell_type": "code",
   "execution_count": null,
   "metadata": {},
   "outputs": [],
   "source": [
    "cr_locs = ndimage.find_objects(label)\n",
    "cr_locs = [cr for cr in cr_locs if cr is not None]"
   ]
  },
  {
   "cell_type": "code",
   "execution_count": null,
   "metadata": {},
   "outputs": [],
   "source": [
    "cr_deposition = cs.compute_total_cr_deposition_v1(label, sci)"
   ]
  },
  {
   "cell_type": "code",
   "execution_count": null,
   "metadata": {},
   "outputs": [],
   "source": [
    "len(R_cm), len(cr_deposition), len(cr_locs), len(np.unique(label)[1:])"
   ]
  },
  {
   "cell_type": "code",
   "execution_count": null,
   "metadata": {
    "scrolled": true
   },
   "outputs": [],
   "source": [
    "sizes = {}\n",
    "second_moments = {}\n",
    "loop_obj = zip(np.unique(label)[1:], R_cm, cr_deposition, cr_locs)\n",
    "for int_id, r_cm, I_0, loc in loop_obj:\n",
    "    grid_coords = cs.mk_grid(loc)\n",
    "    second_moment = cs.compute_second_moment(I_0, sci, label,\n",
    "                                              r_cm, grid_coords, int_id)\n",
    "    second_moments[int_id] = second_moment\n",
    "    sizes[int_id] = np.sqrt(second_moment.sum()/2)"
   ]
  },
  {
   "cell_type": "code",
   "execution_count": null,
   "metadata": {},
   "outputs": [],
   "source": [
    "cosmic_ray_sizes = list(sizes.values())"
   ]
  },
  {
   "cell_type": "code",
   "execution_count": null,
   "metadata": {},
   "outputs": [],
   "source": [
    "np.max(cosmic_ray_sizes)"
   ]
  },
  {
   "cell_type": "code",
   "execution_count": null,
   "metadata": {
    "scrolled": true
   },
   "outputs": [],
   "source": [
    "cross_moments = {}\n",
    "loop_obj = zip(np.unique(label)[1:], R_cm, cr_deposition, cr_locs)\n",
    "for int_id, r_cm, I_0, loc in loop_obj:\n",
    "    grid_coords = cs.mk_grid(loc)\n",
    "    cross_moment = compute_cross_moment(I_0, sci, label, r_cm, grid_coords, int_id)\n",
    "    cross_moments[int_id] = cross_moment\n",
    "    "
   ]
  },
  {
   "cell_type": "code",
   "execution_count": null,
   "metadata": {},
   "outputs": [],
   "source": [
    "print(cross_moments[index],second_moments[index])\n",
    "index"
   ]
  },
  {
   "cell_type": "markdown",
   "metadata": {},
   "source": [
    "$$Anisotropy = \\sqrt{\\frac{(I_{xx} - I_{yy})^2 + 4I^2_{xy}}{(I_{xx} + I_{yy})^2}}$$\n"
   ]
  },
  {
   "cell_type": "code",
   "execution_count": null,
   "metadata": {},
   "outputs": [],
   "source": [
    "def compute_anistropy(second_moments, cross_moment):\n",
    "    return np.sqrt(((second_moments[0] - second_moments[1])**2 + 4*cross_moment**2)/(second_moment.sum())**2)"
   ]
  },
  {
   "cell_type": "code",
   "execution_count": null,
   "metadata": {},
   "outputs": [],
   "source": [
    "compute_anistropy(second_moments[index+1], cross_moments[index+1])"
   ]
  },
  {
   "cell_type": "markdown",
   "metadata": {},
   "source": [
    "<h2>Results</h2>\n",
    "\n",
    "From the above test we see that the centroiding calculation works great, and all of the higher order moment can be readilty calculated building on the zeroth, first, and second moments. All of the code written here has been implemented in a class `ComputeStats()`\n",
    "\n",
    "<hr style=\"height:3px;border:none;color:#333;background-color:#333;\" />"
   ]
  },
  {
   "cell_type": "markdown",
   "metadata": {},
   "source": [
    "<a id=\"normal_incidence\"></a>\n",
    "<h2>Angle of incidence wrt to plane of CCD</h2>\n",
    "<p> The idea here is to use a thickness map of the CCD to compute the angle of incidence of the cosmic ray. By counting up the number of pixels the cosmic ray has traversed, we can use the average thickness ($\\Delta z$) of the detector and the average pixel size ($\\overline{s}$) to solve for theta:</p>\n",
    "$$ tan(\\theta)=\\frac{\\Delta z}{n_{pix}*\\overline{s}}$$\n",
    "\n"
   ]
  },
  {
   "cell_type": "code",
   "execution_count": null,
   "metadata": {},
   "outputs": [],
   "source": []
  },
  {
   "cell_type": "markdown",
   "metadata": {},
   "source": [
    "<a id=\"polar_angle\"></a>\n",
    "<h2> Polar angle wrt to defined CCD axis</h2>\n",
    "<p>The idea here is to use the results returned by `find_objects` to compute the angle between the CCD axes"
   ]
  },
  {
   "cell_type": "code",
   "execution_count": null,
   "metadata": {},
   "outputs": [],
   "source": []
  }
 ],
 "metadata": {
  "kernelspec": {
   "display_name": "Python 3",
   "language": "python",
   "name": "python3"
  },
  "language_info": {
   "codemirror_mode": {
    "name": "ipython",
    "version": 3
   },
   "file_extension": ".py",
   "mimetype": "text/x-python",
   "name": "python",
   "nbconvert_exporter": "python",
   "pygments_lexer": "ipython3",
   "version": "3.6.6"
  }
 },
 "nbformat": 4,
 "nbformat_minor": 2
}
