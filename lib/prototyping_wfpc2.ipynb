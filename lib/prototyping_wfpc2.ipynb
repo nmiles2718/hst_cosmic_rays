{
 "cells": [
  {
   "cell_type": "code",
   "execution_count": null,
   "metadata": {},
   "outputs": [],
   "source": [
    "%load_ext autoreload\n",
    "%autoreload 2\n",
    "%matplotlib notebook\n",
    "import glob\n",
    "from astropy.io import fits\n",
    "from astropy.convolution import Gaussian2DKernel\n",
    "from astropy.stats import gaussian_fwhm_to_sigma\n",
    "from astropy.stats import sigma_clipped_stats\n",
    "from astropy.visualization import ImageNormalize, LogStretch, ZScaleInterval\n",
    "import numpy as np\n",
    "\n",
    "\n",
    "from ComputeStats import ComputeStats\n",
    "from CosmicRayLabel import CosmicRayLabel\n",
    "import matplotlib.pyplot as plt\n",
    "\n",
    "from scipy import ndimage\n",
    "from matplotlib import colors\n",
    "from matplotlib.patches import Rectangle, Circle\n",
    "from photutils import detect_sources, detect_threshold\n",
    "from photutils import detection\n",
    "from photutils import source_properties, deblend_sources"
   ]
  },
  {
   "cell_type": "code",
   "execution_count": null,
   "metadata": {},
   "outputs": [],
   "source": [
    " def get_data(fname):\n",
    "        \"\"\" Grab the SCI extensions from fits file\n",
    "        \"\"\"\n",
    "        pc = ('sci', 1) # Chip 2\n",
    "        wf2 = ('sci', 2) # Chip 1\n",
    "        wf3 = ('sci', 3)\n",
    "        wf4 = ('sci', 4)\n",
    "        detector_data = []\n",
    "        with fits.open(fname) as hdu:\n",
    "            for ext in [pc, wf2, wf3, wf4]:\n",
    "                try:\n",
    "                    ext = hdu.index_of(ext)\n",
    "                    ext_data = hdu[ext].data\n",
    "                except KeyError:\n",
    "                    print('{1} is missing for {0}'.format(fname, ext))\n",
    "                    ext1 = None\n",
    "                else:\n",
    "                    detector_data.append(ext_data)\n",
    "        # If second ext is missing, only work with the first\n",
    "        # Otherwise combine each DQ ext to make full-frame\n",
    "\n",
    "        return detector_data\n",
    "    "
   ]
  },
  {
   "cell_type": "code",
   "execution_count": null,
   "metadata": {},
   "outputs": [],
   "source": [
    "def find_sources(fname, deblend=False):\n",
    "    \"\"\" \n",
    "    Generate segmentation map\n",
    "    \"\"\"\n",
    "    sci_data = get_data(fname)\n",
    "    \n",
    "    # Generate a detection threshold for the segmentation mapping, we want everything with SNR higher than 5\n",
    "    threshold = detect_threshold(sci_data[0], snr=5.)\n",
    "    \n",
    "    # Generate a kernel for use in the segmentation mapping, normalize it's value to 1\n",
    "    sigma = 1 * gaussian_fwhm_to_sigma # convert FWHM of 2.75 pix to sigma\n",
    "    kernel = Gaussian2DKernel(sigma, x_size=3, y_size=3)\n",
    "    kernel.normalize()\n",
    "    data_list, segm_list = [], []\n",
    "    for data in sci_data:\n",
    "    # Find sources\n",
    "        mean, median, std = sigma_clipped_stats(data, sigma_lower = 3, sigma_upper= 2)\n",
    "        print('mean: {}, median: {}, std: {}'.format(mean, median, std))\n",
    "        segm = detect_sources(data-median,\n",
    "                          threshold=median+5*std,\n",
    "                          npixels=4,\n",
    "                          filter_kernel=kernel,\n",
    "                          connectivity=8)\n",
    "        \n",
    "        \n",
    "        if deblend:\n",
    "            # Deblened sources\n",
    "            print('deblending')\n",
    "            try:\n",
    "                segm_deblend = deblend_sources(sci_data[0],\n",
    "                                           segm.data,\n",
    "                                           npixels=4,\n",
    "                                           nlevels=32,\n",
    "                                           filter_kernel=kernel,\n",
    "                                           contrast=0.1,\n",
    "                                           connectivity=8,\n",
    "                                          )\n",
    "            except ValueError:\n",
    "                pass\n",
    "            else:\n",
    "                segm = segm_deblend\n",
    "#         return sci_data[0], segm_deblend\n",
    "        segm_list.append(segm)\n",
    "        data_list.append(data)\n",
    "    return data_list, segm_list\n",
    "\n"
   ]
  },
  {
   "cell_type": "code",
   "execution_count": null,
   "metadata": {},
   "outputs": [],
   "source": [
    "flist = glob.glob('../crrejtab/WFPC2/mastDownload/HST/*/*c0m.fits')"
   ]
  },
  {
   "cell_type": "code",
   "execution_count": null,
   "metadata": {},
   "outputs": [],
   "source": [
    "\n",
    "f_1000 = []\n",
    "t_exptime = []\n",
    "for f in flist:\n",
    "    t = fits.getval(f, 'exptime')\n",
    "    if t > 1000:\n",
    "        f_1000.append(f)\n",
    "        t_exptime.append(t)"
   ]
  },
  {
   "cell_type": "code",
   "execution_count": null,
   "metadata": {},
   "outputs": [],
   "source": [
    "fname1 = f_1000[0]\n",
    "fname2 = f_1000[1]"
   ]
  },
  {
   "cell_type": "code",
   "execution_count": null,
   "metadata": {},
   "outputs": [],
   "source": [
    "data1_list, segm1_list = find_sources(fname1, deblend=False)"
   ]
  },
  {
   "cell_type": "code",
   "execution_count": null,
   "metadata": {},
   "outputs": [],
   "source": [
    "data2_list, segm2_list = find_sources(fname2, deblend=False)"
   ]
  },
  {
   "cell_type": "code",
   "execution_count": null,
   "metadata": {},
   "outputs": [],
   "source": [
    "high_val = np.where(data1_list[0] > 4.160646625864344 + 5*1.1595283054779255, 1, 0)"
   ]
  },
  {
   "cell_type": "code",
   "execution_count": null,
   "metadata": {},
   "outputs": [],
   "source": [
    "high_val.shape"
   ]
  },
  {
   "cell_type": "code",
   "execution_count": null,
   "metadata": {},
   "outputs": [],
   "source": [
    "cmap = colors.ListedColormap(['black', 'white'])"
   ]
  },
  {
   "cell_type": "code",
   "execution_count": null,
   "metadata": {},
   "outputs": [],
   "source": [
    "threshold=2"
   ]
  },
  {
   "cell_type": "code",
   "execution_count": null,
   "metadata": {},
   "outputs": [],
   "source": [
    "label, num_feat = ndimage.label(high_val,structure=np.ones((3,3)))\n",
    "print('Found {} objects'.format(num_feat))\n",
    "cr_labels = label.ravel()  # Returns a flattened label\n",
    "# Count up the number of pixels associated with each unique label\n",
    "sizes = np.bincount(cr_labels)\n",
    "arg_max = np.argmax(sizes)\n",
    "sizes[arg_max] = 0\n",
    "large_CRs = sizes > threshold\n",
    "\n",
    "# Create a 2-D mask from the 1-D array of large cosmic rays, and set all\n",
    "# labels of cosmic rays smaller than threshold to 0 so they are ignored.\n",
    "label_mask = large_CRs[label]\n",
    "high_val[~label_mask] = 0\n",
    "label, num_feat = ndimage.label(high_val,\n",
    "                                     structure=np.ones((3,3)))\n",
    "print('After thresholding there are {} objects'.format(num_feat))"
   ]
  },
  {
   "cell_type": "code",
   "execution_count": null,
   "metadata": {},
   "outputs": [],
   "source": [
    "fig, axes = plt.subplots(nrows=2, ncols=2, sharex=True, sharey=True, figsize=(6,6))\n",
    "norm = ImageNormalize(data1_list[0], stretch=LogStretch(), vmin=0, vmax=500)\n",
    "\n",
    "axes[0, 0].imshow(data1_list[0], norm=norm, cmap='gray', origin='lower')\n",
    "# axes[0, 1].imshow(segm1_list[0].data, origin='lower', cmap=segm1_list[0].cmap(random_state=1245))\n",
    "axes[0, 1].imshow(data1_list[1], norm=norm, cmap='gray', origin='lower')\n",
    "\n",
    "axes[1, 0].imshow(data1_list[2], norm=norm, cmap='gray', origin='lower')\n",
    "# axes[1, 1].imshow(high_val, origin='lower', cmap=cmap)\n",
    "axes[1, 1].imshow(data1_list[3], norm=norm, cmap='gray', origin='lower')\n",
    "axes[0, 0].set_xlim(460, 470)\n",
    "axes[0, 0].set_ylim(415, 430)"
   ]
  },
  {
   "cell_type": "code",
   "execution_count": null,
   "metadata": {},
   "outputs": [],
   "source": [
    "len(np.unique(segm1_list[0].data))/t_exptime[0]"
   ]
  },
  {
   "cell_type": "code",
   "execution_count": null,
   "metadata": {},
   "outputs": [],
   "source": [
    "len(np.unique(label))/t_exptime[0]"
   ]
  },
  {
   "cell_type": "code",
   "execution_count": null,
   "metadata": {},
   "outputs": [],
   "source": [
    "from ComputeStats import ComputeStats\n",
    "from CosmicRayLabel import CosmicRayLabel"
   ]
  },
  {
   "cell_type": "code",
   "execution_count": null,
   "metadata": {},
   "outputs": [],
   "source": [
    "label_obj = CosmicRayLabel(fname1)\n",
    "label_obj.label_wfpc2_data()"
   ]
  },
  {
   "cell_type": "code",
   "execution_count": null,
   "metadata": {},
   "outputs": [],
   "source": [
    "stats_obj = ComputeStats(fname1, label, label_obj.sci[1], label_obj.integration_time)"
   ]
  },
  {
   "cell_type": "code",
   "execution_count": null,
   "metadata": {},
   "outputs": [],
   "source": [
    "affected_tmp, rate_tmp, sizes_tmp, shapes_tmp, deposition_tmp = stats_obj.compute_stats(threshold=True)"
   ]
  },
  {
   "cell_type": "code",
   "execution_count": null,
   "metadata": {},
   "outputs": [],
   "source": [
    "fig, axes = plt.subplots(nrows=2, ncols=2, sharex=True, sharey=True, figsize=(6,6))\n",
    "norm = ImageNormalize(label_obj.sci[1], stretch=LogStretch(), vmin=0, vmax=500)\n",
    "\n",
    "axes[0, 0].imshow(label_obj.sci[1], norm=norm, cmap='gray', origin='lower')\n",
    "axes[0, 1].imshow(label, origin='lower', cmap=segm1_list[1].cmap(random_state=1245))\n",
    "\n",
    "axes[1, 0].imshow(data1_list[1], norm=norm, cmap='gray', origin='lower')\n",
    "axes[1, 1].imshow(segm1_list[1].data, origin='lower', cmap=segm1_list[1].cmap(random_state=1245))"
   ]
  },
  {
   "cell_type": "code",
   "execution_count": null,
   "metadata": {},
   "outputs": [],
   "source": []
  }
 ],
 "metadata": {
  "kernelspec": {
   "display_name": "Python 3",
   "language": "python",
   "name": "python3"
  },
  "language_info": {
   "codemirror_mode": {
    "name": "ipython",
    "version": 3
   },
   "file_extension": ".py",
   "mimetype": "text/x-python",
   "name": "python",
   "nbconvert_exporter": "python",
   "pygments_lexer": "ipython3",
   "version": "3.6.6"
  }
 },
 "nbformat": 4,
 "nbformat_minor": 2
}
