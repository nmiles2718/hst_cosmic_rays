{
 "cells": [
  {
   "cell_type": "markdown",
   "metadata": {},
   "source": [
    "### The goal of this notebook is to demonstrate the following:\n",
    "- programmatic query of calibration files for any of the active instruments\n",
    "- using the results, chunk all of the darks into sets of darks covering a ~30 day period\n",
    "    - these chunks of darks will then be combined to reject cosmic rays\n",
    "    - For the time being I will **ignore** anneal boundaries. All cosmic rays affecting only a few pixels are rejected and so any hot pixels that are cured will be ignored across the anneal boundary will be removed\n",
    "#### Author: Nate Miles"
   ]
  },
  {
   "cell_type": "code",
   "execution_count": null,
   "metadata": {},
   "outputs": [],
   "source": [
    "from astroquery.mast import Observations\n",
    "from collections import defaultdict\n",
    "from astropy.time import Time\n",
    "import pandas as pd"
   ]
  },
  {
   "cell_type": "markdown",
   "metadata": {},
   "source": [
    "- Originally, I was querying for every single dark every taken, then I was filtering that table by extension and date of observations.\n",
    "\n",
    "- Instead, I should be filtering by date beforehand to get a much smaller table and then filter that table by extension to get only the RAW and SPT dataproducts\n",
    "\n",
    "- In order to acheive this in a generalized manner without having to hard code dates, I will query for all darks, sort by date and then extract the first and last values to get the start and stop times"
   ]
  },
  {
   "cell_type": "code",
   "execution_count": null,
   "metadata": {},
   "outputs": [],
   "source": [
    "#Observations.enable_s3_hst_dataset()"
   ]
  },
  {
   "cell_type": "code",
   "execution_count": null,
   "metadata": {},
   "outputs": [],
   "source": [
    "obsTable = Observations.query_criteria(project='HST',\n",
    "                                      instrument_name = 'WFPC2/WFC',\n",
    "                                      obstype='cal',\n",
    "                                      target_name = 'DARK')\n",
    "df = obsTable.to_pandas()"
   ]
  },
  {
   "cell_type": "code",
   "execution_count": null,
   "metadata": {},
   "outputs": [],
   "source": [
    "df.info()"
   ]
  },
  {
   "cell_type": "code",
   "execution_count": null,
   "metadata": {},
   "outputs": [],
   "source": [
    "df.head()\n"
   ]
  },
  {
   "cell_type": "code",
   "execution_count": null,
   "metadata": {},
   "outputs": [],
   "source": [
    "start = Time(min(obsTable['t_min']), format='mjd')\n",
    "stop = Time(max(obsTable['t_min']), format='mjd')\n",
    "print(start.iso, stop.iso)\n",
    "# very roundabout way of generating a list of MJD dates separated by a month\n",
    "dates = pd.date_range(start=start.iso, end=stop.iso, freq='1MS')\n",
    "\n",
    "dates = [Time(date.date().isoformat(),format='iso') for date in dates]"
   ]
  },
  {
   "cell_type": "code",
   "execution_count": null,
   "metadata": {},
   "outputs": [],
   "source": [
    "dates"
   ]
  },
  {
   "cell_type": "code",
   "execution_count": null,
   "metadata": {},
   "outputs": [],
   "source": [
    "date_ranges = zip(dates[::2], dates[1::2])"
   ]
  },
  {
   "cell_type": "code",
   "execution_count": null,
   "metadata": {},
   "outputs": [],
   "source": [
    "dates = next(date_ranges)"
   ]
  },
  {
   "cell_type": "code",
   "execution_count": null,
   "metadata": {},
   "outputs": [],
   "source": [
    "obsTable = Observations.query_criteria(project='HST',\n",
    "                                      instrument_name='WFPC2/WFC',\n",
    "                                      obstype ='cal',\n",
    "                                      target_name='DARK',\n",
    "                                      t_min=[dates[0].mjd, dates[1].mjd],\n",
    "                                      t_exptime=[800, 2000])"
   ]
  },
  {
   "cell_type": "code",
   "execution_count": null,
   "metadata": {},
   "outputs": [],
   "source": [
    "products = Observations.get_product_list(obsTable)"
   ]
  },
  {
   "cell_type": "code",
   "execution_count": null,
   "metadata": {},
   "outputs": [],
   "source": [
    "products"
   ]
  },
  {
   "cell_type": "code",
   "execution_count": null,
   "metadata": {},
   "outputs": [],
   "source": [
    "products.columns"
   ]
  },
  {
   "cell_type": "code",
   "execution_count": null,
   "metadata": {},
   "outputs": [],
   "source": [
    "filtered_products = Observations.filter_products(products,\n",
    "                                                 mrp_only=False,\n",
    "                                                 productSubGroupDescription=['D0M','D1M'])"
   ]
  },
  {
   "cell_type": "code",
   "execution_count": null,
   "metadata": {},
   "outputs": [],
   "source": [
    "filtered_products\n"
   ]
  },
  {
   "cell_type": "code",
   "execution_count": null,
   "metadata": {
    "scrolled": true
   },
   "outputs": [],
   "source": [
    "filtered_products.columns"
   ]
  },
  {
   "cell_type": "code",
   "execution_count": null,
   "metadata": {},
   "outputs": [],
   "source": [
    "download_list = filtered_products['obsID'].tolist()"
   ]
  },
  {
   "cell_type": "code",
   "execution_count": null,
   "metadata": {},
   "outputs": [],
   "source": [
    "download_list"
   ]
  },
  {
   "cell_type": "code",
   "execution_count": null,
   "metadata": {},
   "outputs": [],
   "source": [
    "manifest = Observations.download_products(download_list[:10],\n",
    "                                          download_dir='./../crrejtab/WFPC2/',\n",
    "                                          mrp_only=False,\n",
    "                                         productSubGroupDescription=['D0M','D1M'])"
   ]
  },
  {
   "cell_type": "code",
   "execution_count": null,
   "metadata": {},
   "outputs": [],
   "source": []
  }
 ],
 "metadata": {
  "kernelspec": {
   "display_name": "Python 3",
   "language": "python",
   "name": "python3"
  },
  "language_info": {
   "codemirror_mode": {
    "name": "ipython",
    "version": 3
   },
   "file_extension": ".py",
   "mimetype": "text/x-python",
   "name": "python",
   "nbconvert_exporter": "python",
   "pygments_lexer": "ipython3",
   "version": "3.6.6"
  }
 },
 "nbformat": 4,
 "nbformat_minor": 2
}
