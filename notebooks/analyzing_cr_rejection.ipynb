{
 "cells": [
  {
   "cell_type": "code",
   "execution_count": 3,
   "metadata": {},
   "outputs": [],
   "source": [
    "%matplotlib widget\n",
    "import glob\n",
    "import os\n",
    "from mpl_toolkits.axes_grid1 import make_axes_locatable\n",
    "\n",
    "from astropy.io import fits\n",
    "from astropy.stats import sigma_clipped_stats\n",
    "from astropy.visualization import ImageNormalize, SqrtStretch, LogStretch, LinearStretch, ZScaleInterval, ManualInterval\n",
    "import ipywidgets as widgets\n",
    "from ipywidgets import interact, fixed, interactive, VBox, HBox\n",
    "import matplotlib.colors as colors\n",
    "import matplotlib.pyplot as plt\n",
    "import matplotlib.patches as patches\n",
    "from matplotlib.ticker import (MultipleLocator, FormatStrFormatter,\n",
    "                               AutoMinorLocator)\n",
    "from matplotlib import ticker\n",
    "# plt.style.use('dark_background')\n",
    "plt.style.use('ggplot')\n",
    "\n",
    "import numpy as np"
   ]
  },
  {
   "cell_type": "code",
   "execution_count": 4,
   "metadata": {},
   "outputs": [],
   "source": [
    "_BASE = '/Users/nmiles/hst_cosmic_rays/analyzing_cr_rejection/'"
   ]
  },
  {
   "cell_type": "code",
   "execution_count": 5,
   "metadata": {},
   "outputs": [],
   "source": [
    "img_to_compare = 'odvbbpa5q_all.fits' # random 60 seconds exposure\n",
    "exptime=60.0\n",
    "\n",
    "# img_to_compare = 'odvbbozpq_all.fits' # random 1100 second exposure\n",
    "# exptime=1100.0"
   ]
  },
  {
   "cell_type": "code",
   "execution_count": 6,
   "metadata": {},
   "outputs": [],
   "source": [
    "param1 = 'med_4'\n",
    "img1 = os.path.join(_BASE,f'{exptime}_{param1}', img_to_compare)\n",
    "\n",
    "param2 = 'med_6.5,5.5,4.5'\n",
    "img2 = os.path.join(_BASE,f'{exptime}_{param2}', img_to_compare)\n",
    "\n",
    "param3 = 'min_6.5,5.5,4.5'\n",
    "img3 = os.path.join(_BASE,f'{exptime}_{param3}', img_to_compare)"
   ]
  },
  {
   "cell_type": "code",
   "execution_count": 7,
   "metadata": {},
   "outputs": [],
   "source": [
    "def read_image(img):\n",
    "    data = {}\n",
    "    with fits.open(img) as hdu:\n",
    "        data['sci'] = hdu[0].data\n",
    "        data['dq'] = hdu[1].data\n",
    "        data['crlabel'] = hdu[2].data\n",
    "    return data"
   ]
  },
  {
   "cell_type": "code",
   "execution_count": 8,
   "metadata": {},
   "outputs": [],
   "source": [
    "data1 = read_image(img1)\n",
    "data2 = read_image(img2)\n",
    "data3 = read_image(img3)\n",
    "mean, med, std = sigma_clipped_stats(data1['sci'], sigma=5)"
   ]
  },
  {
   "cell_type": "code",
   "execution_count": 9,
   "metadata": {},
   "outputs": [],
   "source": [
    "norm = ImageNormalize(data1['sci'], stretch=SqrtStretch(), interval=ManualInterval(vmin=0, vmax=med+10*std))"
   ]
  },
  {
   "cell_type": "code",
   "execution_count": 10,
   "metadata": {},
   "outputs": [],
   "source": [
    "def generate_cmap(ncolors):\n",
    "#     ncolors = np.max(label) + 1\n",
    "#     print('Generating colormap for label')\n",
    "    prng = np.random.RandomState(1234)\n",
    "    h = prng.uniform(low=0.0, high=1.0, size=ncolors)\n",
    "    s = prng.uniform(low=0.2, high=0.7, size=ncolors)\n",
    "    v = prng.uniform(low=0.5, high=1.0, size=ncolors)\n",
    "    hsv = np.dstack((h, s, v))\n",
    "\n",
    "    rgb = np.squeeze(colors.hsv_to_rgb(hsv))\n",
    "    rgb[0] = (0,0,0)\n",
    "    cmap = colors.ListedColormap(rgb)\n",
    "    return cmap"
   ]
  },
  {
   "cell_type": "code",
   "execution_count": 11,
   "metadata": {},
   "outputs": [],
   "source": [
    "xmin_slider = widgets.IntText(\n",
    "    options=[i for i in range(1,1025)],\n",
    "    value=500,\n",
    "    description='xmin',\n",
    "    disabled=False,\n",
    "    continuous_update=True,\n",
    "    orientation='horizontal',\n",
    "    readout=True \n",
    ")\n",
    "xmax_slider = widgets.IntText(\n",
    "    options=[i for i in range(1,1025)],\n",
    "    value= 540,\n",
    "    description='xmax',\n",
    "    disabled=False,\n",
    "    continuous_update=True,\n",
    "    orientation='horizontal',\n",
    "    readout=True \n",
    ")\n",
    "\n",
    "ymin_slider = widgets.IntText(\n",
    "    options=[i for i in range(1,1025)],\n",
    "    value=500,\n",
    "    description='ymin',\n",
    "    disabled=False,\n",
    "    continuous_update=True,\n",
    "    orientation='horizontal',\n",
    "    readout=True \n",
    ")\n",
    "ymax_slider = widgets.IntText(\n",
    "    options=[i for i in range(1,1025)],\n",
    "    value= 540,\n",
    "    description='ymax',\n",
    "    disabled=False,\n",
    "    continuous_update=True,\n",
    "    orientation='horizontal',\n",
    "    readout=True \n",
    ")\n",
    "l1 = widgets.link((xmin_slider, 'value'), (ymin_slider, 'value'))\n",
    "l2 = widgets.link((xmax_slider, 'value'), (ymax_slider, 'value'))"
   ]
  },
  {
   "cell_type": "code",
   "execution_count": 12,
   "metadata": {},
   "outputs": [],
   "source": [
    "xmin_slider = widgets.IntSlider(\n",
    "    min=0,\n",
    "    max=1024,\n",
    "    step=10,\n",
    "    value=500,\n",
    "    description='xmin',\n",
    "    disabled=False,\n",
    "    continuous_update=True,\n",
    "    orientation='horizontal',\n",
    "    readout=True \n",
    ")\n",
    "xmax_slider = widgets.IntSlider(\n",
    "    min=0,\n",
    "    max=1024,\n",
    "    step=10,\n",
    "    value=540,\n",
    "    description='xmax',\n",
    "    disabled=False,\n",
    "    continuous_update=True,\n",
    "    orientation='horizontal',\n",
    "    readout=True \n",
    ")\n",
    "\n",
    "ymin_slider = widgets.IntSlider(\n",
    "    min=0,\n",
    "    max=1024,\n",
    "    step=10,\n",
    "    value=500,\n",
    "    description='ymin',\n",
    "    disabled=False,\n",
    "    continuous_update=True,\n",
    "    orientation='horizontal',\n",
    "    readout=True \n",
    ")\n",
    "ymax_slider = widgets.IntSlider(\n",
    "    min=0,\n",
    "    max=1024,\n",
    "    step=10,\n",
    "    value=540,\n",
    "    description='ymax',\n",
    "    disabled=False,\n",
    "    continuous_update=True,\n",
    "    orientation='horizontal',\n",
    "    readout=True \n",
    ")\n",
    "\n",
    "l1 = widgets.link((xmin_slider, 'value'), (ymin_slider, 'value'))\n",
    "l2 = widgets.link((xmax_slider, 'value'), (ymax_slider, 'value'))"
   ]
  },
  {
   "cell_type": "code",
   "execution_count": 13,
   "metadata": {},
   "outputs": [],
   "source": [
    "def plot_results(\n",
    "    axes=None,\n",
    "    data1=None, \n",
    "    data2=None, \n",
    "    data3=None,\n",
    "    figsize=(10,6),\n",
    "    norm=None,\n",
    "    param1=None,\n",
    "    param2=None,\n",
    "    param3=None,\n",
    "    xmin=None,\n",
    "    xmax=None,\n",
    "    ymin=None,\n",
    "    ymax=None\n",
    "):\n",
    "#     fig, axes = plt.subplots(nrows=3, ncols=3, sharex=True, sharey=True, gridspec_kw={'wspace':0.01, 'hspace':0.15})\n",
    "    first_col = axes[:, 0]\n",
    "    second_col = axes[:, 1]\n",
    "    third_col = axes[:, 2]\n",
    "    cbar_bounds = [0, 8, 16, 32, 64, 256, 1024, 4096, 8192]\n",
    "    dq_cmap = plt.cm.inferno\n",
    "    dq_norm = colors.BoundaryNorm(boundaries=cbar_bounds,\n",
    "                                      ncolors=dq_cmap.N)\n",
    "    fig.canvas.layout.width = f'{figsize[0]}in'\n",
    "    fig.canvas.layout.height= f'{figsize[1]}in'\n",
    "    for ax, key in zip(first_col, data1.keys()):\n",
    "        ax.grid(False)\n",
    "        ax.set_xlim((xmin, xmax))\n",
    "        ax.set_ylim((ymin, ymax))\n",
    "        if key == 'sci':\n",
    "            ax.set_title(f'SCI {param1}')\n",
    "            ax.imshow(data1[key], norm=norm, cmap='gray', origin='lower')\n",
    "        elif key == 'dq':\n",
    "            ax.set_title('DQ')\n",
    "            im = ax.imshow(data1[key], cmap='inferno', norm=dq_norm, origin='lower')\n",
    "        elif key == 'crlabel':\n",
    "            ax.set_title('CR LABEL')\n",
    "            cmap_label1 = generate_cmap(np.max(data1[key]) + 1)\n",
    "            ax.imshow(data1[key], cmap=cmap_label1, origin='lower')\n",
    "        \n",
    "    for ax, key in zip(second_col, data2.keys()):\n",
    "        ax.grid(False)\n",
    "        if key == 'sci':\n",
    "            ax.set_title(f'SCI {param2}')\n",
    "            ax.imshow(data2[key], norm=norm, cmap='gray', origin='lower')\n",
    "        elif key == 'dq':\n",
    "            ax.set_title('DQ')\n",
    "            ax.imshow(data2[key], cmap='inferno', norm=dq_norm, origin='lower')\n",
    "            \n",
    "        elif key == 'crlabel':\n",
    "            ax.set_title('CR LABEL')\n",
    "            cmap_label2 = generate_cmap(np.max(data2[key]) + 1)\n",
    "            ax.imshow(data2[key], cmap=cmap_label2, origin='lower')\n",
    "            \n",
    "    for ax, key in zip(third_col, data3.keys()):\n",
    "        ax.grid(False)\n",
    "        if key == 'sci':\n",
    "            ax.set_title(f'SCI {param3}')\n",
    "            sci_im = ax.imshow(data3[key], norm=norm, cmap='gray', origin='lower')\n",
    "            sci_divider = make_axes_locatable(ax)\n",
    "            sci_cax = sci_divider.append_axes(\"right\", size=\"5%\", pad=0.05)\n",
    "            sci_cbar = fig.colorbar(sci_im, cax=sci_cax)\n",
    "            sci_cbar.set_label(f\"SCI Value (COUNTS)\")\n",
    "        elif key == 'dq':\n",
    "            ax.set_title('DQ')\n",
    "            im = ax.imshow(data3[key], cmap='inferno', norm=dq_norm, origin='lower')\n",
    "            divider = make_axes_locatable(ax)\n",
    "            cax = divider.append_axes(\"right\", size=\"5%\", pad=0.05)\n",
    "            cbar = fig.colorbar(im, cax=cax)\n",
    "            cbar.set_label('DQ Value')\n",
    "        elif key == 'crlabel':\n",
    "            ax.set_title('CR LABEL')\n",
    "            cmap_label3 = generate_cmap(np.max(data3[key]) + 1)\n",
    "            ax.imshow(data3[key], cmap=cmap_label3, origin='lower')\n",
    "        \n",
    "    \n",
    "        \n",
    "#     divider = make_axes_locatable(ax)\n",
    "#     cax = divider.append_axes(\"right\", size=\"5%\", pad=0.05)\n",
    "#     cbar = fig.colorbar(im, cax=cax)\n",
    "#     cbar.set_label(f\"{units}\")\n",
    "#     ax.set_xlim(xlim)\n",
    "#     ax.set_ylim(ylim)\n",
    "#     ax.set_title(title)\n",
    "    plt.show()"
   ]
  },
  {
   "cell_type": "code",
   "execution_count": 14,
   "metadata": {},
   "outputs": [],
   "source": [
    "out = widgets.Output(layout={'border': '1px solid black'})"
   ]
  },
  {
   "cell_type": "code",
   "execution_count": 15,
   "metadata": {},
   "outputs": [],
   "source": [
    "with out:\n",
    "    fig, axes = plt.subplots(nrows=3, ncols=3, sharex=True, sharey=True, gridspec_kw={'wspace':0.01, 'hspace':0.15})\n",
    "    w = interactive(plot_results,axes=fixed(axes),\n",
    "                    data1=fixed(data1), param1=fixed(param1),\n",
    "                    data2=fixed(data2), param2=fixed(param2), \n",
    "                    data3=fixed(data3), param3=fixed(param3),\n",
    "                    norm=fixed(norm), figsize=fixed((12,10)), xmin=xmin_slider, xmax=xmax_slider, ymin=ymin_slider, ymax=ymax_slider)\n",
    "    display(w)"
   ]
  },
  {
   "cell_type": "code",
   "execution_count": 16,
   "metadata": {},
   "outputs": [
    {
     "data": {
      "application/vnd.jupyter.widget-view+json": {
       "model_id": "f5342439b5914364affde045a48e5c4f",
       "version_major": 2,
       "version_minor": 0
      },
      "text/plain": [
       "Output(layout=Layout(border='1px solid black'), outputs=({'output_type': 'display_data', 'data': {'text/plain'…"
      ]
     },
     "metadata": {},
     "output_type": "display_data"
    }
   ],
   "source": [
    "out"
   ]
  },
  {
   "cell_type": "code",
   "execution_count": 15,
   "metadata": {},
   "outputs": [],
   "source": [
    "out.clear_output()\n",
    "plt.close('all')"
   ]
  },
  {
   "cell_type": "code",
   "execution_count": null,
   "metadata": {},
   "outputs": [],
   "source": []
  },
  {
   "cell_type": "code",
   "execution_count": null,
   "metadata": {},
   "outputs": [],
   "source": []
  }
 ],
 "metadata": {
  "kernelspec": {
   "display_name": "Python 3",
   "language": "python",
   "name": "python3"
  },
  "language_info": {
   "codemirror_mode": {
    "name": "ipython",
    "version": 3
   },
   "file_extension": ".py",
   "mimetype": "text/x-python",
   "name": "python",
   "nbconvert_exporter": "python",
   "pygments_lexer": "ipython3",
   "version": "3.6.10"
  }
 },
 "nbformat": 4,
 "nbformat_minor": 4
}
