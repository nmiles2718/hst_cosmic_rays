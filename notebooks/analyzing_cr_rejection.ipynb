{
 "cells": [
  {
   "cell_type": "code",
   "execution_count": 8,
   "metadata": {},
   "outputs": [],
   "source": [
    "%matplotlib widget\n",
    "import glob\n",
    "import os\n",
    "from mpl_toolkits.axes_grid1 import make_axes_locatable\n",
    "\n",
    "from astropy.io import fits\n",
    "from astropy.stats import sigma_clipped_stats\n",
    "from astropy.visualization import ImageNormalize, SqrtStretch, LogStretch, LinearStretch, ZScaleInterval, ManualInterval\n",
    "import matplotlib.colors as colors\n",
    "import matplotlib.pyplot as plt\n",
    "import matplotlib.patches as patches\n",
    "from matplotlib.ticker import (MultipleLocator, FormatStrFormatter,\n",
    "                               AutoMinorLocator)\n",
    "from matplotlib import ticker\n",
    "# plt.style.use('dark_background')\n",
    "plt.style.use('ggplot')\n",
    "\n",
    "import numpy as np"
   ]
  },
  {
   "cell_type": "code",
   "execution_count": 9,
   "metadata": {},
   "outputs": [],
   "source": [
    "data_path = '/Users/nmiles/hst_cosmic_rays/analyzing_cr_rejection/1100.0_clean/'"
   ]
  },
  {
   "cell_type": "code",
   "execution_count": 10,
   "metadata": {},
   "outputs": [],
   "source": [
    "def plot_image(data, norm=None, units=None, title=None, xlim=None, ylim=None):\n",
    "    fig, ax = plt.subplots(nrows=1, ncols=1)\n",
    "    im = ax.imshow(data, norm=norm, origin='lower', cmap='viridis')\n",
    "    divider = make_axes_locatable(ax)\n",
    "    cax = divider.append_axes(\"right\", size=\"5%\", pad=0.05)\n",
    "    cbar = fig.colorbar(im, cax=cax)\n",
    "    cbar.set_label(f\"{units}\")\n",
    "    ax.grid(False)\n",
    "    ax.set_xlim(xlim)\n",
    "    ax.set_ylim(ylim)\n",
    "    ax.set_title(title)\n",
    "    plt.show()"
   ]
  },
  {
   "cell_type": "code",
   "execution_count": 11,
   "metadata": {},
   "outputs": [],
   "source": [
    "N=20\n",
    "flist = glob.glob(data_path+'*flt.fits')[:N]"
   ]
  },
  {
   "cell_type": "code",
   "execution_count": 12,
   "metadata": {},
   "outputs": [
    {
     "data": {
      "text/plain": [
       "['/Users/nmiles/hst_cosmic_rays/analyzing_cr_rejection/1100.0_clean/odvbcschq_flt.fits',\n",
       " '/Users/nmiles/hst_cosmic_rays/analyzing_cr_rejection/1100.0_clean/odvbbpa4q_flt.fits',\n",
       " '/Users/nmiles/hst_cosmic_rays/analyzing_cr_rejection/1100.0_clean/odvbc2e6q_flt.fits',\n",
       " '/Users/nmiles/hst_cosmic_rays/analyzing_cr_rejection/1100.0_clean/odvbc5ewq_flt.fits',\n",
       " '/Users/nmiles/hst_cosmic_rays/analyzing_cr_rejection/1100.0_clean/odvbcvbaq_flt.fits',\n",
       " '/Users/nmiles/hst_cosmic_rays/analyzing_cr_rejection/1100.0_clean/odvbc0zfq_flt.fits',\n",
       " '/Users/nmiles/hst_cosmic_rays/analyzing_cr_rejection/1100.0_clean/odvbbozpq_flt.fits',\n",
       " '/Users/nmiles/hst_cosmic_rays/analyzing_cr_rejection/1100.0_clean/odvbd8f2q_flt.fits',\n",
       " '/Users/nmiles/hst_cosmic_rays/analyzing_cr_rejection/1100.0_clean/odvbbnzlq_flt.fits',\n",
       " '/Users/nmiles/hst_cosmic_rays/analyzing_cr_rejection/1100.0_clean/odvbctg8q_flt.fits',\n",
       " '/Users/nmiles/hst_cosmic_rays/analyzing_cr_rejection/1100.0_clean/odvbbxuxq_flt.fits',\n",
       " '/Users/nmiles/hst_cosmic_rays/analyzing_cr_rejection/1100.0_clean/odvbd7exq_flt.fits',\n",
       " '/Users/nmiles/hst_cosmic_rays/analyzing_cr_rejection/1100.0_clean/odvbcakxq_flt.fits',\n",
       " '/Users/nmiles/hst_cosmic_rays/analyzing_cr_rejection/1100.0_clean/odvbcff4q_flt.fits',\n",
       " '/Users/nmiles/hst_cosmic_rays/analyzing_cr_rejection/1100.0_clean/odvbbshtq_flt.fits',\n",
       " '/Users/nmiles/hst_cosmic_rays/analyzing_cr_rejection/1100.0_clean/odvbcxg2q_flt.fits',\n",
       " '/Users/nmiles/hst_cosmic_rays/analyzing_cr_rejection/1100.0_clean/odvbc9ksq_flt.fits',\n",
       " '/Users/nmiles/hst_cosmic_rays/analyzing_cr_rejection/1100.0_clean/odvbd2q6q_flt.fits',\n",
       " '/Users/nmiles/hst_cosmic_rays/analyzing_cr_rejection/1100.0_clean/odvbcmnfq_flt.fits',\n",
       " '/Users/nmiles/hst_cosmic_rays/analyzing_cr_rejection/1100.0_clean/odvbczk5q_flt.fits']"
      ]
     },
     "execution_count": 12,
     "metadata": {},
     "output_type": "execute_result"
    }
   ],
   "source": [
    "flist\n"
   ]
  },
  {
   "cell_type": "code",
   "execution_count": 146,
   "metadata": {},
   "outputs": [],
   "source": [
    "hdu = fits.open(flist[1])\n",
    "hdr = hdu[0].header\n",
    "data = hdu[1].data\n",
    "units = hdu[1].header['BUNIT']\n",
    "exptime = hdu[0].header['TEXPTIME']\n",
    "hdu.close()"
   ]
  },
  {
   "cell_type": "code",
   "execution_count": 147,
   "metadata": {},
   "outputs": [],
   "source": [
    "norm = ImageNormalize(data, stretch=SqrtStretch(), vmin=0, vmax=50*np.median(data))\n",
    "cbar_bounds = [i for i in range(0,500,70)]\n",
    "sci_cmap = plt.cm.viridis\n",
    "norm1 = colors.BoundaryNorm(boundaries=cbar_bounds,\n",
    "                                  ncolors=sci_cmap.N)"
   ]
  },
  {
   "cell_type": "code",
   "execution_count": 148,
   "metadata": {},
   "outputs": [],
   "source": [
    "global_mean, global_median, global_std = sigma_clipped_stats(data, sigma=5, maxiters=3)"
   ]
  },
  {
   "cell_type": "code",
   "execution_count": 149,
   "metadata": {},
   "outputs": [
    {
     "name": "stdout",
     "output_type": "stream",
     "text": [
      "mean: 35.487\n",
      "median: 22.442\n",
      "std: 53.803\n"
     ]
    }
   ],
   "source": [
    "print(f\"mean: {global_mean:.3f}\\nmedian: {global_median:.3f}\\nstd: {global_std:.3f}\")"
   ]
  },
  {
   "cell_type": "code",
   "execution_count": 150,
   "metadata": {},
   "outputs": [
    {
     "data": {
      "application/vnd.jupyter.widget-view+json": {
       "model_id": "",
       "version_major": 2,
       "version_minor": 0
      },
      "text/plain": [
       "Canvas(toolbar=Toolbar(toolitems=[('Home', 'Reset original view', 'home', 'home'), ('Back', 'Back to previous …"
      ]
     },
     "metadata": {},
     "output_type": "display_data"
    }
   ],
   "source": [
    "plot_image(data, norm=norm1, units=units, title=f\"Exposure Time: {exptime:0.0f}s\")"
   ]
  },
  {
   "cell_type": "markdown",
   "metadata": {},
   "source": [
    "### Visualization the CR rejection algorithm\n",
    "- The following cells contain a series of functions and widgets that are combined to create an interactive visualization tool for analyzing the principles behind the CR algorithm"
   ]
  },
  {
   "cell_type": "code",
   "execution_count": 151,
   "metadata": {},
   "outputs": [],
   "source": [
    "def compute_noise_model(hdr, val, scalense=10):\n",
    "    readnse = hdr['READNSE']/ hdr['ATODGAIN']\n",
    "    poisson = val/hdr['ATODGAIN']\n",
    "    total_noise = np.sqrt(readnse**2 + poisson**2 + (scalense*0.01 * val))\n",
    "    return total_noise"
   ]
  },
  {
   "cell_type": "code",
   "execution_count": 152,
   "metadata": {},
   "outputs": [],
   "source": [
    "import ipywidgets as widgets\n",
    "from ipywidgets import interact, fixed, interactive, VBox, HBox"
   ]
  },
  {
   "cell_type": "markdown",
   "metadata": {},
   "source": [
    "Define some preset values and analyze the list of data to extract the pixel value for "
   ]
  },
  {
   "cell_type": "code",
   "execution_count": 153,
   "metadata": {},
   "outputs": [],
   "source": [
    "x0=212\n",
    "y0=704\n",
    "pixval = []\n",
    "for f in flist:\n",
    "    data = fits.getdata(f)\n",
    "    pixval.append(data[y0][x0])\n",
    "med = np.nanmedian(pixval)\n",
    "minim = np.nanmin(pixval)\n",
    "noisemodel = compute_noise_model(hdr=hdr, val=med, scalense=10)"
   ]
  },
  {
   "cell_type": "code",
   "execution_count": 159,
   "metadata": {},
   "outputs": [],
   "source": [
    "# @interact(fname=file_slider, x=fixed(512), y= fixed(512), norm=fixed(norm))\n",
    "def interactive_plot_image(\n",
    "    fname,\n",
    "    norm,\n",
    "    x=fixed(434),\n",
    "    y=fixed(434),\n",
    "    ax=None,\n",
    "    fig=None,\n",
    "    units=None,\n",
    "    w=10,\n",
    "    h=10\n",
    "):\n",
    "    \n",
    "    ax.clear()\n",
    "    texptime = fits.getval(fname, keyword='TEXPTIME')\n",
    "    data = fits.getdata(fname)\n",
    "    patch = patches.Rectangle(xy=(x-0.5, y-0.5), width=1, height=1, fill=False, edgecolor='r', lw=2.25)\n",
    "    im = ax.imshow(data, norm=norm, origin='lower')\n",
    "    ax.set_xlim((x-w, x+w))\n",
    "    ax.set_ylim((y-h, y+h))\n",
    "    ticks = [y-i for i in range(1,11)] + [y] + [y+j for j in range(1,11)]\n",
    "    ticks.sort()\n",
    "    ax.add_patch(patch)\n",
    "    ax.grid(False)\n",
    "    \n",
    "    divider = make_axes_locatable(ax)\n",
    "    cax = divider.append_axes(\"right\", size=\"10%\", pad=0.15)    \n",
    "    cbar = fig.colorbar(im, cax=cax, orientation='vertical')\n",
    "#     n = len(cbar.ax.get_yticklabels())\n",
    "    tick_locator = ticker.MaxNLocator(6)\n",
    "    cbar.ax.set_yticklabels(\n",
    "        cbar.ax.get_yticklabels(),       \n",
    "        rotation=-10,\n",
    "        horizontalalignment='left',\n",
    "        fontsize=8\n",
    "    )\n",
    "    cbar.locator = tick_locator\n",
    "    cbar.update_ticks()\n",
    "    ax.xaxis.set_minor_locator(AutoMinorLocator(5))\n",
    "    ax.yaxis.set_minor_locator(AutoMinorLocator(5))\n",
    "    ax.tick_params(axis='both', which='both', width=1.5)\n",
    "\n",
    "\n",
    "    cbar.set_label(f\"{units}\", fontsize=10)\n",
    "#     cbar.ax.set_yticklabels(cbar.ax.get_yticklabels(), horizontalalignment='left', rotation=-25, fontsize=10)\n",
    "#     ax.set_title(f\"{os.path.basename(fname)}, {texptime:.0f}s\")\n",
    "    fig.suptitle(f\"Current Image: {os.path.basename(fname)}, Exposure Time: {texptime:.0f}s\")\n",
    "    ax.set_xlabel('X [pixel]')\n",
    "    ax.set_ylabel('Y [pixel]')\n",
    "    \n",
    "    "
   ]
  },
  {
   "cell_type": "code",
   "execution_count": 210,
   "metadata": {},
   "outputs": [],
   "source": [
    "def plot_pix_vals(\n",
    "    current_file,\n",
    "    flist=None, \n",
    "    current_img_color='red',\n",
    "    c='k',  \n",
    "    x=512, \n",
    "    y=512, \n",
    "    ax=None,\n",
    "    med=None,\n",
    "    minim=None,\n",
    "    units=None,\n",
    "    ymin=None,\n",
    "    ymax=None,\n",
    "    crsigmas=None,\n",
    "    noisemodel= None\n",
    "):\n",
    "    ax.clear()\n",
    "    pixvals = []\n",
    "    scatter_color = []\n",
    "    scatter_marker = []\n",
    "    labels = []\n",
    "    for i, f in enumerate(flist):\n",
    "        data = fits.getdata(f)\n",
    "        pixval = data[y][x]\n",
    "        pixvals.append(pixval)\n",
    "        if f == current_file:\n",
    "            current_im = ax.scatter(i+1, pixval, label=f\"Current: {pixval:.2f}\", c=current_img_color)\n",
    "        else:\n",
    "            nom = ax.scatter(i+1, pixval, c=c)\n",
    "        \n",
    "   \n",
    "#     scat = ax.scatter([i for i in range(1,len(pixval)+1)], pixval, label=labels, c=scatter_color )\n",
    "#     ax.set_title(os.path.basename(current_file))\n",
    "    \n",
    "    ax.set_xlim((0,22))\n",
    "    med = np.nanmedian(pixvals)\n",
    "    minim = np.nanmin(pixvals)\n",
    "    ax_med = ax.axhline(med,ls='--',c='k', label=f\"med: {med:.2f}\")\n",
    "    ax_noise = ax.axhline(med + crsigmas * noisemodel, label=f\"med + {crsigmas:.0f}$\\sigma$\")\n",
    "    \n",
    "    \n",
    "    ax_min = ax.axhline(minim, ls=':', c='k', label=f\"min: {minim:.2f}\")\n",
    "    \n",
    "    \n",
    "    if ymin is None or ymax is None:\n",
    "        ax.set_ylim((0, ymax+2*std))\n",
    "    else:\n",
    "        ax.set_ylim((ymin, ymax))\n",
    "    ax.set_ylabel(units)\n",
    "    ax.xaxis.set_minor_locator(AutoMinorLocator(5))\n",
    "    ax.yaxis.set_minor_locator(AutoMinorLocator(5))\n",
    "    ax.tick_params(axis='both', which='both', width=1.5)\n",
    " \n",
    "    ax_legend = ax.legend(handles=[current_im, ax_med, ax_noise, ax_min],\n",
    "                          loc='upper right', edgecolor='k')\n",
    "    \n",
    "    return ax"
   ]
  },
  {
   "cell_type": "markdown",
   "metadata": {},
   "source": [
    "Setup a slider to control the file we are examining"
   ]
  },
  {
   "cell_type": "code",
   "execution_count": 211,
   "metadata": {},
   "outputs": [],
   "source": [
    "file_slider1 = widgets.Select(\n",
    "    options=flist,\n",
    "    value=flist[np.argmax(pixval)],\n",
    "    description='Image Plot',\n",
    "    continuous_update=True,\n",
    "    orientation='horizontal',\n",
    "    readout=True, \n",
    ")\n",
    "file_slider2 = widgets.Select(\n",
    "    options=flist,\n",
    "    value=flist[np.argmax(pixval)],\n",
    "    description='Scatter Plot',\n",
    "    disabled=False,\n",
    "    continuous_update=True,\n",
    "    orientation='horizontal',\n",
    "    readout=True \n",
    ")\n",
    "xslider = widgets.IntText(\n",
    "    options=[i for i in range(1,1025)],\n",
    "    value=x0,\n",
    "    description='X Coordinate',\n",
    "    disabled=False,\n",
    "    continuous_update=True,\n",
    "    orientation='horizontal',\n",
    "    readout=True \n",
    ")\n",
    "yslider = widgets.IntText(\n",
    "    options=[i for i in range(1,1025)],\n",
    "    value=y0,\n",
    "    description='Y Coordinate',\n",
    "    disabled=False,\n",
    "    continuous_update=True,\n",
    "    orientation='horizontal',\n",
    "    readout=True \n",
    ")\n",
    "wslider = widgets.IntSlider(\n",
    "    min=5,\n",
    "    max=200,\n",
    "    step=5,\n",
    "    value=20,\n",
    "    description='Width',\n",
    "    disabled=False,\n",
    "    continuous_update=True,\n",
    "    orientation='horizontal',\n",
    "    readout=True \n",
    ")\n",
    "hslider = widgets.IntSlider(\n",
    "    min=5,\n",
    "    max=200,\n",
    "    step=5,\n",
    "    value=20,\n",
    "    description='Height',\n",
    "    disabled=False,\n",
    "    continuous_update=True,\n",
    "    orientation='horizontal',\n",
    "    readout=True \n",
    ")\n",
    "ymin_slider = widgets.IntText(\n",
    "    options=[i for i in range(1,1025)],\n",
    "    value=0,\n",
    "    description='ymin',\n",
    "    disabled=False,\n",
    "    continuous_update=True,\n",
    "    orientation='horizontal',\n",
    "    readout=True \n",
    ")\n",
    "ymax_slider = widgets.IntText(\n",
    "    options=[i for i in range(1,1025)],\n",
    "    value= global_mean + 5*global_std,\n",
    "    description='ymax',\n",
    "    disabled=False,\n",
    "    continuous_update=True,\n",
    "    orientation='horizontal',\n",
    "    readout=True \n",
    ")\n",
    "\n",
    "# crsigmas_slider = widgets.IntText(\n",
    "#     options=[i for i in range(10)],\n",
    "#     value=3,\n",
    "#     description='crsigmas',\n",
    "#     disabled=False,\n",
    "#     continuous_update=True,\n",
    "#     orientation='horizontal',\n",
    "#     readout=True \n",
    "# )"
   ]
  },
  {
   "cell_type": "code",
   "execution_count": 212,
   "metadata": {},
   "outputs": [],
   "source": [
    "l = widgets.link((file_slider1, 'value'), (file_slider2, 'value'))"
   ]
  },
  {
   "cell_type": "code",
   "execution_count": 213,
   "metadata": {},
   "outputs": [],
   "source": [
    "out = widgets.Output(layout={'border': '1px solid black'})\n"
   ]
  },
  {
   "cell_type": "code",
   "execution_count": 214,
   "metadata": {},
   "outputs": [],
   "source": [
    "with out:\n",
    "    fig, (ax1, ax2) = plt.subplots(nrows=1, ncols=2, gridspec_kw={'wspace':0.75, 'hspace':0.5})\n",
    "    w1 = interactive(\n",
    "        interactive_plot_image, \n",
    "        fname=file_slider1,fig=fixed(fig),\n",
    "        x=xslider, y=yslider,w=wslider,h=hslider,\n",
    "        norm=fixed(norm), ax=fixed(ax1), \n",
    "        units=fixed('COUNTS')\n",
    "    )\n",
    "    w2 = interactive(\n",
    "        plot_pix_vals, \n",
    "        current_file=file_slider2,\n",
    "        x=xslider, y=yslider, w=wslider, h=hslider, ymin=ymin_slider, ymax=ymax_slider,\n",
    "        flist=fixed(flist), ax=fixed(ax2),med=fixed(med), minim=fixed(minim),crsigmas=fixed(4),\n",
    "        units=fixed('COUNTS'), current_img_color=fixed('r'), c=fixed('k'), noisemodel=fixed(noisemodel)\n",
    "    )\n",
    "#     hbox = HBox([w1, w2])\n",
    "    w = widgets.GridBox([w1, w2], layout=widgets.Layout(grid_template_columns=\"repeat(2,50%)\"))\n",
    "    display(w)"
   ]
  },
  {
   "cell_type": "code",
   "execution_count": 215,
   "metadata": {},
   "outputs": [
    {
     "data": {
      "application/vnd.jupyter.widget-view+json": {
       "model_id": "ac5a0cd8cd5c4c1c854e1803b527c8b3",
       "version_major": 2,
       "version_minor": 0
      },
      "text/plain": [
       "Output(layout=Layout(border='1px solid black'), outputs=({'output_type': 'display_data', 'data': {'text/plain'…"
      ]
     },
     "metadata": {},
     "output_type": "display_data"
    }
   ],
   "source": [
    "out"
   ]
  },
  {
   "cell_type": "code",
   "execution_count": 172,
   "metadata": {},
   "outputs": [],
   "source": [
    "plt.close('all')\n",
    "out.clear_output()"
   ]
  },
  {
   "cell_type": "code",
   "execution_count": null,
   "metadata": {},
   "outputs": [],
   "source": []
  },
  {
   "cell_type": "code",
   "execution_count": null,
   "metadata": {},
   "outputs": [],
   "source": []
  }
 ],
 "metadata": {
  "kernelspec": {
   "display_name": "Python 3",
   "language": "python",
   "name": "python3"
  },
  "language_info": {
   "codemirror_mode": {
    "name": "ipython",
    "version": 3
   },
   "file_extension": ".py",
   "mimetype": "text/x-python",
   "name": "python",
   "nbconvert_exporter": "python",
   "pygments_lexer": "ipython3",
   "version": "3.7.4"
  }
 },
 "nbformat": 4,
 "nbformat_minor": 4
}
