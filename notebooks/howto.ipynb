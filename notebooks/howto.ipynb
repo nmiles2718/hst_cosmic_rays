{
 "cells": [
  {
   "cell_type": "markdown",
   "metadata": {},
   "source": [
    "### HOWTO Guide for HSTCosmicrays (Beta version)\n",
    "\n",
    "1. Create `labeler.CosmicRayLabel()`  and `metadata.GenerateMetadata()` objects to store all the necessary information in convenient containers\n",
    "2. Run the cosmic ray labeling algorithm on the input image two separate ways\n",
    "    - By using the DQ array information after running a cosmic ray rejection routine\n",
    "    - By defining a custom threshold value to use when generating a binary image\n",
    "3. Using the generated label, compute statistics for each one of the cosmic rays identified \n",
    "4. Load in the pre-trained ML model for distinguishing cosmic rays from point sources and use it to classify the identified sources\n",
    "5. Use a more interesting dataset containing acutal an astrophysical source "
   ]
  },
  {
   "cell_type": "code",
   "execution_count": null,
   "metadata": {},
   "outputs": [],
   "source": [
    "%matplotlib notebook\n",
    "import os\n",
    "import glob\n",
    "import pickle\n",
    "import sys\n",
    "sys.path.append('/Users/nmiles/hst_cosmic_rays/')\n",
    "import warnings\n",
    "warnings.simplefilter('ignore')\n",
    "\n",
    "# Import packages from the hst_cosmic_rays package\n",
    "from pipeline.label import labeler\n",
    "from pipeline.stat_utils import statshandler\n",
    "from pipeline.utils import metadata, initialize\n",
    "\n",
    "\n",
    "\n",
    "from astropy.io import fits\n",
    "from astropy.visualization import ImageNormalize, ZScaleInterval,\\\n",
    "                                    SqrtStretch, LinearStretch, LogStretch\n",
    "import matplotlib.pyplot as plt\n",
    "from matplotlib.patches import Circle\n",
    "import numpy as np\n"
   ]
  },
  {
   "cell_type": "markdown",
   "metadata": {},
   "source": [
    "Define a convenience dictionary to make it simpler to determine the img stretch when displaying FITS files"
   ]
  },
  {
   "cell_type": "code",
   "execution_count": null,
   "metadata": {},
   "outputs": [],
   "source": [
    "stretchdict_ = {'sqrt': SqrtStretch(),\n",
    "           'log': LogStretch(),\n",
    "           'linear':LinearStretch()}\n"
   ]
  },
  {
   "cell_type": "markdown",
   "metadata": {},
   "source": [
    "Setup a path to a directory containing the data you want to analyze"
   ]
  },
  {
   "cell_type": "code",
   "execution_count": null,
   "metadata": {},
   "outputs": [],
   "source": [
    "data_path = '/Users/nmiles/hst_cosmic_rays/data/STIS/SAA_data'\n",
    "flist = glob.glob(os.path.join(data_path, 'o*flt.fits'))\n",
    "print('\\n'.join(flist[:5]))"
   ]
  },
  {
   "cell_type": "markdown",
   "metadata": {},
   "source": [
    "Define a helper function to use for plotting images"
   ]
  },
  {
   "cell_type": "code",
   "execution_count": null,
   "metadata": {},
   "outputs": [],
   "source": [
    "def plot(data, norm=None, stretch_type=None, vmin=None, vmax=None):\n",
    "    \"\"\"Simple plotting function\"\"\"\n",
    "    if norm is None and stretch_type is None:\n",
    "        pass\n",
    "    elif norm is None and stretch_type is not None:\n",
    "        if vmin is not None and vmax is not None:\n",
    "            norm = ImageNormalize(data, stretch=stretchdict_[stretch_type],vmin=vmin, vmax=vmax)\n",
    "        else:\n",
    "            norm = ImageNormalize(data, stretch=stretchdict_[stretch_type], interval=ZScaleInterval())\n",
    "    fig, ax = plt.subplots(nrows=1, ncols=1, figsize=(5,5))\n",
    "    im = ax.imshow(data, norm=norm, origin='lower', cmap='gray')\n",
    "    plt.show()"
   ]
  },
  {
   "cell_type": "markdown",
   "metadata": {},
   "source": [
    "Now that we have a list of files that we want to examine and all our helper functions defined, we examine the two classes, `metadata.GenerateMetadata()` and `labeler.CosmicRayLabel`, from the `hstcosmicrays` package that we will be using."
   ]
  },
  {
   "cell_type": "code",
   "execution_count": null,
   "metadata": {},
   "outputs": [],
   "source": [
    "metadata.GenerateMetadata?"
   ]
  },
  {
   "cell_type": "code",
   "execution_count": null,
   "metadata": {},
   "outputs": [],
   "source": [
    "labeler.CosmicRayLabel?"
   ]
  },
  {
   "cell_type": "code",
   "execution_count": null,
   "metadata": {},
   "outputs": [],
   "source": [
    "instr = 'STIS_CCD'\n",
    "test_file = flist[0]"
   ]
  },
  {
   "cell_type": "markdown",
   "metadata": {},
   "source": [
    "The first thing we want to do is examine some metadata associated with our test file. The two attributes of the `GenerateMetadata` class used to store the relevant metadata are `instr_cfg` and `metadata`"
   ]
  },
  {
   "cell_type": "code",
   "execution_count": null,
   "metadata": {},
   "outputs": [],
   "source": [
    "# Create a metadata object for our test file and instr\n",
    "img_meta = metadata.GenerateMetadata(fname=test_file, instr=instr)\n",
    "\n",
    "# Get the image metadata\n",
    "img_meta.get_image_data()\n",
    "\n",
    "# Get the observatory metadata from the SPT file\n",
    "img_meta.get_observatory_info()\n",
    "\n",
    "# Print out the extracted metadata and our instrument configuration\n",
    "print(f\"Metadata extracted for {os.path.basename(test_file)}\")\n",
    "print(\"-\"*50)\n",
    "for key, val in img_meta.metadata.items():\n",
    "    print(f\"{key} -> {val}\")\n",
    "print(\"-\"*50,'\\n')\n",
    "print(f\"Instrument Configuration for {instr}\")\n",
    "print(\"-\"*50)\n",
    "for key1, val1 in img_meta.instr_cfg.items():\n",
    "    if isinstance(val1, dict):\n",
    "        print(f\"{str(key1):}:\")\n",
    "        for key, val in img_meta.instr_cfg[key1].items():\n",
    "            print(f\"{str(key):>25} -> {str(val):}\")\n",
    "    "
   ]
  },
  {
   "cell_type": "markdown",
   "metadata": {},
   "source": [
    "Ok, now that we have the required metadata read in, we create a `CosmicRayLabel` object. We use the gain keyword contained in the `instr_cfg` attribute of the `GenerateMetadata` object that we created above. This ensures that if the units of the input file are in DN or COUNTS, we convert it to ELECTRONS before proceeding."
   ]
  },
  {
   "cell_type": "code",
   "execution_count": null,
   "metadata": {},
   "outputs": [],
   "source": [
    "# Create an instance of the CosmicRayLabel class and read in SCI and DQ extensions\n",
    "cr_label = labeler.CosmicRayLabel(\n",
    "    fname=test_files[0], \n",
    "    gain_keyword=img_meta.instr_cfg['instr_params']['gain_keyword']\n",
    ")\n",
    "# Read in the sci data\n",
    "cr_label.get_data(extname='sci', extnums=[1])\n",
    "\n",
    "# Read in the dq data\n",
    "cr_label.get_data(extname='dq', extnums=[1])"
   ]
  },
  {
   "cell_type": "markdown",
   "metadata": {},
   "source": [
    "Now lets plot each extension that we just read in "
   ]
  },
  {
   "cell_type": "code",
   "execution_count": null,
   "metadata": {},
   "outputs": [],
   "source": [
    "plot(cr_label.dq)"
   ]
  },
  {
   "cell_type": "code",
   "execution_count": null,
   "metadata": {},
   "outputs": [],
   "source": [
    "plot(cr_label.sci, stretch_type='sqrt', vmin=0, vmax=20)"
   ]
  },
  {
   "cell_type": "markdown",
   "metadata": {},
   "source": [
    "There are two ways to label cosmic rays. \n",
    "1. Using the DQ array to identify groups of pixels affected by the same CR\n",
    "2. Using a custom generated binary image to identify groups of pixels affected by the same CR\n",
    "\n",
    "The cell blocks below demonstrate the first method\n",
    "<hr style=\"height:1px;border:none;color:#333;background-color:#333;\" />\n",
    "If the images have been processed such that their DQ array contains BIT flag for identifiy cosmic ray affected pixels, then we run the labeling analysis with the following parameters defined below. "
   ]
  },
  {
   "cell_type": "code",
   "execution_count": null,
   "metadata": {},
   "outputs": [],
   "source": [
    "dq_labeling_parameters = {\n",
    "    'use_dq': True, # Whether or not to use the DQ array\n",
    "    'dq_flag': 8192,  # The BIT flag identifying CR (default 8192)\n",
    "    'do_bitwise_comp': True, # Do a BITWISE_AND comparison with dq_flag\n",
    "    'deblend': False, # If True, try to deblend (experimental, best to leave as False)\n",
    "    'threshold_l': 2, # Lower threshold for size of the labeled object to be consider a CR\n",
    "    'threshold_u': 5000, # Upper threshold for size of labeled object to be consider a CR\n",
    "    'pix_thresh': None, # Not used for using the DQ to label cosmic rays\n",
    "    'structure_element': np.ones((3,3)) # Structuring element to be used in labeling\n",
    "}"
   ]
  },
  {
   "cell_type": "markdown",
   "metadata": {},
   "source": [
    "Run the labeling analysis code for CCDs using the parameters defined above. Once the processing has finished, plot the `SCI` extension and the CR segmentation map side-by-side using the `plot()` method of the `CosmicRayLabel` class."
   ]
  },
  {
   "cell_type": "code",
   "execution_count": null,
   "metadata": {},
   "outputs": [],
   "source": [
    "cr_label.ccd_labeling(**dq_labeling_parameters)\n",
    "cr_label.plot(xlim=(200, 400), ylim=(200, 400))"
   ]
  },
  {
   "cell_type": "markdown",
   "metadata": {},
   "source": [
    "If the image's DQ arry doesnt contain BIT flags for CRs, then you can instead run the labeling using a custom threshold (this is option 2. mentioned previously)"
   ]
  },
  {
   "cell_type": "code",
   "execution_count": null,
   "metadata": {},
   "outputs": [],
   "source": [
    "threshold_labeling_parameters = {\n",
    "    'use_dq': False,\n",
    "    'dq_flag': None,\n",
    "    'do_bitwise_comp': False,\n",
    "    'deblend': False, # If True, try to deblend (experimental, best to leave as False)\n",
    "    'threshold_l': 2, # Lower threshold for size of the labeled object to be consider a CR\n",
    "    'threshold_u': 5000, # Upper threshold for size of labeled object to be consider a CR\n",
    "    'pix_thresh': 3*np.mean(cr_label.sci), # Set the absolute threshold to 3x the mean val\n",
    "    'structure_element': np.ones((3,3)) # Structuring element to be used in labeling\n",
    "}"
   ]
  },
  {
   "cell_type": "code",
   "execution_count": null,
   "metadata": {},
   "outputs": [],
   "source": [
    "cr_label.ccd_labeling(**threshold_labeling_parameters)\n",
    "cr_label.plot(xlim=(200, 400), ylim=(200, 400))"
   ]
  },
  {
   "cell_type": "markdown",
   "metadata": {},
   "source": [
    "Once we have the label in hand, we can start computing some statistics describing the identified cosmic rays using the `Stats` class in the `statshandler` module. As before, we inspect the class first to determine the proper inputs"
   ]
  },
  {
   "cell_type": "code",
   "execution_count": null,
   "metadata": {},
   "outputs": [],
   "source": [
    "stats = statshandler.Stats?"
   ]
  },
  {
   "cell_type": "code",
   "execution_count": null,
   "metadata": {},
   "outputs": [],
   "source": [
    "stats = statshandler.Stats"
   ]
  },
  {
   "cell_type": "code",
   "execution_count": null,
   "metadata": {},
   "outputs": [],
   "source": [
    "cr_stats = statshandler.Stats(cr_label=cr_label,\n",
    "                           integration_time=img_meta.metadata['integration_time'],\n",
    "                          detector_size=img_meta.instr_cfg['instr_params']['detector_size'])\n",
    "cr_stats.compute_cr_statistics()"
   ]
  },
  {
   "cell_type": "markdown",
   "metadata": {},
   "source": [
    "Now we load the previously trained K-Nearest Neighbors classifier and use the model to predict whether the object identified are cosmic rays (1) or stars (0). Since this is a dark frame, the exptectation is for everything to be classified as a cosmic ray "
   ]
  },
  {
   "cell_type": "code",
   "execution_count": null,
   "metadata": {},
   "outputs": [],
   "source": [
    "with open('knn_classifier_Oct03_2019.pkl', 'rb') as fd:\n",
    "    clf = pickle.load(fd)"
   ]
  },
  {
   "cell_type": "code",
   "execution_count": null,
   "metadata": {},
   "outputs": [],
   "source": [
    "predict = clf.predict(list(zip(cr_stats.size_in_sigmas, cr_stats.shapes)))"
   ]
  },
  {
   "cell_type": "code",
   "execution_count": null,
   "metadata": {
    "scrolled": true
   },
   "outputs": [],
   "source": [
    "predict.sum() == len(predict)"
   ]
  },
  {
   "cell_type": "markdown",
   "metadata": {},
   "source": [
    "### Example 2: Identifying CRs in observations with external sources\n",
    "\n",
    "Now we are going to apply everything that we just used above, but instead we are going to analyze an image with actual sources and cosmic rays"
   ]
  },
  {
   "cell_type": "code",
   "execution_count": null,
   "metadata": {},
   "outputs": [],
   "source": [
    "from astropy.convolution import Gaussian2DKernel\n",
    "from astropy.stats import gaussian_fwhm_to_sigma\n",
    "\n",
    "from photutils import detect_sources\n",
    "from photutils import detect_threshold\n",
    "from photutils import detect_sources"
   ]
  },
  {
   "cell_type": "code",
   "execution_count": null,
   "metadata": {},
   "outputs": [],
   "source": [
    "datapath = '/Users/nmiles/hst_cosmic_rays/notebooks/MAST_2019-11-09T1348/HST/ocr7qvhaq'"
   ]
  },
  {
   "cell_type": "code",
   "execution_count": null,
   "metadata": {},
   "outputs": [],
   "source": [
    "flist = glob.glob(datapath+'/*flt.fits')"
   ]
  },
  {
   "cell_type": "code",
   "execution_count": null,
   "metadata": {},
   "outputs": [],
   "source": [
    "star_label = labeler.CosmicRayLabel(fname=flist[0])\n",
    "star_label.get_data(extname='sci',extnums=[1])"
   ]
  },
  {
   "cell_type": "code",
   "execution_count": null,
   "metadata": {},
   "outputs": [],
   "source": [
    "plot(star_label.sci, stretch_type='log', vmin=0, vmax=1000)"
   ]
  },
  {
   "cell_type": "code",
   "execution_count": null,
   "metadata": {},
   "outputs": [],
   "source": [
    "star_label.sci"
   ]
  },
  {
   "cell_type": "code",
   "execution_count": null,
   "metadata": {},
   "outputs": [],
   "source": [
    "np.mean(star_label.sci)"
   ]
  },
  {
   "cell_type": "code",
   "execution_count": null,
   "metadata": {},
   "outputs": [],
   "source": [
    "# sigma = 3.0 * gaussian_fwhm_to_sigma  # FWHM = 3.\n",
    "# kernel = Gaussian2DKernel(sigma, x_size=3, y_size=3)\n",
    "# kernel.normalize()\n",
    "segm = detect_sources(star_label.sci, 10*np.median(star_label.sci) , npixels=8)"
   ]
  },
  {
   "cell_type": "code",
   "execution_count": null,
   "metadata": {},
   "outputs": [],
   "source": [
    "threshold_labeling_parameters = {\n",
    "    'use_dq': False,\n",
    "    'dq_flag': None,\n",
    "    'do_bitwise_comp': False,\n",
    "    'deblend': False, # If True, try to deblend (experimental, best to leave as False)\n",
    "    'threshold_l': 2, # Lower threshold for size of the labeled object to be consider a CR\n",
    "    'threshold_u': 800, # Upper threshold for size of labeled object to be consider a CR\n",
    "    'pix_thresh': 10*np.mean(cr_label.sci), # Set the absolute threshold to 3x the mean val\n",
    "    'structure_element': np.ones((3,3)) # Structuring element to be used in labeling\n",
    "}"
   ]
  },
  {
   "cell_type": "code",
   "execution_count": null,
   "metadata": {},
   "outputs": [],
   "source": [
    "star_label.ccd_labeling(**threshold_labeling_parameters)"
   ]
  },
  {
   "cell_type": "code",
   "execution_count": null,
   "metadata": {},
   "outputs": [],
   "source": [
    "star_label.plot(instr='STIS/CCD')"
   ]
  },
  {
   "cell_type": "code",
   "execution_count": null,
   "metadata": {},
   "outputs": [],
   "source": [
    "star_stats = statshandler.Stats(\n",
    "    cr_label=star_label,\n",
    "    integration_time=img_meta.metadata['integration_time'],\n",
    "    detector_size = img_meta.instr_cfg['instr_params']['detector_size']\n",
    ")\n",
    "star_stats.compute_cr_statistics()"
   ]
  },
  {
   "cell_type": "code",
   "execution_count": null,
   "metadata": {},
   "outputs": [],
   "source": [
    "classifications = clf.predict(list(zip(star_stats.size_in_sigmas, star_stats.shapes)))"
   ]
  },
  {
   "cell_type": "code",
   "execution_count": null,
   "metadata": {},
   "outputs": [],
   "source": [
    "percentage_of_crs = np.sum(classifications)/ len(classifications)\n",
    "percentage_of_stars = len(np.where(classifications==0)[0])/len(classifications)"
   ]
  },
  {
   "cell_type": "code",
   "execution_count": null,
   "metadata": {},
   "outputs": [],
   "source": [
    "print(f\"Percentage of CRs: {percentage_of_crs:.2%}\")\n",
    "print(f\"Percentage of stars: {percentage_of_stars:.2%}\")\n",
    "print(f\"Total: {percentage_of_crs + percentage_of_stars:.2%}\")"
   ]
  },
  {
   "cell_type": "code",
   "execution_count": null,
   "metadata": {},
   "outputs": [],
   "source": [
    "star_label.plot(instr='STIS/CCD')"
   ]
  },
  {
   "cell_type": "code",
   "execution_count": null,
   "metadata": {},
   "outputs": [],
   "source": [
    "for i, c in enumerate(classifications):\n",
    "    centroid = star_stats.centroids[i]\n",
    "    if c:\n",
    "        patch = Circle(xy=(centroid[1], centroid[0]), radius=3, color='red', fill=False)\n",
    "    else:\n",
    "        patch = Circle(xy=(centroid[1], centroid[0]), radius=3, color='green', fill=False)\n",
    "    star_label.ax1.add_patch(patch)"
   ]
  }
 ],
 "metadata": {
  "kernelspec": {
   "display_name": "Python 3",
   "language": "python",
   "name": "python3"
  },
  "language_info": {
   "codemirror_mode": {
    "name": "ipython",
    "version": 3
   },
   "file_extension": ".py",
   "mimetype": "text/x-python",
   "name": "python",
   "nbconvert_exporter": "python",
   "pygments_lexer": "ipython3",
   "version": "3.6.10"
  }
 },
 "nbformat": 4,
 "nbformat_minor": 4
}
