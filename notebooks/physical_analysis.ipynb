{
 "cells": [
  {
   "cell_type": "markdown",
   "metadata": {},
   "source": [
    "## Physical Analysis\n",
    "\n",
    "#### Goal\n",
    "- Derive the energy of the incoming particle by analyzing the amount of energy that it deposited\n",
    "\n",
    "- Relevant Information\n",
    "    - Electron-hole pair creation energy in silicon is 3.66 +/- 0.03 eV (independent of incoming photon energy)\n",
    "        - \"Mean energy required to produce an electron-hole pair in silicon for photons of energies between 50 and 1500 eV\", Scholze et al. 1998\n",
    "        - <a href=\"https://pdfs.semanticscholar.org/32a7/3c7b1a881d6992650390f9c97540529fdc7e.pdf?_ga=2.222678866.858335769.1593874624-1310422571.1590444937\">PDF of the paper</a>\n",
    "        - There is a temperature dependence, but the fractional change in the creation energy is of order ~1% over our range of interest\n",
    "        "
   ]
  },
  {
   "cell_type": "code",
   "execution_count": null,
   "metadata": {},
   "outputs": [],
   "source": [
    "%matplotlib widget\n",
    "import glob\n",
    "import os\n",
    "import sys\n",
    "import astropy.constants as physical_constants\n",
    "from astropy.io import fits\n",
    "from astropy.stats import sigma_clipped_stats\n",
    "from astropy.visualization import ImageNormalize, SqrtStretch, LogStretch, LinearStretch, ZScaleInterval, ManualInterval\n",
    "import astropy.units as u\n",
    "import dask.array as da\n",
    "import matplotlib.colors as colors\n",
    "import matplotlib.pyplot as plt\n",
    "import matplotlib.patches as patches\n",
    "from mpl_toolkits.axes_grid1 import make_axes_locatable\n",
    "plt.style.use('ggplot')\n",
    "import numpy as np\n",
    "import pylandau "
   ]
  },
  {
   "cell_type": "markdown",
   "metadata": {},
   "source": [
    "#### Estimating the average particle length using stats from Table 4\n",
    "\n",
    "- STIS\n",
    "    - Average CR affects 7 pixels\n",
    "- ACS/HRC\n",
    "    - Average CR affects 7 pixels\n",
    "- ACS/WFC\n",
    "    - Average CR affects 9 pixels\n",
    "- WFC3/UVIS\n",
    "    - Average CR affects 9 pixels"
   ]
  },
  {
   "cell_type": "code",
   "execution_count": null,
   "metadata": {},
   "outputs": [],
   "source": [
    "gamma = lambda v: 1/np.sqrt(1-(v/physical_constants.c)**2)\n",
    "relativistic_momentum = lambda v,m: gamma(v) * m * v \n",
    "relativistic_energy = lambda v,m: gamma(v)*m*physical_constants.c**2\n",
    "relativistic_kinetic_energy = lambda v,m: (gamma(v) - 1)*m*physical_constants.c**2\n",
    "\n",
    "def compute_Wmax(m, v):\n",
    "    m_e = physical_constants.m_e\n",
    "    c = physical_constants.c\n",
    "    numerator = 2 * m_e * c**2 * (v/c)**2 * gamma(v)**2\n",
    "    denominator = 1 + 2 * gamma(v) * m_e/m + (m_e/m)**2\n",
    "    return numerator/denominator\n",
    "\n",
    "def bethe_bloch(m, v, z, Z, A, W_max, I):\n",
    "    K = 0.307075 * u.megaelectronvolt * u.cm**2 / u.mol\n",
    "    m_e = physical_constants.m_e\n",
    "    c = physical_constants.c\n",
    "    constant = K * z**2 * Z/A * 1/(v/c)**2\n",
    "    density_corr = 0\n",
    "    scaling = 0.5 * np.log((2*m_e*c**2*(v/c)**2 * gamma(v)**2 * W_max)/I**2) - (v/c)**2 - density_corr/2\n",
    "    de_dx = constant * scaling\n",
    "    return de_dx\n",
    "\n",
    "def sternheimer_density_corr(beta, lorentz_factor):\n",
    "    X = np.log10(beta.value*lorentz_factor.value)\n",
    "    X0 = 0.966\n",
    "    X1 = 2.5\n",
    "    a = 0.3755\n",
    "    m = 3.233\n",
    "    C = -4.435\n",
    "    dcorr = []\n",
    "    try:\n",
    "        for val in X:\n",
    "            if X0 < val and val < X1:\n",
    "                delta = 4.6052*val + a*(X1 - val)**m + C\n",
    "            elif val >= X1:\n",
    "                delta = 4.6052*val + C\n",
    "            elif val < X0:\n",
    "                delta = 0.0865*10**(2*(val - X0))\n",
    "            dcorr.append(delta)\n",
    "    except TypeError:\n",
    "        if X0 < X and X < X1:\n",
    "                delta = 4.6052*X + a*(X1 - X)**m + C\n",
    "        elif X >= X1:\n",
    "            delta = 4.6052*X + C\n",
    "        elif X < X0:\n",
    "            delta = 0.0865*10**(2*(X - X0))\n",
    "        return delta\n",
    "    else:\n",
    "        return dcorr\n",
    "    \n",
    "def landau(m, v, z, Z, A, I, dx):\n",
    "    c = physical_constants.c\n",
    "    K = 0.307075 * u.megaelectronvolt * u.cm**2 / u.mol\n",
    "    m_e = physical_constants.m_e\n",
    "    constant = K/2 * Z/A * z**2 * dx * 1/(v/c)**2\n",
    "#     density_corr = sternheimer_density_corr(v/c, gamma(v))\n",
    "    density_corr = 0\n",
    "    scaling = np.log((2 * m_e * c**2 * (v/c)**2 * gamma(v)**2)/I) + np.log(constant/I) + 0.2 - (v/c)**2 - density_corr \n",
    "    return constant * scaling"
   ]
  },
  {
   "cell_type": "code",
   "execution_count": null,
   "metadata": {},
   "outputs": [],
   "source": [
    "dx = 3\n",
    "dy = 3"
   ]
  },
  {
   "cell_type": "code",
   "execution_count": null,
   "metadata": {},
   "outputs": [],
   "source": [
    "avg_proj_path = lambda dx, dy, psize: np.sqrt(dx**2 + dy**2) * psize "
   ]
  },
  {
   "cell_type": "code",
   "execution_count": null,
   "metadata": {},
   "outputs": [],
   "source": [
    "avg_stis = avg_proj_path(3, 3, 21)\n",
    "avg_wfc = avg_proj_path(4, 4, 15)"
   ]
  },
  {
   "cell_type": "code",
   "execution_count": null,
   "metadata": {},
   "outputs": [],
   "source": [
    "avg_stis"
   ]
  },
  {
   "cell_type": "code",
   "execution_count": null,
   "metadata": {},
   "outputs": [],
   "source": [
    "si_eh_pair = 3.71 *u.eV / u.electron"
   ]
  },
  {
   "cell_type": "code",
   "execution_count": null,
   "metadata": {},
   "outputs": [],
   "source": [
    "rdnse = 4 *u.electron\n",
    "rdnse_eV = rdnse * si_eh_pair"
   ]
  },
  {
   "cell_type": "code",
   "execution_count": null,
   "metadata": {},
   "outputs": [],
   "source": [
    "dc = 0.01 *u.electron/u.second\n",
    "dc_err_1000s = np.sqrt(dc * 1000 *u.second * si_eh_pair)"
   ]
  },
  {
   "cell_type": "code",
   "execution_count": null,
   "metadata": {},
   "outputs": [],
   "source": [
    "dc_err_1000s"
   ]
  },
  {
   "cell_type": "code",
   "execution_count": null,
   "metadata": {},
   "outputs": [],
   "source": [
    "rdnse_eV"
   ]
  },
  {
   "cell_type": "code",
   "execution_count": null,
   "metadata": {},
   "outputs": [],
   "source": [
    "total_uncertainty = np.sqrt(dc_err_1000s.value**2 + rdnse_eV.value**2) * u.eV"
   ]
  },
  {
   "cell_type": "code",
   "execution_count": null,
   "metadata": {},
   "outputs": [],
   "source": [
    "total_uncertainty.to('keV')"
   ]
  },
  {
   "cell_type": "code",
   "execution_count": null,
   "metadata": {},
   "outputs": [],
   "source": [
    "np.sqrt((10*21)**2 + 14**2)"
   ]
  },
  {
   "cell_type": "code",
   "execution_count": null,
   "metadata": {},
   "outputs": [],
   "source": [
    "base_path = os.path.join(os.path.dirname(os.getcwd()))\n",
    "pipeline_path = os.path.join(os.path.dirname(os.getcwd()), 'pipeline/')\n",
    "sys.path.append(pipeline_path)"
   ]
  },
  {
   "cell_type": "code",
   "execution_count": null,
   "metadata": {},
   "outputs": [],
   "source": [
    "pipeline_path"
   ]
  },
  {
   "cell_type": "markdown",
   "metadata": {},
   "source": [
    "Examining the relativistic limit for protons"
   ]
  },
  {
   "cell_type": "code",
   "execution_count": null,
   "metadata": {},
   "outputs": [],
   "source": [
    "m_p = physical_constants.m_p"
   ]
  },
  {
   "cell_type": "code",
   "execution_count": null,
   "metadata": {},
   "outputs": [],
   "source": [
    "0.8*physical_constants.c"
   ]
  },
  {
   "cell_type": "code",
   "execution_count": null,
   "metadata": {},
   "outputs": [],
   "source": [
    "velocities = np.linspace(0.25*physical_constants.c.value,0.99999999*physical_constants.c.value, 10000) * u.m/u.s\n",
    "lorentz_factor = np.array([gamma(v).value for v in velocities])\n",
    "spatial_momentum = np.array([relativistic_momentum(v, m_p).value for v in velocities]) * u.kg * u.m/u.s \n",
    "energy = np.array([relativistic_energy(v, m_p).value for v in velocities]) * u.kg * u.m**2 /u.s**2 # joules"
   ]
  },
  {
   "cell_type": "code",
   "execution_count": null,
   "metadata": {},
   "outputs": [],
   "source": [
    "gamma(0.71*physical_constants.c) * 0.71"
   ]
  },
  {
   "cell_type": "code",
   "execution_count": null,
   "metadata": {},
   "outputs": [],
   "source": [
    "beta = velocities/physical_constants.c\n",
    "lorentz_factor = gamma(velocities)\n",
    "product = beta*lorentz_factor"
   ]
  },
  {
   "cell_type": "code",
   "execution_count": null,
   "metadata": {},
   "outputs": [],
   "source": [
    "product[np.isclose(product.value, 2.1, atol=5e-5)]"
   ]
  },
  {
   "cell_type": "markdown",
   "metadata": {},
   "source": [
    "### Computing the conditions for Landau to apply\n",
    "t = 290 $\\mu$m\n",
    "\n",
    "k = $\\xi/W_{max}$<< 1\n",
    "\n",
    "$E_\\text{K}$ << $\\xi$"
   ]
  },
  {
   "cell_type": "code",
   "execution_count": null,
   "metadata": {},
   "outputs": [],
   "source": [
    "si_density = 2.329 * u.g/u.cm**3"
   ]
  },
  {
   "cell_type": "code",
   "execution_count": null,
   "metadata": {},
   "outputs": [],
   "source": [
    "z=1\n",
    "Z=14\n",
    "A=28.0855*u.g/u.mol\n",
    "beta_val=0.7\n",
    "K = 0.307075 * u.megaelectronvolt * u.cm**2 / u.mol\n",
    "m_e = physical_constants.m_e\n",
    "xi_betasq = K/2 * Z/A * z**2 *  si_density\n",
    "xi_betasq = xi_betasq.to('keV/micrometer')"
   ]
  },
  {
   "cell_type": "code",
   "execution_count": null,
   "metadata": {},
   "outputs": [],
   "source": [
    "xi_betasq"
   ]
  },
  {
   "cell_type": "code",
   "execution_count": null,
   "metadata": {},
   "outputs": [],
   "source": [
    "beta_bichsel1 = beta[np.isclose(product.value, 2.1, atol=5e-5)][0]"
   ]
  },
  {
   "cell_type": "code",
   "execution_count": null,
   "metadata": {},
   "outputs": [],
   "source": [
    "beta_bichsel2 = beta[np.isclose(product.value, 8.5, atol=2e-2)][0]"
   ]
  },
  {
   "cell_type": "code",
   "execution_count": null,
   "metadata": {},
   "outputs": [],
   "source": [
    "beta_bichsel1, beta_bichsel2"
   ]
  },
  {
   "cell_type": "code",
   "execution_count": null,
   "metadata": {},
   "outputs": [],
   "source": [
    "xi1 = (xi_betasq / beta_bichsel1**2) * 290*u.micrometer\n",
    "xi2 = (xi_betasq / beta_bichsel2**2) * 290*u.micrometer"
   ]
  },
  {
   "cell_type": "code",
   "execution_count": null,
   "metadata": {},
   "outputs": [],
   "source": [
    "xi1, xi2"
   ]
  },
  {
   "cell_type": "code",
   "execution_count": null,
   "metadata": {},
   "outputs": [],
   "source": [
    "Wmax1 = compute_Wmax(m_p, beta_bichsel1*physical_constants.c).to('keV')\n",
    "Wmax2 = compute_Wmax(m_p, beta_bichsel2*physical_constants.c).to('keV')"
   ]
  },
  {
   "cell_type": "code",
   "execution_count": null,
   "metadata": {},
   "outputs": [],
   "source": [
    "k1 = xi1/Wmax1\n",
    "k2 = xi2/Wmax2"
   ]
  },
  {
   "cell_type": "code",
   "execution_count": null,
   "metadata": {},
   "outputs": [],
   "source": [
    "k1"
   ]
  },
  {
   "cell_type": "code",
   "execution_count": null,
   "metadata": {},
   "outputs": [],
   "source": [
    "print(f\"{k1:.2e}, {k2:.2e}\")"
   ]
  },
  {
   "cell_type": "code",
   "execution_count": null,
   "metadata": {},
   "outputs": [],
   "source": [
    "KE_1 = relativistic_kinetic_energy(beta_bichsel1*physical_constants.c, m_p).to('GeV')"
   ]
  },
  {
   "cell_type": "code",
   "execution_count": null,
   "metadata": {},
   "outputs": [],
   "source": [
    "KE_1"
   ]
  },
  {
   "cell_type": "code",
   "execution_count": null,
   "metadata": {},
   "outputs": [],
   "source": [
    "KE_2 = relativistic_kinetic_energy(beta_bichsel2*physical_constants.c, m_p).to('GeV')"
   ]
  },
  {
   "cell_type": "code",
   "execution_count": null,
   "metadata": {},
   "outputs": [],
   "source": [
    "KE_2"
   ]
  },
  {
   "cell_type": "markdown",
   "metadata": {},
   "source": [
    "#### Assume proton has a kinetic energy of 4 GeV\n",
    "\n",
    "compute gamma and beta\n"
   ]
  },
  {
   "cell_type": "code",
   "execution_count": null,
   "metadata": {},
   "outputs": [],
   "source": [
    "gamma_4gev = 4/0.938 + 1\n",
    "beta_4gev = np.sqrt(1 - 1/gamma_4gev**2)"
   ]
  },
  {
   "cell_type": "code",
   "execution_count": null,
   "metadata": {},
   "outputs": [],
   "source": [
    "gamma_4gev, beta_4gev"
   ]
  },
  {
   "cell_type": "code",
   "execution_count": null,
   "metadata": {},
   "outputs": [],
   "source": [
    "beta"
   ]
  },
  {
   "cell_type": "code",
   "execution_count": null,
   "metadata": {},
   "outputs": [],
   "source": [
    "wmax = compute_Wmax(m_p, beta_4gev * physical_constants.c).to('keV')"
   ]
  },
  {
   "cell_type": "code",
   "execution_count": null,
   "metadata": {},
   "outputs": [],
   "source": [
    "f\"{wmax:.2e}\""
   ]
  },
  {
   "cell_type": "code",
   "execution_count": null,
   "metadata": {},
   "outputs": [],
   "source": [
    "xi_betasq * 290*u.micrometer"
   ]
  },
  {
   "cell_type": "code",
   "execution_count": null,
   "metadata": {},
   "outputs": [],
   "source": [
    "k = xi_betasq * 290*u.micrometer / wmax"
   ]
  },
  {
   "cell_type": "code",
   "execution_count": null,
   "metadata": {},
   "outputs": [],
   "source": [
    "print(f\"{k:.2e}\")"
   ]
  },
  {
   "cell_type": "code",
   "execution_count": null,
   "metadata": {},
   "outputs": [],
   "source": [
    "fig, ax = plt.subplots(nrows=1, ncols=1)\n",
    "ax.semilogy(beta, product, marker='o', ms=2.)\n",
    "ax.axhline(2, ls='--')\n",
    "ax.axhline(8.5,ls='--')\n",
    "ax.set_xlabel(r'$\\beta$')\n",
    "ax.set_ylabel(r'$\\beta\\gamma$')"
   ]
  },
  {
   "cell_type": "markdown",
   "metadata": {},
   "source": [
    "#### Convert the energy to MeV"
   ]
  },
  {
   "cell_type": "code",
   "execution_count": null,
   "metadata": {},
   "outputs": [],
   "source": [
    "energy_MeV = energy.to('Joule').to('megaelectronvolt')"
   ]
  },
  {
   "cell_type": "markdown",
   "metadata": {},
   "source": [
    "#### Calculate the Kinetic Energy"
   ]
  },
  {
   "cell_type": "code",
   "execution_count": null,
   "metadata": {},
   "outputs": [],
   "source": [
    "kinetc_energy = energy_MeV - m_p*physical_constants.c**2"
   ]
  },
  {
   "cell_type": "markdown",
   "metadata": {},
   "source": [
    "#### Convert the momentum to MeV/c"
   ]
  },
  {
   "cell_type": "code",
   "execution_count": null,
   "metadata": {},
   "outputs": [],
   "source": [
    "spatial_momentum_MeV_per_c = spatial_momentum * physical_constants.c\n",
    "spatial_momentum_MeV_per_c = spatial_momentum_MeV_per_c.to('Joule').to('megaelectronvolt')"
   ]
  },
  {
   "cell_type": "code",
   "execution_count": null,
   "metadata": {},
   "outputs": [],
   "source": [
    "spatial_momentum_MeV_per_c"
   ]
  },
  {
   "cell_type": "code",
   "execution_count": null,
   "metadata": {},
   "outputs": [],
   "source": [
    "beta_lorentz = velocities/physical_constants.c * lorentz_factor"
   ]
  },
  {
   "cell_type": "code",
   "execution_count": null,
   "metadata": {},
   "outputs": [],
   "source": [
    "ms=5\n",
    "fig, ax = plt.subplots(nrows=1, ncols=3, figsize=(10,4.5), gridspec_kw={'wspace':0.5})\n",
    "\n",
    "ax[0].scatter(beta_lorentz, lorentz_factor,s=ms)\n",
    "ax[1].scatter(beta_lorentz, spatial_momentum_MeV_per_c,s=ms)\n",
    "ax[2].scatter(beta_lorentz, energy_MeV,s=ms)\n",
    "for a in ax:\n",
    "    a.set_xlabel(r'$\\beta\\gamma$')\n",
    "    a.set_yscale('log')\n",
    "    a.set_xscale('log')\n",
    "    \n",
    "ax[0].set_ylabel('Lorentz Factor [dimensionless]')\n",
    "ax[1].set_ylabel(f\"Relativistic Momentum [{spatial_momentum_MeV_per_c.unit}/c]\")\n",
    "ax[2].set_ylabel(f\"Relativistic Energy [{energy_MeV.unit}]\")\n"
   ]
  },
  {
   "cell_type": "code",
   "execution_count": null,
   "metadata": {},
   "outputs": [],
   "source": [
    "wmax = compute_Wmax(m_p, velocities)"
   ]
  },
  {
   "cell_type": "code",
   "execution_count": null,
   "metadata": {},
   "outputs": [],
   "source": [
    "wmax = wmax.to('Joule').to('keV')"
   ]
  },
  {
   "cell_type": "code",
   "execution_count": null,
   "metadata": {},
   "outputs": [],
   "source": [
    "fig, ax = plt.subplots(nrows=1, ncols=1)\n",
    "ax.loglog(kinetc_energy, wmax)\n",
    "ax.set_xlabel(f'Kinetic Energy [{kinetc_energy.unit}]')\n",
    "ax.set_ylabel('Wmax'+f' [{wmax.unit}]')"
   ]
  },
  {
   "cell_type": "code",
   "execution_count": null,
   "metadata": {},
   "outputs": [],
   "source": [
    "fig, ax = plt.subplots(nrows=1, ncols=1)\n",
    "ax.semilogy(product, kinetc_energy)\n",
    "ax.set_ylabel(f'Kinetic Energy [{kinetc_energy.unit}]')\n",
    "ax.set_xlabel(r'$\\beta\\gamma$')\n",
    "ax.set_xscale('log')\n",
    "ax.axvline(2.1)\n",
    "ax.axvline(8.5)"
   ]
  },
  {
   "cell_type": "code",
   "execution_count": null,
   "metadata": {},
   "outputs": [],
   "source": [
    "def sternheimer_density_corr(beta, lorentz_factor):\n",
    "    X = np.log10(beta.value*lorentz_factor.value)\n",
    "    X0 = 0.966\n",
    "    X1 = 2.5\n",
    "    a = 0.3755\n",
    "    m = 3.233\n",
    "    C = -4.435\n",
    "    dcorr = []\n",
    "    try:\n",
    "        for val in X:\n",
    "            if X0 < val and val < X1:\n",
    "                delta = 4.6052*val + a*(X1 - val)**m + C\n",
    "            elif val >= X1:\n",
    "                delta = 4.6052*val + C\n",
    "            elif val < X0:\n",
    "                delta = 0.0865*10**(2*(val - X0))\n",
    "            dcorr.append(delta)\n",
    "    except TypeError:\n",
    "        if X0 < X and X < X1:\n",
    "                delta = 4.6052*X + a*(X1 - X)**m + C\n",
    "        elif X >= X1:\n",
    "            delta = 4.6052*X + C\n",
    "        elif X < X0:\n",
    "            delta = 0.0865*10**(2*(X - X0))\n",
    "        return delta\n",
    "    else:\n",
    "        return dcorr\n",
    "    "
   ]
  },
  {
   "cell_type": "code",
   "execution_count": null,
   "metadata": {},
   "outputs": [],
   "source": [
    "def landau(m, v, z, Z, A, I, dx):\n",
    "    c = physical_constants.c\n",
    "    K = 0.307075 * u.megaelectronvolt * u.cm**2 / u.mol\n",
    "    m_e = physical_constants.m_e\n",
    "    constant = K/2 * Z/A * z**2 * dx * 1/(v/c)**2\n",
    "#     density_corr = sternheimer_density_corr(v/c, gamma(v))\n",
    "    density_corr = 0\n",
    "    scaling = np.log((2 * m_e * c**2 * (v/c)**2 * gamma(v)**2)/I) + np.log(constant/I) + 0.2 - (v/c)**2 - density_corr \n",
    "    return constant * scaling"
   ]
  },
  {
   "cell_type": "code",
   "execution_count": null,
   "metadata": {},
   "outputs": [],
   "source": [
    "pb_density = 11.34 * u.g/u.cm**3\n",
    "si_density = 2.329 * u.g/u.cm**3"
   ]
  },
  {
   "cell_type": "markdown",
   "metadata": {},
   "source": [
    "## Checking $k$"
   ]
  },
  {
   "cell_type": "code",
   "execution_count": null,
   "metadata": {},
   "outputs": [],
   "source": [
    "v = 0.6*physical_constants.c\n",
    "wmax_test = compute_Wmax(m_p, v)\n",
    "wmax_test=wmax_test.to('keV')\n",
    "wmax_test"
   ]
  },
  {
   "cell_type": "code",
   "execution_count": null,
   "metadata": {},
   "outputs": [],
   "source": [
    "z=1\n",
    "Z=14\n",
    "A=28.0855*u.g/u.mol\n",
    "beta_val=0.7\n",
    "K = 0.307075 * u.megaelectronvolt * u.cm**2 / u.mol\n",
    "m_e = physical_constants.m_e\n",
    "xi = K/2 * Z/A * z**2 *  1/(beta)**2 * si_density\n",
    "xi = xi.to('keV/micrometer')\n",
    "xi *= 290 *u.micrometer"
   ]
  },
  {
   "cell_type": "code",
   "execution_count": null,
   "metadata": {},
   "outputs": [],
   "source": [
    "xi "
   ]
  },
  {
   "cell_type": "code",
   "execution_count": null,
   "metadata": {},
   "outputs": [],
   "source": [
    "xi/wmax_test"
   ]
  },
  {
   "cell_type": "code",
   "execution_count": null,
   "metadata": {},
   "outputs": [],
   "source": [
    "si_de_dx = bethe_bloch(m_p, velocities, z=1, Z=14, A=28.0855*u.g/u.mol, W_max=wmax, I=173*u.eV)\n",
    "pb_de_dx = bethe_bloch(m_p, velocities, z=1, Z=82, A=207.2*u.g/u.mol, W_max=wmax, I=823*u.eV)\n"
   ]
  },
  {
   "cell_type": "code",
   "execution_count": null,
   "metadata": {},
   "outputs": [],
   "source": [
    "si_landau_de_100 = landau(m_p, velocities, z=1, Z=14, A=28.0855*u.g/u.mol, I=173*u.eV, dx=200*u.micrometer * si_density)\n",
    "si_landau_de_70 = landau(m_p, velocities, z=1, Z=14, A=28.0855*u.g/u.mol, I=173*u.eV, dx=100*u.micrometer * si_density)"
   ]
  },
  {
   "cell_type": "code",
   "execution_count": null,
   "metadata": {},
   "outputs": [],
   "source": [
    "speed = 0.999*physical_constants.c"
   ]
  },
  {
   "cell_type": "code",
   "execution_count": null,
   "metadata": {},
   "outputs": [],
   "source": [
    "speed_12_GeV = 0.99694*physical_constants.c"
   ]
  },
  {
   "cell_type": "code",
   "execution_count": null,
   "metadata": {},
   "outputs": [],
   "source": [
    "mpv = landau(m_p, speed,z=1, Z=14, A=28.0855*u.g/u.mol, I=173*u.eV, dx=100*u.micrometer * si_density)"
   ]
  },
  {
   "cell_type": "code",
   "execution_count": null,
   "metadata": {},
   "outputs": [],
   "source": [
    "mpv.to('keV')"
   ]
  },
  {
   "cell_type": "code",
   "execution_count": null,
   "metadata": {},
   "outputs": [],
   "source": [
    "si_landau_de_100 = si_landau_de_100.to('keV')\n",
    "si_landau_de_70 = si_landau_de_70.to('keV')"
   ]
  },
  {
   "cell_type": "code",
   "execution_count": null,
   "metadata": {},
   "outputs": [],
   "source": [
    "kinetc_energy = energy_MeV - m_p*physical_constants.c**2"
   ]
  },
  {
   "cell_type": "code",
   "execution_count": null,
   "metadata": {},
   "outputs": [],
   "source": [
    "fig, ax = plt.subplots(nrows=1, ncols=1, figsize=(6,5))\n",
    "ax.semilogy(beta, kinetc_energy, label='')"
   ]
  },
  {
   "cell_type": "code",
   "execution_count": null,
   "metadata": {},
   "outputs": [],
   "source": [
    "relativistic_energy(0.99694*physical_constants.c, m_p).to('GeV')"
   ]
  },
  {
   "cell_type": "code",
   "execution_count": null,
   "metadata": {},
   "outputs": [],
   "source": [
    "kinetc_energy[408]"
   ]
  },
  {
   "cell_type": "code",
   "execution_count": null,
   "metadata": {},
   "outputs": [],
   "source": [
    "si_de_dx[408]"
   ]
  },
  {
   "cell_type": "code",
   "execution_count": null,
   "metadata": {},
   "outputs": [],
   "source": [
    "pb_loss_per_x = (pb_de_dx*pb_density).to('MeV/micrometer')\n",
    "si_loss_per_x = (si_de_dx*si_density).to('MeV/micrometer')"
   ]
  },
  {
   "cell_type": "code",
   "execution_count": null,
   "metadata": {},
   "outputs": [],
   "source": [
    "fig, ax = plt.subplots(nrows=1, ncols=1, figsize=(6,5))\n",
    "ax.semilogx(kinetc_energy, si_de_dx, label='Si')\n",
    "ax.semilogx(kinetc_energy, pb_de_dx, label='Pb')\n",
    "ax.set_xlim(5e1, 8e6)\n",
    "# ax.set_xscale('log')\n",
    "# ax.set_yscale('log')\n",
    "ax.set_ylim(1,10)\n",
    "ax.set_xlabel('Kinetic Energy MeV')\n",
    "ax.set_ylabel(f\"Linear Stopping Power [{si_de_dx.unit}]\")\n",
    "ax.legend(loc='upper right', edgecolor='k')\n",
    "ax.set_title('Proton Stopping Power')"
   ]
  },
  {
   "cell_type": "code",
   "execution_count": null,
   "metadata": {},
   "outputs": [],
   "source": [
    "fig, ax = plt.subplots(nrows=1, ncols=1, figsize=(6,5))\n",
    "ax.semilogx(kinetc_energy, si_loss_per_x, label='Si')\n",
    "ax.semilogx(kinetc_energy, pb_loss_per_x, label='Pb')\n",
    "ax.set_xlim(5e1, 8e6)\n",
    "# ax.set_xscale('log')\n",
    "# ax.set_yscale('log')\n",
    "ax.set_ylim(0,0.01)\n",
    "ax.set_xlabel('Kinetic Energy MeV')\n",
    "ax.set_ylabel(f\"Energy Loss [{si_loss_per_x.unit}]\")\n",
    "ax.legend(loc='upper right', edgecolor='k')\n",
    "ax.set_title('Proton Energy Loss')"
   ]
  },
  {
   "cell_type": "code",
   "execution_count": null,
   "metadata": {},
   "outputs": [],
   "source": [
    "thickness = 1 * u.micrometer\n",
    "total_loss_min = (si_loss_per_x * 280*thickness).to('keV')\n",
    "total_loss_avg = (si_loss_per_x * 290 * thickness ).to('keV')\n",
    "total_loss_max = (si_loss_per_x* 300 *thickness).to('keV')"
   ]
  },
  {
   "cell_type": "code",
   "execution_count": null,
   "metadata": {},
   "outputs": [],
   "source": [
    "si_loss_per_x"
   ]
  },
  {
   "cell_type": "code",
   "execution_count": null,
   "metadata": {},
   "outputs": [],
   "source": [
    "fig, ax = plt.subplots(nrows=1, ncols=1, figsize=(6,5))\n",
    "\n",
    "ax.fill_between(kinetc_energy, total_loss_min, total_loss_max, alpha=0.5)\n",
    "\n",
    "ax.semilogx(kinetc_energy, total_loss_min,ls='--', lw=2.25, c='r', label=f'{280*thickness}')\n",
    "ax.semilogx(kinetc_energy, total_loss_avg, label=f'{200*thickness}')\n",
    "ax.semilogx(kinetc_energy, total_loss_max,ls=':', c='r', lw=2.25, label=f'{300*thickness}')\n",
    "ax.set_xlim(5e1, 8e6)\n",
    "# ax.set_xscale('log')\n",
    "# ax.set_yscale('log')\n",
    "ax.set_ylim(0,250)\n",
    "ax.set_xlabel('Kinetic Energy MeV')\n",
    "ax.set_ylabel(f\"Energy Loss [{total_loss_avg.unit}]\")\n",
    "ax.legend(loc='upper right', edgecolor='k')\n",
    "ax.set_title('Proton Energy Loss for Si (Bethe-Bloch)')"
   ]
  },
  {
   "cell_type": "code",
   "execution_count": null,
   "metadata": {},
   "outputs": [],
   "source": []
  },
  {
   "cell_type": "code",
   "execution_count": null,
   "metadata": {},
   "outputs": [],
   "source": [
    "fig, ax = plt.subplots(nrows=1, ncols=1)\n",
    "for i in [200, 250]:\n",
    "    energy_loss = landau(m_p, velocities, z=1, Z=14, A=28.0855*u.g/u.mol, I=173*u.eV, dx=i*u.micrometer * si_density)\n",
    "    energy_loss = energy_loss.to('keV')\n",
    "    if i == 280:\n",
    "        c = 'tab:purple'\n",
    "    else:\n",
    "        c = 'tab:red'\n",
    "    ax.semilogx(kinetc_energy, energy_loss,c=c, label=f'Landau pred. for {i:.0f}$\\mu$m')\n",
    "#     ax.semilogx(kinetc_energy, (si_loss_per_x * i*u.micrometer).to('keV'),c=c, ls='--',label=f'Bethe pred. for {i:.0f}$\\mu$m')\n",
    "#     ax.semilogx(kinetc_energy, si_landau_de_70, label='Losses for 70$\\mu$m')\n",
    "ax.set_xlabel(f\"Kinetic Energy [{kinetc_energy.unit}]\")\n",
    "ax.set_ylabel(f\"Energy Loss [{energy_loss.unit}]\")\n",
    "ax.legend(loc='best', edgecolor='k')\n",
    "ax.set_ylim(20, 150)\n",
    "ax.set_xlim(100, 1e6)\n",
    "ax.yaxis.set_major_locator(plt.MultipleLocator(20))\n",
    "ax.yaxis.set_minor_locator(plt.MultipleLocator(5))\n",
    "ax.set_title('Energy Loss Predictions')\n",
    "fig.savefig('/user/nmiles/landau_vs_bethe.jpeg',format='jpeg',dpi=250, bbox_inches='tight')"
   ]
  },
  {
   "cell_type": "code",
   "execution_count": null,
   "metadata": {},
   "outputs": [],
   "source": [
    "plt.close('all')"
   ]
  },
  {
   "cell_type": "markdown",
   "metadata": {},
   "source": [
    "## Gyroradius in Earth's Magnetosphere"
   ]
  },
  {
   "cell_type": "code",
   "execution_count": null,
   "metadata": {},
   "outputs": [],
   "source": [
    "import pmagpy.ipmag as ipmag\n",
    "import cartopy.crs as ccrs\n",
    "from cartopy.mpl.ticker import LongitudeFormatter, LatitudeFormatter\n",
    "from cartopy.mpl.gridliner import LONGITUDE_FORMATTER, LATITUDE_FORMATTER"
   ]
  },
  {
   "cell_type": "code",
   "execution_count": null,
   "metadata": {},
   "outputs": [],
   "source": [
    "altitude = np.linspace(100, 1000, 10)\n",
    "date = 2002\n",
    "lat = 0\n",
    "lon = 0\n",
    "# lat_grid, lon_grid = np.meshgrid(lat, lon)\n",
    "# coordinates = list(zip(lat_grid.ravel(), lon_grid.ravel()))\n",
    "B_strength = []\n",
    "for a in altitude:\n",
    "    b_field = ipmag.igrf([date, a, lat, lon])\n",
    "    B_strength.append(b_field[-1])\n",
    "# B_strength_grid = np.array(B_strength).reshape(lat_grid.shape)"
   ]
  },
  {
   "cell_type": "code",
   "execution_count": null,
   "metadata": {},
   "outputs": [],
   "source": [
    "fig, ax = plt.subplots(nrows=1, ncols=1)\n",
    "ax.scatter(altitude, B_strength)"
   ]
  },
  {
   "cell_type": "markdown",
   "metadata": {},
   "source": [
    "First we generate the B field strength in HST's orbital path with 1 degree spatial resolution"
   ]
  },
  {
   "cell_type": "code",
   "execution_count": null,
   "metadata": {},
   "outputs": [],
   "source": [
    "altitude = 1200\n",
    "date = 2002\n",
    "lat = np.linspace(-30, 30, 1 * 60 + 1)\n",
    "lon = np.linspace(0, 360, 1 * 60 + 1)\n",
    "lat_grid, lon_grid = np.meshgrid(lat, lon)\n",
    "coordinates = list(zip(lat_grid.ravel(), lon_grid.ravel()))\n",
    "B_strength = []\n",
    "for coords in coordinates:\n",
    "    b_field = ipmag.igrf([date, altitude, coords[0], coords[1]])\n",
    "    B_strength.append(b_field[-1])\n",
    "B_strength_grid = np.array(B_strength).reshape(lat_grid.shape)"
   ]
  },
  {
   "cell_type": "code",
   "execution_count": null,
   "metadata": {},
   "outputs": [],
   "source": [
    "len(lat)"
   ]
  },
  {
   "cell_type": "code",
   "execution_count": null,
   "metadata": {},
   "outputs": [],
   "source": [
    "len(lon)"
   ]
  },
  {
   "cell_type": "code",
   "execution_count": null,
   "metadata": {},
   "outputs": [],
   "source": [
    "B_strength = B_strength * u.nT"
   ]
  },
  {
   "cell_type": "code",
   "execution_count": null,
   "metadata": {},
   "outputs": [],
   "source": [
    "B_strength[1]"
   ]
  },
  {
   "cell_type": "markdown",
   "metadata": {},
   "source": [
    "### Computing kinetic energy from gyromagnetic rigidity"
   ]
  },
  {
   "cell_type": "code",
   "execution_count": null,
   "metadata": {},
   "outputs": [],
   "source": [
    "rigidity = 5 * u.gigavolt"
   ]
  },
  {
   "cell_type": "code",
   "execution_count": null,
   "metadata": {},
   "outputs": [],
   "source": [
    "momentum = rigidity * 1.602e-19 * u.C"
   ]
  },
  {
   "cell_type": "code",
   "execution_count": null,
   "metadata": {},
   "outputs": [],
   "source": [
    "total_E = np.sqrt((m_p*physical_constants.c**2)**2 + momentum.to('GeV')**2).to('GeV')"
   ]
  },
  {
   "cell_type": "code",
   "execution_count": null,
   "metadata": {},
   "outputs": [],
   "source": [
    "total_E"
   ]
  },
  {
   "cell_type": "code",
   "execution_count": null,
   "metadata": {},
   "outputs": [],
   "source": [
    "kinetic_energy = total_E - m_p * physical_constants.c**2"
   ]
  },
  {
   "cell_type": "code",
   "execution_count": null,
   "metadata": {},
   "outputs": [],
   "source": [
    "kinetic_energy"
   ]
  },
  {
   "cell_type": "code",
   "execution_count": null,
   "metadata": {},
   "outputs": [],
   "source": [
    "def relativistic_gyroradius(m,v,B,q):\n",
    "    R = gamma(v) * m * v/(q*B)\n",
    "    return R.to('m').to('km')\n",
    "    "
   ]
  },
  {
   "cell_type": "code",
   "execution_count": null,
   "metadata": {},
   "outputs": [],
   "source": [
    "physical_constants.e"
   ]
  },
  {
   "cell_type": "code",
   "execution_count": null,
   "metadata": {},
   "outputs": [],
   "source": [
    "gyro_radii = []\n",
    "for B in B_strength:\n",
    "    R = relativistic_gyroradius(m=physical_constants.m_p, v=0.9*physical_constants.c, B=B.to('T'), q=1.602e-19 *u.C)\n",
    "    gyro_radii.append(R.value)"
   ]
  },
  {
   "cell_type": "code",
   "execution_count": null,
   "metadata": {},
   "outputs": [],
   "source": [
    "B_strength"
   ]
  },
  {
   "cell_type": "code",
   "execution_count": null,
   "metadata": {},
   "outputs": [],
   "source": [
    "gyro_radii = gyro_radii * u.km"
   ]
  },
  {
   "cell_type": "code",
   "execution_count": null,
   "metadata": {},
   "outputs": [],
   "source": [
    "fname = '/ifs/missions/projects/plcosmic/hst_cosmic_rays/APJ_plots/HYP_50M_SR_W.tif'\n",
    "fig, ax = plt.subplots(nrows=1,\n",
    "                       ncols=1,\n",
    "                       figsize=(8, 5),\n",
    "                       subplot_kw={'projection': ccrs.PlateCarree()}\n",
    "                      )\n",
    "\n",
    "crs = ccrs.PlateCarree()\n",
    "transform = crs._as_mpl_transform(ax)\n",
    "ax.imshow(\n",
    "    plt.imread(fname),\n",
    "    origin='upper',\n",
    "    transform=crs,\n",
    "    extent=[-180, 180, -30, 30]\n",
    ")\n",
    "# ax.stock_img()\n",
    "ax.coastlines()\n",
    "gl = ax.gridlines(crs=ccrs.PlateCarree(), draw_labels=True,\n",
    "                  linewidth=1, color='k', alpha=0.4, linestyle='--')\n",
    "gl.xlabels_top = False\n",
    "gl.ylabels_left = True\n",
    "gl.ylabels_right = False\n",
    "gl.xlines = True\n",
    "# gl.xlocator = mticker.FixedLocator([-180, -45, 0, 45, 180])\n",
    "gl.xformatter = LONGITUDE_FORMATTER\n",
    "gl.yformatter = LATITUDE_FORMATTER\n",
    "gl.xlocator = plt.MultipleLocator(30)\n",
    "gl.ylocator = plt.MultipleLocator(20)\n",
    "gl.xlabel_style = {'size': 10, 'color': 'black'}\n",
    "gl.xlabel_style = {'color': 'black'}\n",
    "\n",
    "scat = ax.scatter(\n",
    "    lon, \n",
    "    lat,\n",
    "    marker='o',\n",
    "    s=5.5,\n",
    "    c='k', alpha=0.9,\n",
    "    transform=ccrs.PlateCarree()\n",
    "            )\n",
    "\n",
    "cntr = ax.contour(\n",
    "    lon_grid,\n",
    "    lat_grid,\n",
    "    B_strength_grid,\n",
    "    cmap='plasma', \n",
    "    levels=14,\n",
    "    alpha=1, \n",
    "    lw=2, \n",
    "    transform=ccrs.PlateCarree()\n",
    "    )"
   ]
  },
  {
   "cell_type": "code",
   "execution_count": null,
   "metadata": {},
   "outputs": [],
   "source": [
    "fig, ax = plt.subplots(nrows=1, ncols=1)\n",
    "ax.scatter(B_strength, gyro_radii, s=3)\n",
    "ax.set_ylabel(f'Gyroradius [{gyro_radii.unit}]')\n",
    "ax.set_xlabel(f'|B| {B_strength.unit}')"
   ]
  },
  {
   "cell_type": "code",
   "execution_count": null,
   "metadata": {},
   "outputs": [],
   "source": [
    "fname = '/ifs/missions/projects/plcosmic/hst_cosmic_rays/APJ_plots/HYP_50M_SR_W.tif'\n",
    "fig, ax = plt.subplots(nrows=1,\n",
    "                       ncols=1,\n",
    "                       figsize=(8, 5),\n",
    "                       subplot_kw={'projection': ccrs.PlateCarree()}\n",
    "                      )\n",
    "\n",
    "crs = ccrs.PlateCarree()\n",
    "transform = crs._as_mpl_transform(ax)\n",
    "ax.imshow(\n",
    "    plt.imread(fname),\n",
    "    origin='upper',\n",
    "    transform=crs,\n",
    "    extent=[-180, 180, -90, 90]\n",
    ")\n",
    "# ax.stock_img()\n",
    "ax.coastlines()\n",
    "gl = ax.gridlines(crs=ccrs.PlateCarree(), draw_labels=True,\n",
    "                  linewidth=1, color='k', alpha=0.4, linestyle='--')\n",
    "gl.xlabels_top = False\n",
    "gl.ylabels_left = True\n",
    "gl.ylabels_right = False\n",
    "gl.xlines = True\n",
    "# gl.xlocator = mticker.FixedLocator([-180, -45, 0, 45, 180])\n",
    "gl.xformatter = LONGITUDE_FORMATTER\n",
    "gl.yformatter = LATITUDE_FORMATTER\n",
    "gl.xlocator = plt.MultipleLocator(30)\n",
    "gl.ylocator = plt.MultipleLocator(20)\n",
    "gl.xlabel_style = {'size': 10, 'color': 'black'}\n",
    "gl.xlabel_style = {'color': 'black'}\n",
    "\n",
    "scat = ax.scatter(\n",
    "    lon, \n",
    "    lat,\n",
    "    marker='o',\n",
    "    s=3.5,\n",
    "    c='k', alpha=0.7,\n",
    "    transform=ccrs.PlateCarree()\n",
    "            )\n",
    "\n",
    "# cntr = ax.contour(\n",
    "#     lon_grid,\n",
    "#     lat_grid,\n",
    "#     B_strength_grid,\n",
    "#     cmap='plasma', \n",
    "#     levels=10,\n",
    "#     alpha=1, \n",
    "#     lw=2, \n",
    "#     transform=ccrs.PlateCarree()\n",
    "#     )"
   ]
  },
  {
   "cell_type": "code",
   "execution_count": null,
   "metadata": {},
   "outputs": [],
   "source": [
    "lon - 180"
   ]
  },
  {
   "cell_type": "code",
   "execution_count": null,
   "metadata": {},
   "outputs": [],
   "source": [
    "lat"
   ]
  },
  {
   "cell_type": "code",
   "execution_count": null,
   "metadata": {},
   "outputs": [],
   "source": []
  }
 ],
 "metadata": {
  "kernelspec": {
   "display_name": "Python 3",
   "language": "python",
   "name": "python3"
  },
  "language_info": {
   "codemirror_mode": {
    "name": "ipython",
    "version": 3
   },
   "file_extension": ".py",
   "mimetype": "text/x-python",
   "name": "python",
   "nbconvert_exporter": "python",
   "pygments_lexer": "ipython3",
   "version": "3.6.11"
  }
 },
 "nbformat": 4,
 "nbformat_minor": 4
}
