{
 "cells": [
  {
   "cell_type": "markdown",
   "metadata": {},
   "source": [
    "# Run the fitting routine to assess errors\n",
    "- Convert to units of eV\n",
    "- Fit the straggling function\n",
    "\n",
    "In the first half of this notebook, we use a least squares approaching to fitting the model PDF to the histogram.\n",
    "\n",
    "In the second half, we use a log-likelihood approach to fitting the model PDF to the histogram."
   ]
  },
  {
   "cell_type": "code",
   "execution_count": null,
   "metadata": {},
   "outputs": [],
   "source": [
    "# native modules\n",
    "%matplotlib widget\n",
    "from collections import defaultdict\n",
    "import glob\n",
    "import os\n",
    "import sys\n",
    "sys.path.append('/ifs/missions/projects/plcosmic/hst_cosmic_rays/pipeline/utils')\n",
    "\n",
    "# Local module in the pipeline/utils directory\n",
    "import fit_energy\n",
    "\n",
    "# external modules\n",
    "import astropy.constants as physical_constants\n",
    "import astropy.units as u\n",
    "import iminuit\n",
    "from iminuit.cost import LeastSquares\n",
    "import matplotlib.colors as colors\n",
    "import matplotlib.pyplot as plt\n",
    "import matplotlib.patches as patches\n",
    "from mpl_toolkits.axes_grid1 import make_axes_locatable\n",
    "plt.style.use('ggplot')\n",
    "import numpy as np\n",
    "import pandas as pd\n",
    "import pymc3 as pm\n",
    "from pylandau import landau, langau\n",
    "import statsmodels.api as sm\n",
    "import scipy.ndimage as ndimage\n",
    "from scipy.optimize import least_squares\n",
    "from tqdm import tqdm"
   ]
  },
  {
   "cell_type": "code",
   "execution_count": null,
   "metadata": {},
   "outputs": [],
   "source": [
    "data_path = '/ifs/missions/projects/plcosmic/hst_cosmic_rays/pipeline/utils'"
   ]
  },
  {
   "cell_type": "code",
   "execution_count": null,
   "metadata": {},
   "outputs": [],
   "source": [
    "stis_data, stis_ddf = fit_energy.read_ddf(fname=f'{data_path}/stis_ccd_cr_params_2000to2004.txt')\n",
    "hrc_data, hrc_ddf = fit_energy.read_ddf(fname=f'{data_path}/acs_hrc_cr_params_Apr2002toJan2005.txt')\n",
    "wfpc2_data, wfpc2_ddf = fit_energy.read_ddf(fname=f'{data_path}/wfpc2_cr_params_2001to2004.txt')\n",
    "wfc_data, wfc_ddf = fit_energy.read_ddf(fname=f'{data_path}/acs_wfc_cr_params_2002to2005')\n",
    "uvis_data, uvis_ddf = fit_energy.read_ddf(fname=f'{data_path}/wfc3_uvis_cr_params_2012to2015.txt')"
   ]
  },
  {
   "cell_type": "markdown",
   "metadata": {},
   "source": [
    "### Data filtering\n",
    "- Trim the dataset to get the subset of cosmic rays with path lengths between 280 and 300 $\\mu$m"
   ]
  },
  {
   "cell_type": "code",
   "execution_count": null,
   "metadata": {},
   "outputs": [],
   "source": [
    "interval = (280*u.micrometer, 300*u.micrometer)\n",
    "datasets = {'STIS/CCD': None, 'ACS/HRC': None, 'ACS/WFC': None, 'WFPC2': None}"
   ]
  },
  {
   "cell_type": "markdown",
   "metadata": {},
   "source": [
    "### Comparing the normalized distributions"
   ]
  },
  {
   "cell_type": "code",
   "execution_count": null,
   "metadata": {},
   "outputs": [],
   "source": [
    "for key, data in zip(datasets.keys(), [stis_data, hrc_data, wfc_data, wfpc2_data]):\n",
    "    path_length = data['track_path_length']\n",
    "    energy_deposited = data['energy_deposited']\n",
    "    \n",
    "    path_cut = (path_length >= interval[0]) & (path_length < interval[1])\n",
    "    path_data = path_length[path_cut]\n",
    "    energy_data = energy_deposited[path_cut]\n",
    "    energy_data = energy_data[energy_data <= 500*u.keV]\n",
    "    datasets[key] = {'energy_deposited': energy_data, 'path_length': path_data}"
   ]
  },
  {
   "cell_type": "code",
   "execution_count": null,
   "metadata": {},
   "outputs": [],
   "source": [
    "nbins = 60\n",
    "hrange = (0,300)\n",
    "for key, values in datasets.items():\n",
    "    dhist, dedges = np.histogram(values['energy_deposited'], bins=nbins, range=hrange, density=True)\n",
    "    datasets[key]['dhist'] = dhist\n",
    "    datasets[key]['centers'] = 0.5*(dedges[:-1] + dedges[1:])\n"
   ]
  },
  {
   "cell_type": "code",
   "execution_count": null,
   "metadata": {},
   "outputs": [],
   "source": [
    "shift=0\n",
    "fig, ax = plt.subplots(nrows=1, ncols=1)\n",
    "for key, values in datasets.items():\n",
    "    if key == 'WFPC2':\n",
    "        ax.step(values['centers']+shift*u.keV, values['dhist'], label=key)\n",
    "    else:\n",
    "        ax.step(values['centers'], values['dhist'], label=key)\n",
    "ax.legend(loc='upper right')"
   ]
  },
  {
   "cell_type": "code",
   "execution_count": null,
   "metadata": {},
   "outputs": [],
   "source": [
    "stis_fit_results = [61.1018, 12.1227, 4.08194, 0.0138702]\n",
    "hrc_fit_results = [60.8783, 7.98247, 10.3883, 0.017024]"
   ]
  },
  {
   "cell_type": "code",
   "execution_count": null,
   "metadata": {},
   "outputs": [],
   "source": [
    "fig, ax = plt.subplots(nrows=1, ncols=1)\n",
    "ax.step(datasets['STIS/CCD']['centers'], datasets['STIS/CCD']['dhist'], label='STIS', c='tab:red')\n",
    "ax.plot(datasets['STIS/CCD']['centers'], langau(datasets['STIS/CCD']['centers'], *stis_fit_results), c='tab:red')\n",
    "ax.step(datasets['ACS/HRC']['centers'], datasets['ACS/HRC']['dhist'], label='HRC', c='tab:purple')\n",
    "ax.plot(datasets['ACS/HRC']['centers'], langau(datasets['ACS/HRC']['centers'], *hrc_fit_results), c='tab:purple')\n",
    "ax.legend(loc='best', edgecolor='k')"
   ]
  },
  {
   "cell_type": "markdown",
   "metadata": {},
   "source": [
    "##### Generate the STIS data"
   ]
  },
  {
   "cell_type": "code",
   "execution_count": null,
   "metadata": {},
   "outputs": [],
   "source": [
    "path_length = stis_data['track_path_length']\n",
    "energy_deposited = stis_data['energy_deposited']\n",
    "\n",
    "path_cut = (path_length >= interval[0]) & (path_length < interval[1])\n",
    "path_data = path_length[path_cut]\n",
    "energy_data = energy_deposited[path_cut]\n",
    "energy_data = energy_data[energy_data <= 500*u.keV]\n",
    "print(f\"Number of CRs: {len(energy_data):,}\")"
   ]
  },
  {
   "cell_type": "markdown",
   "metadata": {},
   "source": [
    "##### Generate the HRC data"
   ]
  },
  {
   "cell_type": "code",
   "execution_count": null,
   "metadata": {},
   "outputs": [],
   "source": [
    "interval = (280*u.micrometer, 300*u.micrometer)\n",
    "hrc_path_length = hrc_data['track_path_length']\n",
    "hrc_energy_deposited = hrc_data['energy_deposited']\n",
    "\n",
    "hrc_path_cut = (hrc_path_length >= interval[0]) & (hrc_path_length < interval[1])\n",
    "hrc_path_data = hrc_path_length[hrc_path_cut]\n",
    "hrc_energy_data = hrc_energy_deposited[hrc_path_cut]\n",
    "hrc_energy_data = hrc_energy_data[hrc_energy_data <= 500*u.keV]\n",
    "print(f\"Number of CRs: {len(hrc_energy_data):,}\")"
   ]
  },
  {
   "cell_type": "code",
   "execution_count": null,
   "metadata": {},
   "outputs": [],
   "source": [
    "nbins = 60\n",
    "hrange = (0,300)"
   ]
  },
  {
   "cell_type": "code",
   "execution_count": null,
   "metadata": {},
   "outputs": [],
   "source": [
    "hist, edges = np.histogram(energy_data, bins=nbins, range=hrange, density=False)\n",
    "dhist, dedges = np.histogram(energy_data, bins=nbins, range=hrange, density=True)"
   ]
  },
  {
   "cell_type": "code",
   "execution_count": null,
   "metadata": {},
   "outputs": [],
   "source": [
    "hrc_hist, hrc_edges = np.histogram(hrc_energy_data, bins=nbins, range=hrange, density=False)"
   ]
  },
  {
   "cell_type": "code",
   "execution_count": null,
   "metadata": {},
   "outputs": [],
   "source": [
    "fig, ax = plt.subplots(nrows=1, ncols=1)\n",
    "ax.step(edges[1:], hist, color='tab:blue', label='right edge')\n",
    "ax.step(0.5*(edges[:-1] + edges[1:]), hist, color='tab:green', label='center')\n",
    "# ax.plot(kde.support, kde.density, c='k', ls='--')\n",
    "ax.legend()"
   ]
  },
  {
   "cell_type": "code",
   "execution_count": null,
   "metadata": {},
   "outputs": [],
   "source": [
    "left_edges = edges[:-1]\n",
    "right_edges = edges[1:]\n",
    "centers = 0.5*(left_edges + right_edges)"
   ]
  },
  {
   "cell_type": "code",
   "execution_count": null,
   "metadata": {},
   "outputs": [],
   "source": [
    "fig, ax = plt.subplots(nrows=1, ncols=1)\n",
    "ax.step(centers, hist, color='tab:green', label='STIS/CCD')\n",
    "ax.step(centers, hrc_hist, color='tab:purple', label='ACS/HRC')\n",
    "ax.legend(loc='upper right')"
   ]
  },
  {
   "cell_type": "code",
   "execution_count": null,
   "metadata": {},
   "outputs": [],
   "source": [
    "np.percentile(energy_data, q=[25,75])"
   ]
  },
  {
   "cell_type": "code",
   "execution_count": null,
   "metadata": {},
   "outputs": [],
   "source": [
    "hrc_dhist, dedges = np.histogram(hrc_energy_data, bins=nbins, range=hrange, density=True)"
   ]
  },
  {
   "cell_type": "code",
   "execution_count": null,
   "metadata": {},
   "outputs": [],
   "source": [
    "fig, ax = plt.subplots(nrows=1, ncols=1)\n",
    "ax.step(dedges[1:], dhist, color='tab:blue', label='right edge')\n",
    "ax.step(0.5*(dedges[:-1] + dedges[1:]), dhist, color='tab:green', label='center')\n",
    "# ax.plot(kde.support, kde.density, c='k', ls='--')\n",
    "ax.legend()\n",
    "ax.set_title('Normalized Histogram PDF')"
   ]
  },
  {
   "cell_type": "code",
   "execution_count": null,
   "metadata": {},
   "outputs": [],
   "source": [
    "fig, ax = plt.subplots(nrows=1, ncols=1)\n",
    "ax.step(centers, dhist, color='tab:green', label='STIS/CCD')\n",
    "ax.step(centers, hrc_dhist, color='tab:purple', label='ACS/HRC')\n",
    "ax.legend(loc='upper right')"
   ]
  },
  {
   "cell_type": "markdown",
   "metadata": {},
   "source": [
    "Compute the scaling factor between the normalized and unnormalized histograms"
   ]
  },
  {
   "cell_type": "code",
   "execution_count": null,
   "metadata": {},
   "outputs": [],
   "source": [
    "scaling_factor = hist[hist.argmax()]/dhist[dhist.argmax()]"
   ]
  },
  {
   "cell_type": "markdown",
   "metadata": {},
   "source": [
    "Configure the settings to be used by `statsmodels` to perform the kernel density estimation"
   ]
  },
  {
   "cell_type": "code",
   "execution_count": null,
   "metadata": {},
   "outputs": [],
   "source": [
    "estimator_settings = sm.nonparametric.EstimatorSettings(\n",
    "        efficient=True, randomize=True, \n",
    "        n_res=1000, n_sub=300, return_median=True, \n",
    "        return_only_bw=False, n_jobs=-1\n",
    "    )\n",
    "ml_bw = sm.nonparametric.KDEMultivariate(\n",
    "            energy_data, \n",
    "            'c', \n",
    "            bw = 'cv_ml', \n",
    "            defaults=estimator_settings)"
   ]
  },
  {
   "cell_type": "code",
   "execution_count": null,
   "metadata": {},
   "outputs": [],
   "source": [
    "ml_bw"
   ]
  },
  {
   "cell_type": "code",
   "execution_count": null,
   "metadata": {},
   "outputs": [],
   "source": [
    "ml_bw.imse(ml_bw.bw)"
   ]
  },
  {
   "cell_type": "code",
   "execution_count": null,
   "metadata": {},
   "outputs": [],
   "source": [
    "len(energy_data)"
   ]
  },
  {
   "cell_type": "code",
   "execution_count": null,
   "metadata": {},
   "outputs": [],
   "source": [
    "kde = sm.nonparametric.KDEUnivariate(energy_data)\n",
    "kde.fit(bw=ml_bw, kernel='gau', cut=0)"
   ]
  },
  {
   "cell_type": "markdown",
   "metadata": {},
   "source": [
    "### Estimating the FWHM of the KDE"
   ]
  },
  {
   "cell_type": "code",
   "execution_count": null,
   "metadata": {},
   "outputs": [],
   "source": [
    "max_point = kde.density.argmax()\n",
    "max_pdf = kde.density[max_point]\n",
    "max_val = kde.support[max_point]\n",
    "print(max_val, max_pdf)"
   ]
  },
  {
   "cell_type": "code",
   "execution_count": null,
   "metadata": {},
   "outputs": [],
   "source": [
    "half_max = max_pdf/2\n",
    "# find the values with 1e-3 of half the maximum\n",
    "close_vals = np.isclose(half_max, kde.density, atol=1e-5)"
   ]
  },
  {
   "cell_type": "code",
   "execution_count": null,
   "metadata": {},
   "outputs": [],
   "source": [
    "close_xvals = kde.support[close_vals]\n",
    "close_pdfvals = kde.density[close_vals]"
   ]
  },
  {
   "cell_type": "code",
   "execution_count": null,
   "metadata": {},
   "outputs": [],
   "source": [
    "close_xvals"
   ]
  },
  {
   "cell_type": "markdown",
   "metadata": {},
   "source": [
    "### Estimating the error in the KDE"
   ]
  },
  {
   "cell_type": "code",
   "execution_count": null,
   "metadata": {},
   "outputs": [],
   "source": [
    "from scipy.interpolate import UnivariateSpline\n",
    "from scipy.interpolate import sproot"
   ]
  },
  {
   "cell_type": "code",
   "execution_count": null,
   "metadata": {},
   "outputs": [],
   "source": [
    "kde_spline = UnivariateSpline(kde.support, kde.density, k=3, s=0) # cubic spline\n",
    "# second_derivative = kde_spline.derivative(n=2)"
   ]
  },
  {
   "cell_type": "code",
   "execution_count": null,
   "metadata": {},
   "outputs": [],
   "source": [
    "fig, ax = plt.subplots(nrows=2, ncols=1)\n",
    "ax[0].plot(kde.support, kde.density)\n",
    "ax[0].plot(kde.support+20, kde_spline(kde.support))\n",
    "ax[1].plot(kde.support, second_derivative(kde.support))"
   ]
  },
  {
   "cell_type": "code",
   "execution_count": null,
   "metadata": {},
   "outputs": [],
   "source": [
    "def compute_mse(kde):\n",
    "    x = kde.support\n",
    "    y = kde.density\n",
    "    \n",
    "    # Fit a cubic spline to the data\n",
    "    kde_spline = UnivariateSpline(kde.support, kde.density, k=3, s=0)\n",
    "    \n",
    "    # Compute the second derivative of the spline using the central difference method\n",
    "    second_derivative = kde_spline.derivative(n=2)\n",
    "    \n",
    "    # Compute the variance of the KDE\n",
    "    "
   ]
  },
  {
   "cell_type": "code",
   "execution_count": null,
   "metadata": {},
   "outputs": [],
   "source": []
  },
  {
   "cell_type": "code",
   "execution_count": null,
   "metadata": {},
   "outputs": [],
   "source": [
    "len(kde.density), len(kde.support)"
   ]
  },
  {
   "cell_type": "code",
   "execution_count": null,
   "metadata": {},
   "outputs": [],
   "source": [
    "0.5*(edges[:-1] + edges[1:])"
   ]
  },
  {
   "cell_type": "markdown",
   "metadata": {},
   "source": [
    "Use the kde generated above to compute the expected value in 0.5 step increments starting at 1 keV.\n",
    "\n",
    "Since the kde is an estimation of the underlying probability density distribution for the dataset, it is normalized such that the integral of the entire domain is 1. Hence we need to compare it to the normalized histogram"
   ]
  },
  {
   "cell_type": "code",
   "execution_count": null,
   "metadata": {},
   "outputs": [],
   "source": [
    "xvals = np.linspace(1, 300, 599)\n",
    "y_obs = kde.evaluate(xvals)"
   ]
  },
  {
   "cell_type": "code",
   "execution_count": null,
   "metadata": {},
   "outputs": [],
   "source": [
    "fwhm = close_xvals[-1] - close_xvals[0]"
   ]
  },
  {
   "cell_type": "code",
   "execution_count": null,
   "metadata": {},
   "outputs": [],
   "source": [
    "fwhm/12.1"
   ]
  },
  {
   "cell_type": "code",
   "execution_count": null,
   "metadata": {},
   "outputs": [],
   "source": [
    "fig, ax = plt.subplots(nrows=1, ncols=1)\n",
    "ax.step(centers, dhist)\n",
    "ax.plot(xvals, y_obs, c='k', ls='--')\n",
    "ax.set_xlim(0,300)\n",
    "ax.axvline(close_xvals[0])\n",
    "ax.axvline(close_xvals[-1])"
   ]
  },
  {
   "cell_type": "markdown",
   "metadata": {},
   "source": [
    "Setting up initial guess for each of the parameters in the fit"
   ]
  },
  {
   "cell_type": "markdown",
   "metadata": {},
   "source": [
    "Estimating $\\xi$"
   ]
  },
  {
   "cell_type": "code",
   "execution_count": null,
   "metadata": {},
   "outputs": [],
   "source": [
    "# Compute an esimtate of xi\n",
    "z=1\n",
    "Z=14\n",
    "A=28.0855*u.g/u.mol\n",
    "v = 0.98*physical_constants.c\n",
    "c = physical_constants.c\n",
    "K = 0.307075 * u.megaelectronvolt * u.cm**2 / u.mol\n",
    "m_e = physical_constants.m_e\n",
    "beta_val = v/c\n",
    "estimated_path = 290 * u.micrometer\n",
    "si_density = 2.329 * u.g/u.cm**3\n",
    "xi_guess = K/2 * Z/A * z**2 *  1/(beta_val)**2 * si_density *estimated_path\n",
    "xi_guess = xi_guess.to('keV')\n",
    "xi_guess = xi_guess.value\n",
    "limit_xi = (0.8*xi_guess, 3.5*xi_guess)\n",
    "print(f\"xi: {xi_guess:.3f}\")\n",
    "print(f\"xi range: ({limit_xi[0]:.3f}, {limit_xi[1]:.3f})\")"
   ]
  },
  {
   "cell_type": "markdown",
   "metadata": {},
   "source": [
    "Estimating $\\sigma$"
   ]
  },
  {
   "cell_type": "code",
   "execution_count": null,
   "metadata": {},
   "outputs": [],
   "source": [
    "sigma_guess = 5\n",
    "limit_sigma = (0.5*sigma_guess, 3*sigma_guess)"
   ]
  },
  {
   "cell_type": "markdown",
   "metadata": {},
   "source": [
    "Estimating mpv"
   ]
  },
  {
   "cell_type": "code",
   "execution_count": null,
   "metadata": {},
   "outputs": [],
   "source": [
    "mpv_guess = centers[hist.argmax()].value\n",
    "limit_mpv = (0.85*mpv_guess, 1.2*mpv_guess)"
   ]
  },
  {
   "cell_type": "markdown",
   "metadata": {},
   "source": [
    "Estimating the maximum probability"
   ]
  },
  {
   "cell_type": "code",
   "execution_count": null,
   "metadata": {},
   "outputs": [],
   "source": [
    "A_guess = hist.max()\n",
    "limit_A = (0.5*hist.max(), 2*hist.max())"
   ]
  },
  {
   "cell_type": "code",
   "execution_count": null,
   "metadata": {},
   "outputs": [],
   "source": [
    "for param, param_range in zip([xi_guess, sigma_guess, mpv_guess],[limit_xi, limit_sigma, limit_mpv]):\n",
    "    print(f\"{param:.3f}\")\n",
    "    print(f\"({param_range[0]:.3f}, {param_range[1]:.3f})\\n\")"
   ]
  },
  {
   "cell_type": "code",
   "execution_count": null,
   "metadata": {},
   "outputs": [],
   "source": [
    "# initial guess for parameters\n",
    "p0 = [mpv_guess, xi_guess, sigma_guess, A_guess]"
   ]
  },
  {
   "cell_type": "code",
   "execution_count": null,
   "metadata": {},
   "outputs": [],
   "source": [
    "def fit_landau_leastsq(\n",
    "    x, \n",
    "    y_obs, \n",
    "    p0, \n",
    "    limit_mpv=None,\n",
    "    limit_xi=None,\n",
    "    limit_sigma=None, \n",
    "    limit_A=None\n",
    "):\n",
    "    least_squares = LeastSquares(\n",
    "        x=x,\n",
    "        y=y_obs,\n",
    "        yerror=np.sqrt(y_obs), # assume poisson errors\n",
    "        model=landau,\n",
    "        loss='soft_l1'\n",
    "    )\n",
    "    m = iminuit.Minuit(\n",
    "        least_squares,\n",
    "        mpv=p0[0],\n",
    "        limit_mpv=limit_mpv,\n",
    "        eta=p0[1],\n",
    "        limit_eta=limit_xi,\n",
    "        A=p0[2],\n",
    "        limit_A=limit_A,\n",
    "        pedantic=False\n",
    "    )\n",
    "    \n",
    "    # Minimize the gradient\n",
    "    m.migrad()\n",
    "    \n",
    "    # Compute hessian errors\n",
    "    m.hesse()\n",
    "    try:\n",
    "        assert m.valid\n",
    "    except AssertionError:\n",
    "        pass\n",
    "    else:\n",
    "        # Compute Minos errors\n",
    "        m.minos()\n",
    "    return m"
   ]
  },
  {
   "cell_type": "code",
   "execution_count": null,
   "metadata": {},
   "outputs": [],
   "source": [
    "def fit_langau_leastsq(\n",
    "    x, \n",
    "    y_obs, \n",
    "    p0, \n",
    "    limit_mpv=None,\n",
    "    limit_xi=None,\n",
    "    limit_sigma=None, \n",
    "    limit_A=None\n",
    "):\n",
    "    least_squares = LeastSquares(\n",
    "        x=x,\n",
    "        y=y_obs,\n",
    "        yerror=np.sqrt(y_obs), # assume poisson errors\n",
    "        model=langau,\n",
    "        loss='soft_l1'\n",
    "    )\n",
    "    m = iminuit.Minuit(\n",
    "        least_squares,\n",
    "        errordef=1,\n",
    "        mpv=p0[0],\n",
    "        limit_mpv=limit_mpv,\n",
    "        eta=p0[1],\n",
    "        limit_eta=limit_xi,\n",
    "        sigma=p0[2],\n",
    "        limit_sigma=limit_sigma,\n",
    "        A=p0[2],\n",
    "        limit_A=limit_A,\n",
    "        pedantic=True,\n",
    "        scale_langau=True,\n",
    "        fix_scale_langau=True\n",
    "    )\n",
    "    m.migrad()\n",
    "    \n",
    "    if not m.valid:\n",
    "        raise RuntimeError('Fit did not converge')\n",
    "    \n",
    "    # Compute minos errors\n",
    "    m.minos()\n",
    "    \n",
    "    fitted_params = m.values.values()\n",
    "    param_errors = m.merrors\n",
    "    param_errors = np.array(\n",
    "        [(param_errors['mpv'].lower, param_errors['mpv'].upper),\n",
    "         (param_errors['eta'].lower, param_errors['eta'].upper),\n",
    "         (param_errors['sigma'].lower, param_errors['sigma'].upper),\n",
    "         (param_errors['A'].lower, param_errors['A'].upper)]\n",
    "    )\n",
    "    for val, err in zip(fitted_params, param_errors):\n",
    "        print(f\"{val+err[0]:.3f} < {val:0.3f} < {val+err[1]:0.3f}\")\n",
    "    return m"
   ]
  },
  {
   "cell_type": "code",
   "execution_count": null,
   "metadata": {},
   "outputs": [],
   "source": [
    "landau_fit_obj = fit_landau_leastsq(\n",
    "    centers[hist>0], \n",
    "    hist[hist>0], \n",
    "    p0=[p0[0], p0[1], p0[-1]],\n",
    "    limit_xi=limit_xi,\n",
    "    limit_mpv=None,\n",
    "    limit_A=None\n",
    ")"
   ]
  },
  {
   "cell_type": "code",
   "execution_count": null,
   "metadata": {},
   "outputs": [],
   "source": [
    "landau_fit_obj.migrad()"
   ]
  },
  {
   "cell_type": "code",
   "execution_count": null,
   "metadata": {},
   "outputs": [],
   "source": [
    "xi_guess"
   ]
  },
  {
   "cell_type": "code",
   "execution_count": null,
   "metadata": {},
   "outputs": [],
   "source": [
    "landau_fit_obj.values.values()"
   ]
  },
  {
   "cell_type": "code",
   "execution_count": null,
   "metadata": {},
   "outputs": [],
   "source": [
    "landau_fit_obj_dhist = fit_landau_leastsq(\n",
    "    centers[dhist>0], \n",
    "    1e5*dhist[dhist>0].value, \n",
    "    p0=[p0[0], p0[1], p0[-1]],\n",
    "    limit_xi=limit_xi,\n",
    "    limit_mpv=None,\n",
    "    limit_A=None\n",
    ")"
   ]
  },
  {
   "cell_type": "code",
   "execution_count": null,
   "metadata": {},
   "outputs": [],
   "source": [
    "landau_fit_obj_dhist.migrad()"
   ]
  },
  {
   "cell_type": "code",
   "execution_count": null,
   "metadata": {},
   "outputs": [],
   "source": [
    "landau_fit_obj_dhist.minos()"
   ]
  },
  {
   "cell_type": "code",
   "execution_count": null,
   "metadata": {},
   "outputs": [],
   "source": [
    "fig, ax = plt.subplots(nrows=1, ncols=1)\n",
    "ax.plot(centers, landau(centers, *landau_fit_obj_dhist.values.values())/1e5)\n",
    "ax.step(centers, dhist, color='tab:green')\n",
    "ax.plot(xvals, y_obs, c='k', ls='--')"
   ]
  },
  {
   "cell_type": "code",
   "execution_count": null,
   "metadata": {},
   "outputs": [],
   "source": [
    "langau_fit_obj = fit_langau_leastsq(\n",
    "    centers[dhist>0], \n",
    "    1e5*dhist[dhist>0].value, \n",
    "    p0=p0,\n",
    "    limit_xi=limit_xi,\n",
    "    limit_mpv=limit_mpv,\n",
    "    limit_sigma=limit_sigma,\n",
    "    limit_A=limit_A\n",
    ")"
   ]
  },
  {
   "cell_type": "code",
   "execution_count": null,
   "metadata": {},
   "outputs": [],
   "source": [
    "langau_fit_obj.minos()"
   ]
  },
  {
   "cell_type": "code",
   "execution_count": null,
   "metadata": {},
   "outputs": [],
   "source": [
    "langau_fit_obj.merrors"
   ]
  },
  {
   "cell_type": "code",
   "execution_count": null,
   "metadata": {},
   "outputs": [],
   "source": [
    "langau_fit_obj.values"
   ]
  },
  {
   "cell_type": "code",
   "execution_count": null,
   "metadata": {},
   "outputs": [],
   "source": [
    "fig, ax = plt.subplots(nrows=1, ncols=1)\n",
    "ax.plot(centers, langau(centers, *langau_fit_obj.values.values())/1e5)\n",
    "ax.step(centers, dhist, color='tab:green')\n",
    "ax.plot(xvals, y_obs, c='k', ls='--')"
   ]
  },
  {
   "cell_type": "code",
   "execution_count": null,
   "metadata": {},
   "outputs": [],
   "source": [
    "langau_fit_obj = fit_langau_leastsq(\n",
    "    centers[hist>0], \n",
    "    hist[hist>0], \n",
    "    p0=p0,\n",
    "    limit_xi=limit_xi,\n",
    "    limit_mpv=limit_mpv,\n",
    "    limit_sigma=limit_sigma,\n",
    "    limit_A=limit_A\n",
    ")"
   ]
  },
  {
   "cell_type": "code",
   "execution_count": null,
   "metadata": {},
   "outputs": [],
   "source": [
    "langau_fit_obj.minos()"
   ]
  },
  {
   "cell_type": "code",
   "execution_count": null,
   "metadata": {},
   "outputs": [],
   "source": [
    "langau_fit_obj.merrors"
   ]
  },
  {
   "cell_type": "code",
   "execution_count": null,
   "metadata": {},
   "outputs": [],
   "source": [
    "langau_fit_obj.values.values()"
   ]
  },
  {
   "cell_type": "code",
   "execution_count": null,
   "metadata": {},
   "outputs": [],
   "source": [
    "fig, ax = plt.subplots(nrows=1, ncols=1)\n",
    "ax.plot(centers, langau(centers, *langau_fit_obj.values.values()))\n",
    "ax.plot(centers, landau(centers, *landau_fit_obj.values.values()), c='k', ls='--')\n",
    "ax.step(centers, hist, color='tab:green')"
   ]
  },
  {
   "cell_type": "markdown",
   "metadata": {},
   "source": [
    "Now we repeat the same fitting process, but this time we use the KDE-derived PDF"
   ]
  },
  {
   "cell_type": "code",
   "execution_count": null,
   "metadata": {},
   "outputs": [],
   "source": [
    "langau_fit_obj_kde = fit_langau_leastsq(\n",
    "    xvals, \n",
    "    1e5*y_obs, \n",
    "    p0=p0,\n",
    "    limit_xi=(1, None),\n",
    "    limit_mpv=(0,None),\n",
    "    limit_sigma=(0, None),\n",
    "    limit_A=(0, None)\n",
    ")"
   ]
  },
  {
   "cell_type": "code",
   "execution_count": null,
   "metadata": {},
   "outputs": [],
   "source": [
    "langau_fit_obj_kde.minos?"
   ]
  },
  {
   "cell_type": "code",
   "execution_count": null,
   "metadata": {},
   "outputs": [],
   "source": [
    "langau_fit_obj_kde.minos(sigma=3)"
   ]
  },
  {
   "cell_type": "code",
   "execution_count": null,
   "metadata": {},
   "outputs": [],
   "source": [
    "langau_fit_obj_kde.minos()"
   ]
  },
  {
   "cell_type": "code",
   "execution_count": null,
   "metadata": {},
   "outputs": [],
   "source": [
    "langau_fit_obj_kde.values"
   ]
  },
  {
   "cell_type": "code",
   "execution_count": null,
   "metadata": {},
   "outputs": [],
   "source": [
    "4 * langau_fit_obj_kde.values['eta']"
   ]
  },
  {
   "cell_type": "code",
   "execution_count": null,
   "metadata": {},
   "outputs": [],
   "source": [
    "y_fit = langau(xvals, *langau_fit_obj_kde.values.values())"
   ]
  },
  {
   "cell_type": "code",
   "execution_count": null,
   "metadata": {},
   "outputs": [],
   "source": [
    "residuals = y_obs - y_fit/1e5"
   ]
  },
  {
   "cell_type": "code",
   "execution_count": null,
   "metadata": {},
   "outputs": [],
   "source": [
    "resid_hist, resid_edges = np.histogram(residuals, range=(-0.0005, 0.0005), bins=50)\n",
    "resid_centers = 0.5*(resid_edges[:-1] + resid_edges[1:])"
   ]
  },
  {
   "cell_type": "code",
   "execution_count": null,
   "metadata": {},
   "outputs": [],
   "source": [
    "fig, ax = plt.subplots(nrows=1, ncols=1)\n",
    "ax.step(resid_centers, resid_hist)"
   ]
  },
  {
   "cell_type": "code",
   "execution_count": null,
   "metadata": {},
   "outputs": [],
   "source": [
    "rms_err = np.sqrt(np.mean(np.square(1e5*y_obs - y_fit)))"
   ]
  },
  {
   "cell_type": "code",
   "execution_count": null,
   "metadata": {},
   "outputs": [],
   "source": [
    "fig, ax = plt.subplots(nrows=1, ncols=1)\n",
    "# ax.plot(xvals, langau(xvals, *langau_fit_obj_kde.values.values()))\n",
    "ax.errorbar(xvals[::3], y_fit[::3], yerr=rms_err, fmt='o', ms=2)\n",
    "ax.plot(xvals, 1e5*y_obs, c='k', ls='--')"
   ]
  },
  {
   "cell_type": "code",
   "execution_count": null,
   "metadata": {},
   "outputs": [],
   "source": [
    "rms_err"
   ]
  },
  {
   "cell_type": "code",
   "execution_count": null,
   "metadata": {},
   "outputs": [],
   "source": [
    "resid"
   ]
  },
  {
   "cell_type": "code",
   "execution_count": null,
   "metadata": {},
   "outputs": [],
   "source": [
    "landau_fit_obj_kde = fit_landau_leastsq(\n",
    "    xvals, \n",
    "    1e5*y_obs, \n",
    "    p0=[p0[0], p0[1], p0[-1]],\n",
    "    limit_xi=(1.5,None),\n",
    "    limit_mpv=None,\n",
    "    limit_A=None\n",
    ")"
   ]
  },
  {
   "cell_type": "code",
   "execution_count": null,
   "metadata": {},
   "outputs": [],
   "source": [
    "landau_fit_obj_kde.minos()"
   ]
  },
  {
   "cell_type": "code",
   "execution_count": null,
   "metadata": {},
   "outputs": [],
   "source": [
    "landau_fit_obj_kde.values"
   ]
  },
  {
   "cell_type": "code",
   "execution_count": null,
   "metadata": {},
   "outputs": [],
   "source": [
    "landau_fit_obj_kde.values['A'] /=1e5"
   ]
  },
  {
   "cell_type": "code",
   "execution_count": null,
   "metadata": {},
   "outputs": [],
   "source": [
    "landau_fit_obj_kde.values['A']"
   ]
  },
  {
   "cell_type": "code",
   "execution_count": null,
   "metadata": {},
   "outputs": [],
   "source": [
    "langau_fit_obj_kde.values['A'] /= 1e5"
   ]
  },
  {
   "cell_type": "code",
   "execution_count": null,
   "metadata": {},
   "outputs": [],
   "source": [
    "errors = np.asarray([(langau_fit_obj_kde.merrors[key].lower,langau_fit_obj_kde.merrors[key].upper)  for key in langau_fit_obj_kde.merrors.keys()])"
   ]
  },
  {
   "cell_type": "code",
   "execution_count": null,
   "metadata": {},
   "outputs": [],
   "source": [
    "errors[-1] = errors[-1]/1e5"
   ]
  },
  {
   "cell_type": "code",
   "execution_count": null,
   "metadata": {},
   "outputs": [],
   "source": [
    "errors"
   ]
  },
  {
   "cell_type": "code",
   "execution_count": null,
   "metadata": {},
   "outputs": [],
   "source": [
    "fig, ax = plt.subplots(nrows=1, ncols=1)\n",
    "ax.plot(xvals, langau(xvals, *(langau_fit_obj_kde.values.values()[:4] + errors[:,0])), c='tab:purple',ls='--')\n",
    "ax.plot(xvals, langau(xvals, *(langau_fit_obj_kde.values.values()[:4] + errors[:,1])), c='tab:purple',ls='--')\n",
    "ax.plot(xvals, langau(xvals, *langau_fit_obj_kde.values.values()), c='tab:red')\n",
    "# ax.plot(xvals, landau(xvals, *landau_fit_obj_kde.values.values()), c='tab:blue')\n",
    "ax.plot(xvals, y_obs, color='tab:green')"
   ]
  },
  {
   "cell_type": "code",
   "execution_count": null,
   "metadata": {},
   "outputs": [],
   "source": [
    "def compute_landau_mpv(m, v, z, Z, A, I, dx):\n",
    "    c = physical_constants.c\n",
    "    K = 0.307075 * u.megaelectronvolt * u.cm**2 / u.mol\n",
    "    m_e = physical_constants.m_e\n",
    "    constant = K/2 * Z/A * z**2 * dx * 1/(v/c)**2\n",
    "#     density_corr = sternheimer_density_corr(v/c, gamma(v))\n",
    "    density_corr = 0\n",
    "    scaling = np.log((2 * m_e * c**2 * (v/c)**2 * gamma(v)**2)/I) + np.log(constant/I) + 0.2 - (v/c)**2 - density_corr \n",
    "    return constant * scaling"
   ]
  },
  {
   "cell_type": "markdown",
   "metadata": {},
   "source": [
    "### Compute Landau + Gauss for particle with $\\beta$=0.98\n",
    "\n",
    "- Reproducing the curves in Bichsel 1988\n",
    "    - $\\beta\\gamma$ = 2.1 --> $\\beta=0.9$\n",
    "    - $\\beta\\gamma$ = 8.5 --> $\\beta=0.99315$"
   ]
  },
  {
   "cell_type": "code",
   "execution_count": null,
   "metadata": {},
   "outputs": [],
   "source": [
    "beta_gamma = 2.1\n",
    "beta_gamma = 8.5"
   ]
  },
  {
   "cell_type": "code",
   "execution_count": null,
   "metadata": {},
   "outputs": [],
   "source": [
    "beta = 0.9\n",
    "gamma = np.sqrt(1/(1-beta**2))"
   ]
  },
  {
   "cell_type": "code",
   "execution_count": null,
   "metadata": {},
   "outputs": [],
   "source": [
    "beta*gamma"
   ]
  },
  {
   "cell_type": "code",
   "execution_count": null,
   "metadata": {},
   "outputs": [],
   "source": [
    "# Compute an esimtate of xi\n",
    "z=1\n",
    "Z=14\n",
    "A=28.0855*u.g/u.mol\n",
    "c = physical_constants.c\n",
    "K = 0.307075 * u.megaelectronvolt * u.cm**2 / u.mol\n",
    "m_e = physical_constants.m_e\n",
    "estimated_path = 290 * u.micrometer\n",
    "si_density = 2.329 * u.g/u.cm**3\n",
    "xi = K/2 * Z/A * z**2 *  1/(beta)**2 * si_density *estimated_path\n",
    "xi = xi.to('keV')\n"
   ]
  },
  {
   "cell_type": "code",
   "execution_count": null,
   "metadata": {},
   "outputs": [],
   "source": [
    "xi"
   ]
  },
  {
   "cell_type": "code",
   "execution_count": null,
   "metadata": {},
   "outputs": [],
   "source": [
    "langau?"
   ]
  },
  {
   "cell_type": "code",
   "execution_count": null,
   "metadata": {},
   "outputs": [],
   "source": [
    "x = np.linspace(1,1000,10000)"
   ]
  },
  {
   "cell_type": "code",
   "execution_count": null,
   "metadata": {},
   "outputs": [],
   "source": [
    "y = langau(x, mpv=82.46, eta=xi.value, sigma=3.2, A=1)"
   ]
  },
  {
   "cell_type": "code",
   "execution_count": null,
   "metadata": {},
   "outputs": [],
   "source": [
    "fig, ax = plt.subplots(nrows=1, ncols=1)\n",
    "ax.plot(x, y)"
   ]
  },
  {
   "cell_type": "code",
   "execution_count": null,
   "metadata": {},
   "outputs": [],
   "source": [
    "ymax = y[y.argmax()]\n",
    "half_ymax = ymax / 2"
   ]
  },
  {
   "cell_type": "code",
   "execution_count": null,
   "metadata": {},
   "outputs": [],
   "source": [
    "half_ymax"
   ]
  },
  {
   "cell_type": "code",
   "execution_count": null,
   "metadata": {},
   "outputs": [],
   "source": [
    "flag = np.isclose(half_ymax, y, atol=2e-2)"
   ]
  },
  {
   "cell_type": "code",
   "execution_count": null,
   "metadata": {},
   "outputs": [],
   "source": [
    "flag.sum()"
   ]
  },
  {
   "cell_type": "code",
   "execution_count": null,
   "metadata": {},
   "outputs": [],
   "source": [
    "xpoints = x[flag]"
   ]
  },
  {
   "cell_type": "code",
   "execution_count": null,
   "metadata": {},
   "outputs": [],
   "source": [
    "xpoints[-1] - xpoints[0]"
   ]
  },
  {
   "cell_type": "code",
   "execution_count": null,
   "metadata": {},
   "outputs": [],
   "source": [
    "flag.sum()"
   ]
  },
  {
   "cell_type": "code",
   "execution_count": null,
   "metadata": {},
   "outputs": [],
   "source": [
    "def estimate_fwhm(x, y):\n",
    "    \n",
    "    ymax = y[y.argmax()]\n",
    "    half_ymax = ymax / 2\n",
    "    \n",
    "    # find all values within 1/1000 of half_ymax\n",
    "    flag = [False]\n",
    "    tol = 1e-4\n",
    "    while sum(flag) < 4:\n",
    "        flag = np.isclose(half_ymax, y, atol=tol)\n",
    "        tol += 0.0005\n",
    "    xpoints = x[flag]\n",
    "    print(xpoints)\n",
    "    fwhm = xpoints[-1] - xpoints[0]\n",
    "    return fwhm"
   ]
  },
  {
   "cell_type": "code",
   "execution_count": null,
   "metadata": {},
   "outputs": [],
   "source": [
    "fwhm = estimate_fwhm(x, y)"
   ]
  },
  {
   "cell_type": "code",
   "execution_count": null,
   "metadata": {},
   "outputs": [],
   "source": [
    "fwhm"
   ]
  },
  {
   "cell_type": "markdown",
   "metadata": {},
   "source": [
    "## Fitting the distributions of track lengths"
   ]
  },
  {
   "cell_type": "code",
   "execution_count": null,
   "metadata": {},
   "outputs": [],
   "source": [
    "stis_data, stis_ddf = fit_energy.read_ddf(fname=f'{data_path}/stis_ccd_cr_params_2000to2004.txt')"
   ]
  },
  {
   "cell_type": "code",
   "execution_count": null,
   "metadata": {},
   "outputs": [],
   "source": [
    "wfc_data, wfc_ddf = fit_energy.read_ddf(fname=f'{data_path}/acs_wfc_cr_params_2002to2005')"
   ]
  },
  {
   "cell_type": "code",
   "execution_count": null,
   "metadata": {},
   "outputs": [],
   "source": [
    "import dask.array as da"
   ]
  },
  {
   "cell_type": "code",
   "execution_count": null,
   "metadata": {},
   "outputs": [],
   "source": [
    "full_dset = None"
   ]
  },
  {
   "cell_type": "code",
   "execution_count": null,
   "metadata": {},
   "outputs": [],
   "source": [
    "full_dset = []\n",
    "for i, data in enumerate([stis_ddf, wfc_ddf, wfpc2_ddf, hrc_ddf, uvis_ddf]):\n",
    "    hist, edges = np.histogram(data['track_path_length'], bins=40, range=(60, 1000), density=True)\n",
    "    if i == 0:\n",
    "        avg_hist = hist\n",
    "    else:\n",
    "        avg_hist += hist\n",
    "    full_dset.append(da.from_array(data['track_path_length'].compute()))\n",
    "avg_hist /= 5"
   ]
  },
  {
   "cell_type": "code",
   "execution_count": null,
   "metadata": {},
   "outputs": [],
   "source": [
    "full_dset = da.concatenate(full_dset, axis=0)"
   ]
  },
  {
   "cell_type": "code",
   "execution_count": null,
   "metadata": {},
   "outputs": [],
   "source": [
    "full_dset.shape"
   ]
  },
  {
   "cell_type": "code",
   "execution_count": null,
   "metadata": {},
   "outputs": [],
   "source": [
    "total_hist, total_edges = np.histogram(full_dset, range=(60, 1000), bins=40, density=True)"
   ]
  },
  {
   "cell_type": "code",
   "execution_count": null,
   "metadata": {},
   "outputs": [],
   "source": [
    "fig, ax = plt.subplots(nrows=1, ncols=1)\n",
    "ax.step(edges[1:], avg_hist, c='k')\n",
    "ax.step(total_edges[1:], total_hist)\n",
    "ax.set_yscale('log')"
   ]
  },
  {
   "cell_type": "code",
   "execution_count": null,
   "metadata": {},
   "outputs": [],
   "source": [
    "f\"{3825790.1825247086:.2e}\""
   ]
  },
  {
   "cell_type": "code",
   "execution_count": null,
   "metadata": {},
   "outputs": [],
   "source": [
    "centers = 0.5*(edges[1:] + edges[:-1])"
   ]
  },
  {
   "cell_type": "code",
   "execution_count": null,
   "metadata": {},
   "outputs": [],
   "source": [
    "def track_length_pdf_shielding(x, A, n):\n",
    "    return  A/(x**(n+2))"
   ]
  },
  {
   "cell_type": "code",
   "execution_count": null,
   "metadata": {},
   "outputs": [],
   "source": [
    "least_squares = LeastSquares(\n",
    "        x=centers[1:],\n",
    "        y=1e7*total_hist[1:],\n",
    "        yerror=np.sqrt(1e7*total_hist)[1:], # assume poisson errors\n",
    "        model=track_length_pdf_shielding,\n",
    "        loss='soft_l1'\n",
    "    )"
   ]
  },
  {
   "cell_type": "code",
   "execution_count": null,
   "metadata": {},
   "outputs": [],
   "source": [
    "m = iminuit.Minuit(\n",
    "        least_squares,\n",
    "        errordef=1,\n",
    "        A=1e7*total_hist.max(),\n",
    "        n=2,\n",
    "        limit_n=[1,4]\n",
    ")\n",
    "m.migrad()"
   ]
  },
  {
   "cell_type": "code",
   "execution_count": null,
   "metadata": {},
   "outputs": [],
   "source": [
    "m.migrad()"
   ]
  },
  {
   "cell_type": "code",
   "execution_count": null,
   "metadata": {},
   "outputs": [],
   "source": [
    "values = m.values.values()"
   ]
  },
  {
   "cell_type": "code",
   "execution_count": null,
   "metadata": {},
   "outputs": [],
   "source": [
    "values"
   ]
  },
  {
   "cell_type": "code",
   "execution_count": null,
   "metadata": {},
   "outputs": [],
   "source": [
    "values[0] /= 1e7"
   ]
  },
  {
   "cell_type": "code",
   "execution_count": null,
   "metadata": {},
   "outputs": [],
   "source": [
    "values"
   ]
  },
  {
   "cell_type": "code",
   "execution_count": null,
   "metadata": {},
   "outputs": [],
   "source": [
    "f = lambda x: 1/x**2"
   ]
  },
  {
   "cell_type": "code",
   "execution_count": null,
   "metadata": {},
   "outputs": [],
   "source": [
    "y = f(centers)"
   ]
  },
  {
   "cell_type": "code",
   "execution_count": null,
   "metadata": {},
   "outputs": [],
   "source": [
    "y"
   ]
  },
  {
   "cell_type": "code",
   "execution_count": null,
   "metadata": {},
   "outputs": [],
   "source": [
    "fig, ax = plt.subplots(nrows=1, ncols=1)\n",
    "ax.step(centers, hist)\n",
    "ax.set_yscale('log')\n",
    "ax.plot(centers, track_length_pdf_shielding(centers, values[0], values[1]))"
   ]
  },
  {
   "cell_type": "code",
   "execution_count": null,
   "metadata": {},
   "outputs": [],
   "source": []
  }
 ],
 "metadata": {
  "kernelspec": {
   "display_name": "Python 3",
   "language": "python",
   "name": "python3"
  },
  "language_info": {
   "codemirror_mode": {
    "name": "ipython",
    "version": 3
   },
   "file_extension": ".py",
   "mimetype": "text/x-python",
   "name": "python",
   "nbconvert_exporter": "python",
   "pygments_lexer": "ipython3",
   "version": "3.6.11"
  }
 },
 "nbformat": 4,
 "nbformat_minor": 4
}
