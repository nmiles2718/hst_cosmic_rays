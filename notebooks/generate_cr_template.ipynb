{
 "cells": [
  {
   "cell_type": "markdown",
   "metadata": {},
   "source": [
    "# Cosmic Ray Simulation"
   ]
  },
  {
   "cell_type": "code",
   "execution_count": 1,
   "metadata": {},
   "outputs": [],
   "source": [
    "%matplotlib widget\n",
    "from collections import defaultdict\n",
    "import glob\n",
    "import os\n",
    "import sys\n",
    "\n",
    "import astropy.constants as physical_constants\n",
    "from astropy.io import fits\n",
    "from astropy.stats import sigma_clipped_stats\n",
    "from astropy.visualization import ImageNormalize, SqrtStretch, LogStretch, LinearStretch, ZScaleInterval, ManualInterval\n",
    "import astropy.units as u\n",
    "import dask.array as da\n",
    "import h5py\n",
    "import iminuit\n",
    "import matplotlib.colors as colors\n",
    "import matplotlib.pyplot as plt\n",
    "import matplotlib.patches as patches\n",
    "from mpl_toolkits.axes_grid1 import make_axes_locatable\n",
    "plt.style.use('ggplot')\n",
    "import numpy as np\n",
    "import pandas as pd\n",
    "from pylandau import landau, langau\n",
    "import scipy.ndimage as ndimage\n",
    "from scipy.optimize import least_squares\n",
    "from tqdm import tqdm\n",
    "\n"
   ]
  },
  {
   "cell_type": "code",
   "execution_count": 2,
   "metadata": {},
   "outputs": [],
   "source": [
    "base_path = os.path.join(os.path.dirname(os.getcwd()))\n",
    "pipeline_path = os.path.join(os.path.dirname(os.getcwd()), 'pipeline/')\n",
    "sys.path.append(pipeline_path)"
   ]
  },
  {
   "cell_type": "code",
   "execution_count": 3,
   "metadata": {},
   "outputs": [
    {
     "data": {
      "text/plain": [
       "'/ifs/missions/projects/plcosmic/hst_cosmic_rays/pipeline/'"
      ]
     },
     "execution_count": 3,
     "metadata": {},
     "output_type": "execute_result"
    }
   ],
   "source": [
    "pipeline_path"
   ]
  },
  {
   "cell_type": "code",
   "execution_count": 4,
   "metadata": {},
   "outputs": [],
   "source": [
    "from label import labeler as lbr\n",
    "from stat_utils import statshandler as sh\n",
    "from utils import datahandler as dh"
   ]
  },
  {
   "cell_type": "code",
   "execution_count": 5,
   "metadata": {},
   "outputs": [],
   "source": [
    "detector_shape = {\n",
    "    'STIS_CCD': (1024, 1024),\n",
    "    'ACS_WFC': (4096, 4096),\n",
    "    'WFPC2': (4*800, 800),\n",
    "    'ACS_HRC': (1024, 1024),\n",
    "    'WFC3_UVIS': (2051*2, 4096)\n",
    "}"
   ]
  },
  {
   "cell_type": "code",
   "execution_count": 6,
   "metadata": {},
   "outputs": [],
   "source": [
    "def reconstruct_cr_mask(cr_pixels, detector_shape):\n",
    "    try:\n",
    "        x_coords = np.array(cr_pixels)[:, 1].astype(np.int16)\n",
    "    except IndexError as e:\n",
    "        return\n",
    "    y_coords = np.array(cr_pixels)[:, 0].astype(np.int16)\n",
    "    array = np.zeros(shape=detector_shape, dtype=np.float32)\n",
    "    array[y_coords, x_coords] = 1.\n",
    "    label, num_sources = ndimage.label(array, structure=np.ones((3,3)))    \n",
    "    return array, label, num_sources"
   ]
  },
  {
   "cell_type": "code",
   "execution_count": 7,
   "metadata": {},
   "outputs": [],
   "source": [
    "def read_random_image(energy, cr_pixels, size, N=1, detector_shape=(1024, 1024)):\n",
    "    flist_tuple = list(zip(energy.hdf5_files, cr_pixels.hdf5_files, size.hdf5_files))\n",
    "    \n",
    "    for (f1, f2, f3) in flist_tuple:\n",
    "        fobj1 = h5py.File(f1, mode='r')\n",
    "        grp1 = fobj1['/energy_deposited']\n",
    "        \n",
    "        fobj2 = h5py.File(f2, mode='r')\n",
    "        grp2 = fobj2['/cr_affected_pixels']\n",
    "        \n",
    "        fobj3 = h5py.File(f3, mode='r')\n",
    "        grp3 = fobj3['/sizes']\n",
    "        \n",
    "        for i, key in tqdm(enumerate(grp1.keys()), total=len(grp1.keys())):\n",
    "      \n",
    "            energy_dset = grp1[key]\n",
    "            missing = False\n",
    "\n",
    "            meta = energy_dset.attrs\n",
    "            if meta['integration_time'] < 500:\n",
    "                continue"
   ]
  },
  {
   "cell_type": "code",
   "execution_count": 8,
   "metadata": {},
   "outputs": [],
   "source": [
    "def read_subset(energy, cr_pixels, size, N=1, detector_shape=(1024, 1024)):\n",
    "    flist_tuple = list(zip(energy.hdf5_files, cr_pixels.hdf5_files, size.hdf5_files))\n",
    "    dout = defaultdict(list)\n",
    "    count = 0\n",
    "    for (f1, f2, f3) in flist_tuple:\n",
    "        fobj1 = h5py.File(f1, mode='r')\n",
    "        grp1 = fobj1['/energy_deposited']\n",
    "        \n",
    "        fobj2 = h5py.File(f2, mode='r')\n",
    "        grp2 = fobj2['/cr_affected_pixels']\n",
    "        \n",
    "        fobj3 = h5py.File(f3, mode='r')\n",
    "        grp3 = fobj3['/sizes']\n",
    "        \n",
    "        for i, key in tqdm(enumerate(grp1.keys()), total=len(grp1.keys())):\n",
    "            # Break the inner loop\n",
    "            if i != N:\n",
    "                continue\n",
    "                \n",
    "            energy_dset = grp1[key]\n",
    "            missing = False\n",
    "\n",
    "            meta = energy_dset.attrs\n",
    "            if meta['integration_time'] < 500:\n",
    "                continue\n",
    "\n",
    "            try:\n",
    "                cr_pixels = grp2[key]\n",
    "            except IndexError as e:\n",
    "                print(e)\n",
    "                missing = True\n",
    "          \n",
    "            try:\n",
    "                size_dset = grp3[key]\n",
    "            except IndexError as e:\n",
    "                print(e)\n",
    "                missing = True\n",
    "                \n",
    "\n",
    "                \n",
    "            if missing:\n",
    "                continue\n",
    "            \n",
    "            crmask, label, num_sources = reconstruct_cr_mask(cr_pixels, detector_shape)\n",
    "            dout['energy_deposited'] += list(energy_dset.value)\n",
    "            dout['size_pix'] += list(size_dset[:][1])\n",
    "            dout['cr_pixels'] += list(cr_pixels.value)\n",
    "           \n",
    "            if i > N: break\n",
    "            \n",
    "        break\n",
    "        \n",
    "    return dout, crmask, label, num_sources, meta"
   ]
  },
  {
   "cell_type": "code",
   "execution_count": 9,
   "metadata": {},
   "outputs": [
    {
     "name": "stderr",
     "output_type": "stream",
     "text": [
      "/ifs/missions/projects/plcosmic/hst_cosmic_rays/pipeline/utils/datahandler.py:220: YAMLLoadWarning: calling yaml.load() without Loader=... is deprecated, as the default Loader is unsafe. Please read https://msg.pyyaml.org/load for full details.\n",
      "  self._cfg = yaml.load(fobj)\n",
      "INFO [datahandler.find_hdf5:301] Found the following data files\n",
      " /ifs/missions/projects/plcosmic/hst_cosmic_rays/results/ACS/acs_wfc_cr_energy_deposited_1.hdf5\n",
      "/ifs/missions/projects/plcosmic/hst_cosmic_rays/results/ACS/acs_wfc_cr_energy_deposited_2.hdf5\n",
      "/ifs/missions/projects/plcosmic/hst_cosmic_rays/results/ACS/acs_wfc_cr_energy_deposited_3.hdf5\n",
      "/ifs/missions/projects/plcosmic/hst_cosmic_rays/results/ACS/acs_wfc_cr_energy_deposited_4.hdf5 \n",
      "-------------------------------------------------------------------------------\n",
      "INFO [datahandler.find_hdf5:301] Found the following data files\n",
      " /ifs/missions/projects/plcosmic/hst_cosmic_rays/results/ACS/acs_wfc_cr_sizes_1.hdf5\n",
      "/ifs/missions/projects/plcosmic/hst_cosmic_rays/results/ACS/acs_wfc_cr_sizes_2.hdf5\n",
      "/ifs/missions/projects/plcosmic/hst_cosmic_rays/results/ACS/acs_wfc_cr_sizes_3.hdf5\n",
      "/ifs/missions/projects/plcosmic/hst_cosmic_rays/results/ACS/acs_wfc_cr_sizes_4.hdf5 \n",
      "-------------------------------------------------------------------------------\n",
      "INFO [datahandler.find_hdf5:301] Found the following data files\n",
      " /ifs/missions/projects/plcosmic/hst_cosmic_rays/results/ACS/acs_wfc_cr_affected_pixels_1.hdf5\n",
      "/ifs/missions/projects/plcosmic/hst_cosmic_rays/results/ACS/acs_wfc_cr_affected_pixels_2.hdf5\n",
      "/ifs/missions/projects/plcosmic/hst_cosmic_rays/results/ACS/acs_wfc_cr_affected_pixels_3.hdf5\n",
      "/ifs/missions/projects/plcosmic/hst_cosmic_rays/results/ACS/acs_wfc_cr_affected_pixels_4.hdf5 \n",
      "-------------------------------------------------------------------------------\n"
     ]
    }
   ],
   "source": [
    "instr = 'ACS_WFC'\n",
    "reader_energy = dh.DataReader(instr=instr, statistic='energy_deposited')\n",
    "reader_energy.find_hdf5()\n",
    "\n",
    "reader_size = dh.DataReader(instr=instr, statistic='sizes')\n",
    "reader_size.find_hdf5()\n",
    "\n",
    "reader_cr_pixels = dh.DataReader(instr=instr, statistic='cr_affected_pixels')\n",
    "reader_cr_pixels.find_hdf5()"
   ]
  },
  {
   "cell_type": "code",
   "execution_count": 10,
   "metadata": {},
   "outputs": [
    {
     "data": {
      "text/plain": [
       "{'search_pattern': '/data/ACS/WFC/mastDownload/HST/*/*flt.fits',\n",
       " 'hdf5_files': {'cr_affected_pixels': '/results/ACS/acs_wfc_cr_affected_pixels.hdf5',\n",
       "  'incident_cr_rate': '/results/ACS/acs_wfc_cr_rate.hdf5',\n",
       "  'sizes': '/results/ACS/acs_wfc_cr_sizes.hdf5',\n",
       "  'shapes': '/results/ACS/acs_wfc_cr_shapes.hdf5',\n",
       "  'energy_deposited': '/results/ACS/acs_wfc_cr_energy_deposited.hdf5'},\n",
       " 'failed': '/results/ACS/acs_wfc_failed_observations.txt',\n",
       " 'astroquery': {'date_range': '2002-03-01',\n",
       "  'SubGroupDescription': ['FLT', 'SPT'],\n",
       "  'download_dir': '/data/ACS/WFC/'},\n",
       " 'crrejtab': '/data/ACS/29p1548cj_crr_WFC.fits',\n",
       " 'instr_params': {'extnums': [1, 2],\n",
       "  'readout_time': 50.0,\n",
       "  'gain_keyword': 'ATODGN*',\n",
       "  'detector_size': 37.748,\n",
       "  'pixel_size': 15}}"
      ]
     },
     "execution_count": 10,
     "metadata": {},
     "output_type": "execute_result"
    }
   ],
   "source": [
    "reader_energy.instr_cfg"
   ]
  },
  {
   "cell_type": "code",
   "execution_count": 11,
   "metadata": {},
   "outputs": [
    {
     "name": "stderr",
     "output_type": "stream",
     "text": [
      "  0%|          | 0/3700 [00:00<?, ?it/s]/user/nmiles/miniconda3/envs/astroconda36/lib/python3.6/site-packages/ipykernel_launcher.py:45: H5pyDeprecationWarning: dataset.value has been deprecated. Use dataset[()] instead.\n",
      "/user/nmiles/miniconda3/envs/astroconda36/lib/python3.6/site-packages/ipykernel_launcher.py:47: H5pyDeprecationWarning: dataset.value has been deprecated. Use dataset[()] instead.\n",
      "100%|██████████| 3700/3700 [00:00<00:00, 5186.24it/s]\n"
     ]
    }
   ],
   "source": [
    "dout, crmask, label, num_sources, meta = read_subset(\n",
    "    reader_energy, \n",
    "    reader_cr_pixels,\n",
    "    reader_size,\n",
    "    N=500,\n",
    "    detector_shape=detector_shape[instr])"
   ]
  },
  {
   "cell_type": "code",
   "execution_count": 12,
   "metadata": {},
   "outputs": [
    {
     "data": {
      "application/vnd.jupyter.widget-view+json": {
       "model_id": "033297ca90374cf5aa0eb64b334d6105",
       "version_major": 2,
       "version_minor": 0
      },
      "text/plain": [
       "Canvas(toolbar=Toolbar(toolitems=[('Home', 'Reset original view', 'home', 'home'), ('Back', 'Back to previous …"
      ]
     },
     "metadata": {},
     "output_type": "display_data"
    },
    {
     "data": {
      "text/plain": [
       "Text(0, 0.5, 'Y [pix]')"
      ]
     },
     "execution_count": 12,
     "metadata": {},
     "output_type": "execute_result"
    }
   ],
   "source": [
    "fig, ax = plt.subplots(nrows=1, ncols=1)\n",
    "ax.imshow(crmask, interpolation='nearest',  origin='lower')\n",
    "ax.grid(False)\n",
    "ax.set_xlabel('X [pix]')\n",
    "ax.set_ylabel('Y [pix]')\n",
    "# ax.set_title('Reconstructed STIS/CCD CR map')"
   ]
  },
  {
   "cell_type": "code",
   "execution_count": 13,
   "metadata": {},
   "outputs": [],
   "source": [
    "def add_cr_energy(crmask, label, dout):\n",
    "    label_ids = np.unique(label.flatten())[1:]\n",
    "    mask_out = crmask.astype(np.float32)\n",
    "    for idx in tqdm(label_ids):\n",
    "        npix = dout['size_pix'][idx-1]\n",
    "        deposition = dout['energy_deposited'][idx-1]\n",
    "        scaling = np.random.random(size=int(npix))\n",
    "        scaling_norm = scaling/scaling.sum()\n",
    "        mask_out[label==idx] = scaling_norm * deposition\n",
    "    return mask_out"
   ]
  },
  {
   "cell_type": "code",
   "execution_count": 14,
   "metadata": {},
   "outputs": [
    {
     "name": "stderr",
     "output_type": "stream",
     "text": [
      "100%|██████████| 58643/58643 [12:22<00:00, 79.03it/s]\n"
     ]
    }
   ],
   "source": [
    "crmask_final = add_cr_energy(crmask, label, dout)"
   ]
  },
  {
   "cell_type": "code",
   "execution_count": 15,
   "metadata": {},
   "outputs": [],
   "source": [
    "norm = ImageNormalize(crmask_final, stretch=LinearStretch(), vmin=0, vmax=100)"
   ]
  },
  {
   "cell_type": "code",
   "execution_count": 16,
   "metadata": {},
   "outputs": [
    {
     "data": {
      "application/vnd.jupyter.widget-view+json": {
       "model_id": "c16a911d2e9a40788dbc835d1dc143c4",
       "version_major": 2,
       "version_minor": 0
      },
      "text/plain": [
       "Canvas(toolbar=Toolbar(toolitems=[('Home', 'Reset original view', 'home', 'home'), ('Back', 'Back to previous …"
      ]
     },
     "metadata": {},
     "output_type": "display_data"
    },
    {
     "data": {
      "text/plain": [
       "Text(0, 0.5, 'Y [pix]')"
      ]
     },
     "execution_count": 16,
     "metadata": {},
     "output_type": "execute_result"
    }
   ],
   "source": [
    "fig, ax = plt.subplots(nrows=1, ncols=1)\n",
    "ax.imshow(crmask_final, norm=norm,  origin='lower', cmap='gray')\n",
    "ax.grid(False)\n",
    "ax.set_xlabel('X [pix]')\n",
    "ax.set_ylabel('Y [pix]')\n",
    "# ax.set_title('Reconstructed STIS/CCD CR map')"
   ]
  },
  {
   "cell_type": "code",
   "execution_count": 45,
   "metadata": {},
   "outputs": [
    {
     "data": {
      "text/latex": [
       "$1.0657913 \\; \\mathrm{}$"
      ],
      "text/plain": [
       "<Quantity 1.0657913>"
      ]
     },
     "execution_count": 45,
     "metadata": {},
     "output_type": "execute_result"
    }
   ],
   "source": [
    "1. *u.GeV / (938.27 * u.MeV).to('GeV')"
   ]
  },
  {
   "cell_type": "code",
   "execution_count": 42,
   "metadata": {},
   "outputs": [
    {
     "data": {
      "text/plain": [
       "0.344006856370373"
      ]
     },
     "execution_count": 42,
     "metadata": {},
     "output_type": "execute_result"
    }
   ],
   "source": [
    "np.sqrt(1-(1/1.065**2))"
   ]
  },
  {
   "cell_type": "code",
   "execution_count": 46,
   "metadata": {},
   "outputs": [],
   "source": [
    "numerator = 2 * (0.511 *u.MeV) * (2.065**2 - 1)\n",
    "denominator = 1 + 2 * 2.065 * (0.511/938.27) +(0.511/938.27)**2"
   ]
  },
  {
   "cell_type": "code",
   "execution_count": 54,
   "metadata": {},
   "outputs": [
    {
     "data": {
      "text/latex": [
       "$3.3285501 \\; \\mathrm{MeV}$"
      ],
      "text/plain": [
       "<Quantity 3.32855013 MeV>"
      ]
     },
     "execution_count": 54,
     "metadata": {},
     "output_type": "execute_result"
    }
   ],
   "source": [
    "numerator/denominator"
   ]
  },
  {
   "cell_type": "code",
   "execution_count": 55,
   "metadata": {},
   "outputs": [
    {
     "data": {
      "text/plain": [
       "0.8749233100364877"
      ]
     },
     "execution_count": 55,
     "metadata": {},
     "output_type": "execute_result"
    }
   ],
   "source": [
    "np.sqrt((2.065**2 -1)/2.065**2)"
   ]
  },
  {
   "cell_type": "code",
   "execution_count": 52,
   "metadata": {},
   "outputs": [],
   "source": [
    "k = (100 *u.keV).to('MeV') / (numerator/denominator)"
   ]
  },
  {
   "cell_type": "code",
   "execution_count": 53,
   "metadata": {},
   "outputs": [
    {
     "data": {
      "text/latex": [
       "$0.030043111 \\; \\mathrm{}$"
      ],
      "text/plain": [
       "<Quantity 0.03004311>"
      ]
     },
     "execution_count": 53,
     "metadata": {},
     "output_type": "execute_result"
    }
   ],
   "source": [
    "k"
   ]
  },
  {
   "cell_type": "code",
   "execution_count": null,
   "metadata": {},
   "outputs": [],
   "source": [
    "chip1 = crmask_final[:800,:]\n",
    "chip2 = crmask_final[800:1600,:]\n",
    "chip3 = crmask_final[1600:2400, :]\n",
    "chip4 = crmask_final[2400:, :]"
   ]
  },
  {
   "cell_type": "code",
   "execution_count": 18,
   "metadata": {},
   "outputs": [],
   "source": [
    "chip1 = crmask_final[:2051,:].copy()\n",
    "chip2 = crmask_final[2051:,:].copy()"
   ]
  },
  {
   "cell_type": "code",
   "execution_count": null,
   "metadata": {},
   "outputs": [],
   "source": [
    "chip1 = crmask_final"
   ]
  },
  {
   "cell_type": "code",
   "execution_count": 19,
   "metadata": {},
   "outputs": [
    {
     "data": {
      "application/vnd.jupyter.widget-view+json": {
       "model_id": "e15c14539ebd48b3882892e331013aa2",
       "version_major": 2,
       "version_minor": 0
      },
      "text/plain": [
       "Canvas(toolbar=Toolbar(toolitems=[('Home', 'Reset original view', 'home', 'home'), ('Back', 'Back to previous …"
      ]
     },
     "metadata": {},
     "output_type": "display_data"
    },
    {
     "data": {
      "text/plain": [
       "Text(0, 0.5, 'Y [pix]')"
      ]
     },
     "execution_count": 19,
     "metadata": {},
     "output_type": "execute_result"
    }
   ],
   "source": [
    "fig, ax = plt.subplots(nrows=1, ncols=1)\n",
    "ax.imshow(chip1, norm=norm,  origin='lower', cmap='gray')\n",
    "ax.grid(False)\n",
    "ax.set_xlabel('X [pix]')\n",
    "ax.set_ylabel('Y [pix]')\n",
    "# ax.set_title('Reconstructed STIS/CCD CR map')"
   ]
  },
  {
   "cell_type": "code",
   "execution_count": 20,
   "metadata": {},
   "outputs": [],
   "source": [
    "hdr_keys = ['date','integration_time']"
   ]
  },
  {
   "cell_type": "code",
   "execution_count": 21,
   "metadata": {},
   "outputs": [
    {
     "data": {
      "text/plain": [
       "('2002-07-28 12:42:08.000', 1050.0)"
      ]
     },
     "execution_count": 21,
     "metadata": {},
     "output_type": "execute_result"
    }
   ],
   "source": [
    "meta['date'], meta['integration_time']"
   ]
  },
  {
   "cell_type": "code",
   "execution_count": 22,
   "metadata": {},
   "outputs": [
    {
     "data": {
      "text/plain": [
       "58643"
      ]
     },
     "execution_count": 22,
     "metadata": {},
     "output_type": "execute_result"
    }
   ],
   "source": [
    "num_sources"
   ]
  },
  {
   "cell_type": "code",
   "execution_count": 23,
   "metadata": {},
   "outputs": [
    {
     "data": {
      "text/plain": [
       "58643"
      ]
     },
     "execution_count": 23,
     "metadata": {},
     "output_type": "execute_result"
    }
   ],
   "source": [
    "np.unique(label)[1:].size"
   ]
  },
  {
   "cell_type": "code",
   "execution_count": 24,
   "metadata": {},
   "outputs": [
    {
     "data": {
      "text/plain": [
       "37.748"
      ]
     },
     "execution_count": 24,
     "metadata": {},
     "output_type": "execute_result"
    }
   ],
   "source": [
    "reader_energy.instr_cfg['instr_params']['detector_size']"
   ]
  },
  {
   "cell_type": "code",
   "execution_count": 25,
   "metadata": {},
   "outputs": [
    {
     "data": {
      "text/plain": [
       "{'extnums': [1, 2],\n",
       " 'readout_time': 50.0,\n",
       " 'gain_keyword': 'ATODGN*',\n",
       " 'detector_size': 37.748,\n",
       " 'pixel_size': 15}"
      ]
     },
     "execution_count": 25,
     "metadata": {},
     "output_type": "execute_result"
    }
   ],
   "source": [
    "reader_energy.instr_cfg['instr_params']"
   ]
  },
  {
   "cell_type": "code",
   "execution_count": 26,
   "metadata": {},
   "outputs": [],
   "source": [
    "avg_cr_rate = {\n",
    "    'WFPC2': 1.189,\n",
    "    'WFC3_UVIS': 1.199,\n",
    "    'ACS_WFC':1.165,\n",
    "    'STIS_CCD':0.956,\n",
    "    'ACS_HRC':1.013,\n",
    "}"
   ]
  },
  {
   "cell_type": "code",
   "execution_count": 27,
   "metadata": {},
   "outputs": [],
   "source": [
    "hdr = fits.Header()\n",
    "hdr['instr'] = instr\n",
    "hdr['inttime'] = (meta['integration_time'], 'total integration time')\n",
    "\n",
    "hdr['exptime'] = (meta['integration_time'] - reader_energy.instr_cfg['instr_params']['readout_time'], 'commanded exposure time')\n",
    "hdr['date'] = (meta['date'], 'date of observation')\n",
    "hdr['num_cr'] = (num_sources, 'number of crs in template')\n",
    "hdr['det_area'] = (reader_energy.instr_cfg['instr_params']['detector_size'],'physical det. size [cm^2]')\n",
    "hdr['cr_flux'] = (avg_cr_rate[instr],'avg CR flux [CR/s/cm^2]')\n",
    "hdr['cr_rate'] = (round(avg_cr_rate[instr]*reader_energy.instr_cfg['instr_params']['detector_size'],2), 'avg CR rate [CR/s]')"
   ]
  },
  {
   "cell_type": "code",
   "execution_count": 28,
   "metadata": {},
   "outputs": [
    {
     "data": {
      "text/plain": [
       "INSTR   = 'ACS_WFC '                                                            \n",
       "INTTIME =               1050.0 / total integration time                         \n",
       "EXPTIME =               1000.0 / commanded exposure time                        \n",
       "DATE    = '2002-07-28 12:42:08.000' / date of observation                       \n",
       "NUM_CR  =                58643 / number of crs in template                      \n",
       "DET_AREA=               37.748 / physical det. size [cm^2]                      \n",
       "CR_FLUX =                1.165 / avg CR flux [CR/s/cm^2]                        \n",
       "CR_RATE =                43.98 / avg CR rate [CR/s]                             "
      ]
     },
     "execution_count": 28,
     "metadata": {},
     "output_type": "execute_result"
    }
   ],
   "source": [
    "hdr"
   ]
  },
  {
   "cell_type": "code",
   "execution_count": null,
   "metadata": {},
   "outputs": [],
   "source": [
    "chips_to_process = [chip2, chip1]"
   ]
  },
  {
   "cell_type": "code",
   "execution_count": null,
   "metadata": {},
   "outputs": [],
   "source": [
    "hdulist = fits.HDUList()\n",
    "hdulist.append(fits.PrimaryHDU(header=hdr))\n",
    "for chip in chips_to_process:\n",
    "    hdulist.append(fits.ImageHDU(data=chip))"
   ]
  },
  {
   "cell_type": "code",
   "execution_count": null,
   "metadata": {},
   "outputs": [],
   "source": [
    "instr.lower()"
   ]
  },
  {
   "cell_type": "code",
   "execution_count": null,
   "metadata": {},
   "outputs": [],
   "source": [
    "# hdulist.writeto(f'{instr.lower()}_cr_template.fits', overwrite=True)"
   ]
  },
  {
   "cell_type": "code",
   "execution_count": 37,
   "metadata": {},
   "outputs": [],
   "source": [
    "def trim_template(cr_template, hdr, exptime=100):\n",
    "    expected_num_crs = np.ceil(exptime * hdr['cr_rate'])\n",
    "    print(expected_num_crs)\n",
    "    cr_mask = np.where(cr_template > 0 , 1, 0)\n",
    "    label, num_crs = ndimage.label(cr_mask, structure=np.ones((3,3)))\n",
    "    indices = np.unique(label)[1:]\n",
    "    print(num_crs)\n",
    "    num_to_remove = num_crs - expected_num_crs\n",
    "    crs_to_remove = np.random.choice(indices, size=int(num_to_remove))\n",
    "    for idx in tqdm(crs_to_remove):\n",
    "        cr_template[label==idx] = 0\n",
    "    return cr_template\n",
    "    "
   ]
  },
  {
   "cell_type": "code",
   "execution_count": 38,
   "metadata": {},
   "outputs": [
    {
     "data": {
      "text/plain": [
       "array([[0., 0., 0., ..., 0., 0., 0.],\n",
       "       [0., 0., 0., ..., 0., 0., 0.],\n",
       "       [0., 0., 0., ..., 0., 0., 0.],\n",
       "       ...,\n",
       "       [0., 0., 0., ..., 0., 0., 0.],\n",
       "       [0., 0., 0., ..., 0., 0., 0.],\n",
       "       [0., 0., 0., ..., 0., 0., 0.]], dtype=float32)"
      ]
     },
     "execution_count": 38,
     "metadata": {},
     "output_type": "execute_result"
    }
   ],
   "source": [
    "chip1"
   ]
  },
  {
   "cell_type": "code",
   "execution_count": 39,
   "metadata": {},
   "outputs": [
    {
     "name": "stdout",
     "output_type": "stream",
     "text": [
      "1320.0\n"
     ]
    },
    {
     "name": "stderr",
     "output_type": "stream",
     "text": [
      "  0%|          | 19/27452 [00:00<02:24, 189.65it/s]"
     ]
    },
    {
     "name": "stdout",
     "output_type": "stream",
     "text": [
      "28772\n"
     ]
    },
    {
     "name": "stderr",
     "output_type": "stream",
     "text": [
      "100%|██████████| 27452/27452 [02:20<00:00, 195.12it/s]\n"
     ]
    }
   ],
   "source": [
    "chip1_altered = alter_template(chip1.copy(), hdr, exptime=30)"
   ]
  },
  {
   "cell_type": "code",
   "execution_count": 36,
   "metadata": {},
   "outputs": [
    {
     "data": {
      "application/vnd.jupyter.widget-view+json": {
       "model_id": "cc55ced97a1a49619c04cb7ac671e843",
       "version_major": 2,
       "version_minor": 0
      },
      "text/plain": [
       "Canvas(toolbar=Toolbar(toolitems=[('Home', 'Reset original view', 'home', 'home'), ('Back', 'Back to previous …"
      ]
     },
     "metadata": {},
     "output_type": "display_data"
    }
   ],
   "source": [
    "fig, ax = plt.subplots(nrows=2, ncols=1, sharex=True, sharey=True)\n",
    "ax[0].imshow(chip1, norm=norm,  origin='lower', cmap='gray')\n",
    "ax[1].imshow(chip1_altered, norm=norm,  origin='lower', cmap='gray')\n",
    "for a in ax:\n",
    "    a.grid(False)\n",
    "    a.set_xlabel('X [pix]')\n",
    "    a.set_ylabel('Y [pix]')\n",
    "# ax.set_title('Reconstructed STIS/CCD CR map')"
   ]
  },
  {
   "cell_type": "code",
   "execution_count": null,
   "metadata": {},
   "outputs": [],
   "source": []
  }
 ],
 "metadata": {
  "kernelspec": {
   "display_name": "Python 3",
   "language": "python",
   "name": "python3"
  },
  "language_info": {
   "codemirror_mode": {
    "name": "ipython",
    "version": 3
   },
   "file_extension": ".py",
   "mimetype": "text/x-python",
   "name": "python",
   "nbconvert_exporter": "python",
   "pygments_lexer": "ipython3",
   "version": "3.6.11"
  }
 },
 "nbformat": 4,
 "nbformat_minor": 4
}
