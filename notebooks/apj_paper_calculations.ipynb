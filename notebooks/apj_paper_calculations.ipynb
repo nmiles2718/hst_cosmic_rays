{
 "cells": [
  {
   "cell_type": "markdown",
   "metadata": {},
   "source": [
    "## Computing the values presented in the APJ paper\n",
    "\n",
    "        "
   ]
  },
  {
   "cell_type": "markdown",
   "metadata": {},
   "source": [
    "Converting particle rigidity in GV to particle momentum in GeV/c\n",
    "\n",
    "The particle rigidity is computed as,\n",
    "\n",
    "$$ \n",
    "F = ma <=> qvB = mv^2/r_L\\\\\n",
    "Br_L = mv/q\n",
    "$$\n",
    "\n",
    "Note that if we multiply both sides by the speed of light,\n",
    "\n",
    "$$\n",
    "R=Br_Lc = mvc/q\n",
    "$$\n",
    "The resulting expression has units of energy per charge. In SI units, this is the volt, V=J/C. Thus, the particle rigidity, in units of volts is,\n",
    "\n",
    "$$\n",
    "R=pc/ze\n",
    "$$\n",
    "\n",
    "$p$ = particle momentum = $mv$\n",
    "\n",
    "$c$ = speed of light\n",
    "\n",
    "$z$ = atomic charge (e.g. +1 for proton, -1 for electron)\n",
    "\n",
    "$e$ = fundamental charge constant, 1.607e-19 C"
   ]
  },
  {
   "cell_type": "markdown",
   "metadata": {},
   "source": [
    "1) Compute the Kinetic Energy of a proton with a magnetic rigidity of 5GV.\n",
    "\n",
    "Calculation:\n",
    "\n",
    "- Compute the momentum of the proton using equation above\n",
    "    - 5GV = pc\n",
    "\n"
   ]
  }
 ],
 "metadata": {
  "kernelspec": {
   "display_name": "Python 3",
   "language": "python",
   "name": "python3"
  },
  "language_info": {
   "codemirror_mode": {
    "name": "ipython",
    "version": 3
   },
   "file_extension": ".py",
   "mimetype": "text/x-python",
   "name": "python",
   "nbconvert_exporter": "python",
   "pygments_lexer": "ipython3",
   "version": "3.6.11"
  }
 },
 "nbformat": 4,
 "nbformat_minor": 4
}
